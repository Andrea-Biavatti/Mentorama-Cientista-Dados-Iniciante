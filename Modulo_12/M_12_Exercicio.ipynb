{
 "cells": [
  {
   "cell_type": "markdown",
   "metadata": {},
   "source": [
    "### Modelos baseados em árvores\n",
    "\n",
    "<br>\n",
    "\n",
    "Ao longo do módulo, discutimos bastante as árvores de decisão, bem como ensemble de árvores, como Random Forest e algoritmos do tipo boosting.\n",
    "\n",
    "Esses __ensembles acabam tendo muitos hiperparâmetros;__ escolhe-los de forma manual acaba sendo muito custoso e tedioso. \n",
    "\n",
    "Neste exercício, vamos discutir a respeito da metolodia __grid-search__, que otimiza essa busca de hiperparâmetros.\n",
    "\n",
    "Considere o dataset abaixo (basta executar as células):"
   ]
  },
  {
   "cell_type": "code",
   "execution_count": 1,
   "metadata": {},
   "outputs": [],
   "source": [
    "import pandas as pd\n",
    "import numpy as np\n",
    "import matplotlib.pyplot as plt\n",
    "from sklearn.linear_model import LogisticRegression\n",
    "from sklearn.tree import DecisionTreeClassifier\n",
    "from sklearn.metrics import accuracy_score\n",
    "from sklearn.ensemble import VotingClassifier, RandomForestRegressor, GradientBoostingRegressor\n",
    "from sklearn.model_selection import cross_val_score, GridSearchCV\n",
    "from sklearn.preprocessing import OneHotEncoder, StandardScaler\n",
    "from sklearn.neighbors import KNeighborsRegressor, KNeighborsClassifier"
   ]
  },
  {
   "cell_type": "code",
   "execution_count": 2,
   "metadata": {},
   "outputs": [],
   "source": [
    "import warnings\n",
    "warnings.filterwarnings(\"ignore\")"
   ]
  },
  {
   "cell_type": "code",
   "execution_count": 3,
   "metadata": {},
   "outputs": [],
   "source": [
    "from sklearn.datasets import load_diabetes\n",
    "from sklearn.model_selection import train_test_split"
   ]
  },
  {
   "cell_type": "code",
   "execution_count": 4,
   "metadata": {},
   "outputs": [
    {
     "name": "stdout",
     "output_type": "stream",
     "text": [
      "(331, 10) (111, 10) (331,) (111,)\n"
     ]
    }
   ],
   "source": [
    "#problema de regressão\n",
    "\n",
    "X, y = load_diabetes().data, load_diabetes().target\n",
    "Xtrain, Xtest, ytrain, ytest = train_test_split(X, y, test_size = 0.25, random_state = 42)\n",
    "print(Xtrain.shape, Xtest.shape, ytrain.shape, ytest.shape)"
   ]
  },
  {
   "cell_type": "markdown",
   "metadata": {},
   "source": [
    "Imagine que queremos testar - usando cross-validation - várias instâncias de Random Forests: com 10 árvores, com 100 árvores, com 1000 árvores, com profundidade máxima 1, 5, 10. \n",
    "\n",
    "Como podemos proceder? O código abaixo exemplifica um jeito:"
   ]
  },
  {
   "cell_type": "code",
   "execution_count": 5,
   "metadata": {},
   "outputs": [
    {
     "name": "stdout",
     "output_type": "stream",
     "text": [
      "estimators:  10  prof:  1  | R2 mean / std:  0.3069775455317219  /  0.07298129325778088\n",
      "estimators:  10  prof:  5  | R2 mean / std:  0.3798506868379006  /  0.053844391068582506\n",
      "estimators:  10  prof:  10  | R2 mean / std:  0.39138487310448683  /  0.07014887701337358\n",
      "estimators:  100  prof:  1  | R2 mean / std:  0.341212460663741  /  0.037377129311028004\n",
      "estimators:  100  prof:  5  | R2 mean / std:  0.4378058207159179  /  0.034852937667966426\n",
      "estimators:  100  prof:  10  | R2 mean / std:  0.4224950778070913  /  0.0469991182770584\n",
      "estimators:  100  prof:  1  | R2 mean / std:  0.3361904282903458  /  0.03829008607722517\n",
      "estimators:  100  prof:  5  | R2 mean / std:  0.4232511439779066  /  0.04003382623409143\n",
      "estimators:  100  prof:  10  | R2 mean / std:  0.41928938520859244  /  0.03806701943867207\n"
     ]
    }
   ],
   "source": [
    "for n_est in [10,100,100]:\n",
    "    for prof in [1,5,10]:\n",
    "        rf = RandomForestRegressor(n_estimators=n_est, max_depth=prof)\n",
    "        cvres = cross_val_score(estimator=rf, X = Xtrain, y = ytrain, cv = 3, scoring='r2')\n",
    "        print(\"estimators: \", n_est, \" prof: \", prof, \" | R2 mean / std: \", cvres.mean(), ' / ', cvres.std())"
   ]
  },
  {
   "cell_type": "markdown",
   "metadata": {},
   "source": [
    "Podemos, com algum trabalho, escolher o melhor modelo.\n",
    "\n",
    "Se quisermos testar mais parâmetros, podemos aumentar nosso loop... mais isso vai ficando cada vez mais complicado.\n",
    "\n",
    "A proposta do __grid-search__ é justamente fazer isso de forma mais automática!\n",
    "\n",
    "Podemos importar a função GridSearchCV do módulo model_selection do sklearn e usá-la para isso. \n",
    "Na prática, precisamos definir um __estimador base__ para o grid. Além disso, precisamos definir um __dicionário de parâmetros__ a ser testado. Ainda, definiremos a quantidade de folds para cross-validation e qual a métrica de performance que queremos otimizar:"
   ]
  },
  {
   "cell_type": "code",
   "execution_count": 6,
   "metadata": {},
   "outputs": [],
   "source": [
    "#definindo o estimador base\n",
    "estimador_base = RandomForestRegressor()\n",
    "\n",
    "#definindo o dicionario de parâmetros do modelo\n",
    "params_RF = {\"n_estimators\":[10,1000], \"max_depth\":[2,10]}"
   ]
  },
  {
   "cell_type": "code",
   "execution_count": 7,
   "metadata": {},
   "outputs": [
    {
     "data": {
      "text/plain": [
       "GridSearchCV(cv=3, estimator=RandomForestRegressor(),\n",
       "             param_grid={'max_depth': [2, 10], 'n_estimators': [10, 1000]},\n",
       "             scoring='r2')"
      ]
     },
     "execution_count": 7,
     "metadata": {},
     "output_type": "execute_result"
    }
   ],
   "source": [
    "grid = GridSearchCV(estimator = estimador_base, \n",
    "                    param_grid = params_RF, \n",
    "                    scoring = 'r2', \n",
    "                    cv = 3)\n",
    "\n",
    "grid"
   ]
  },
  {
   "cell_type": "code",
   "execution_count": 8,
   "metadata": {},
   "outputs": [
    {
     "data": {
      "text/plain": [
       "GridSearchCV(cv=3, estimator=RandomForestRegressor(),\n",
       "             param_grid={'max_depth': [2, 10], 'n_estimators': [10, 1000]},\n",
       "             scoring='r2')"
      ]
     },
     "execution_count": 8,
     "metadata": {},
     "output_type": "execute_result"
    }
   ],
   "source": [
    "#treinando os modelos no grid\n",
    "grid.fit(Xtrain, ytrain)"
   ]
  },
  {
   "cell_type": "markdown",
   "metadata": {},
   "source": [
    "O objeto \"grid\", após o treinamento acima, conterá várias informações muito relevantes. \n",
    "\n",
    "__1- \"best_params_\":__ retorna os melhores parâmetros, de acordo com a métrica de performance avaliada na cross-validation;\n",
    "\n",
    "__1- \"best_score_\":__ retorna o melhor score - métrica de performance - nos dados de validação;\n",
    "\n",
    "__1- \"best_estimator_\":__ retorna o melhor modelo, já treinado;\n",
    "\n",
    "__1- \"cv_results_\":__ retorna uma visão geral dos resultados."
   ]
  },
  {
   "cell_type": "code",
   "execution_count": 9,
   "metadata": {},
   "outputs": [
    {
     "data": {
      "text/plain": [
       "{'max_depth': 10, 'n_estimators': 1000}"
      ]
     },
     "execution_count": 9,
     "metadata": {},
     "output_type": "execute_result"
    }
   ],
   "source": [
    "grid.best_params_"
   ]
  },
  {
   "cell_type": "code",
   "execution_count": 10,
   "metadata": {},
   "outputs": [
    {
     "data": {
      "text/plain": [
       "0.42103851634944833"
      ]
     },
     "execution_count": 10,
     "metadata": {},
     "output_type": "execute_result"
    }
   ],
   "source": [
    "grid.best_score_"
   ]
  },
  {
   "cell_type": "code",
   "execution_count": 11,
   "metadata": {},
   "outputs": [
    {
     "data": {
      "text/plain": [
       "RandomForestRegressor(max_depth=10, n_estimators=1000)"
      ]
     },
     "execution_count": 11,
     "metadata": {},
     "output_type": "execute_result"
    }
   ],
   "source": [
    "grid.best_estimator_"
   ]
  },
  {
   "cell_type": "code",
   "execution_count": 12,
   "metadata": {},
   "outputs": [
    {
     "data": {
      "text/plain": [
       "{'mean_fit_time': array([0.01433905, 0.87700597, 0.01286674, 1.28846971]),\n",
       " 'std_fit_time': array([0.00613737, 0.00928666, 0.00048005, 0.03294322]),\n",
       " 'mean_score_time': array([0.00133761, 0.05917041, 0.00106335, 0.06278745]),\n",
       " 'std_score_time': array([4.74689508e-04, 4.39519429e-03, 8.95199592e-05, 1.02020482e-03]),\n",
       " 'param_max_depth': masked_array(data=[2, 2, 10, 10],\n",
       "              mask=[False, False, False, False],\n",
       "        fill_value='?',\n",
       "             dtype=object),\n",
       " 'param_n_estimators': masked_array(data=[10, 1000, 10, 1000],\n",
       "              mask=[False, False, False, False],\n",
       "        fill_value='?',\n",
       "             dtype=object),\n",
       " 'params': [{'max_depth': 2, 'n_estimators': 10},\n",
       "  {'max_depth': 2, 'n_estimators': 1000},\n",
       "  {'max_depth': 10, 'n_estimators': 10},\n",
       "  {'max_depth': 10, 'n_estimators': 1000}],\n",
       " 'split0_test_score': array([0.35999232, 0.35290495, 0.29757566, 0.36529506]),\n",
       " 'split1_test_score': array([0.43558556, 0.44873962, 0.38261396, 0.45090448]),\n",
       " 'split2_test_score': array([0.40043186, 0.429698  , 0.38590563, 0.44691601]),\n",
       " 'mean_test_score': array([0.39866991, 0.41044752, 0.35536508, 0.42103852]),\n",
       " 'std_test_score': array([0.03088595, 0.04142468, 0.04088538, 0.03945019]),\n",
       " 'rank_test_score': array([3, 2, 4, 1])}"
      ]
     },
     "execution_count": 12,
     "metadata": {},
     "output_type": "execute_result"
    }
   ],
   "source": [
    "grid.cv_results_"
   ]
  },
  {
   "cell_type": "markdown",
   "metadata": {},
   "source": [
    "__Exercício 1:__ Utilizando o dataset abaixo, faça um grid_search com KNN's, Random Forests e GradientBoostings e retorne o melhor modelo de cada tipo.\n",
    "\n",
    "__Obs.:__ Lembre-se de fazer um pré-processamento nos dados!"
   ]
  },
  {
   "cell_type": "code",
   "execution_count": 13,
   "metadata": {},
   "outputs": [
    {
     "name": "stdout",
     "output_type": "stream",
     "text": [
      "(20640, 10)\n"
     ]
    },
    {
     "data": {
      "text/html": [
       "<div>\n",
       "<style scoped>\n",
       "    .dataframe tbody tr th:only-of-type {\n",
       "        vertical-align: middle;\n",
       "    }\n",
       "\n",
       "    .dataframe tbody tr th {\n",
       "        vertical-align: top;\n",
       "    }\n",
       "\n",
       "    .dataframe thead th {\n",
       "        text-align: right;\n",
       "    }\n",
       "</style>\n",
       "<table border=\"1\" class=\"dataframe\">\n",
       "  <thead>\n",
       "    <tr style=\"text-align: right;\">\n",
       "      <th></th>\n",
       "      <th>longitude</th>\n",
       "      <th>latitude</th>\n",
       "      <th>idade_mediana_das_casas</th>\n",
       "      <th>total_comodos</th>\n",
       "      <th>total_quartos</th>\n",
       "      <th>populacao</th>\n",
       "      <th>familias</th>\n",
       "      <th>salario_mediano</th>\n",
       "      <th>preco_mediano_das_casas</th>\n",
       "      <th>proximidade_ao_mar</th>\n",
       "    </tr>\n",
       "  </thead>\n",
       "  <tbody>\n",
       "    <tr>\n",
       "      <th>0</th>\n",
       "      <td>-122.23</td>\n",
       "      <td>37.88</td>\n",
       "      <td>41.0</td>\n",
       "      <td>880.0</td>\n",
       "      <td>129.0</td>\n",
       "      <td>322.0</td>\n",
       "      <td>126.0</td>\n",
       "      <td>8.3252</td>\n",
       "      <td>452600.0</td>\n",
       "      <td>PERTO DA BAÍA</td>\n",
       "    </tr>\n",
       "    <tr>\n",
       "      <th>1</th>\n",
       "      <td>-122.22</td>\n",
       "      <td>37.86</td>\n",
       "      <td>21.0</td>\n",
       "      <td>7099.0</td>\n",
       "      <td>1106.0</td>\n",
       "      <td>2401.0</td>\n",
       "      <td>1138.0</td>\n",
       "      <td>8.3014</td>\n",
       "      <td>358500.0</td>\n",
       "      <td>PERTO DA BAÍA</td>\n",
       "    </tr>\n",
       "    <tr>\n",
       "      <th>2</th>\n",
       "      <td>-122.24</td>\n",
       "      <td>37.85</td>\n",
       "      <td>52.0</td>\n",
       "      <td>1467.0</td>\n",
       "      <td>190.0</td>\n",
       "      <td>496.0</td>\n",
       "      <td>177.0</td>\n",
       "      <td>7.2574</td>\n",
       "      <td>352100.0</td>\n",
       "      <td>PERTO DA BAÍA</td>\n",
       "    </tr>\n",
       "    <tr>\n",
       "      <th>3</th>\n",
       "      <td>-122.25</td>\n",
       "      <td>37.85</td>\n",
       "      <td>52.0</td>\n",
       "      <td>1274.0</td>\n",
       "      <td>235.0</td>\n",
       "      <td>558.0</td>\n",
       "      <td>219.0</td>\n",
       "      <td>5.6431</td>\n",
       "      <td>341300.0</td>\n",
       "      <td>PERTO DA BAÍA</td>\n",
       "    </tr>\n",
       "    <tr>\n",
       "      <th>4</th>\n",
       "      <td>-122.25</td>\n",
       "      <td>37.85</td>\n",
       "      <td>52.0</td>\n",
       "      <td>1627.0</td>\n",
       "      <td>280.0</td>\n",
       "      <td>565.0</td>\n",
       "      <td>259.0</td>\n",
       "      <td>3.8462</td>\n",
       "      <td>342200.0</td>\n",
       "      <td>PERTO DA BAÍA</td>\n",
       "    </tr>\n",
       "  </tbody>\n",
       "</table>\n",
       "</div>"
      ],
      "text/plain": [
       "   longitude  latitude  idade_mediana_das_casas  total_comodos  total_quartos  \\\n",
       "0    -122.23     37.88                     41.0          880.0          129.0   \n",
       "1    -122.22     37.86                     21.0         7099.0         1106.0   \n",
       "2    -122.24     37.85                     52.0         1467.0          190.0   \n",
       "3    -122.25     37.85                     52.0         1274.0          235.0   \n",
       "4    -122.25     37.85                     52.0         1627.0          280.0   \n",
       "\n",
       "   populacao  familias  salario_mediano  preco_mediano_das_casas  \\\n",
       "0      322.0     126.0           8.3252                 452600.0   \n",
       "1     2401.0    1138.0           8.3014                 358500.0   \n",
       "2      496.0     177.0           7.2574                 352100.0   \n",
       "3      558.0     219.0           5.6431                 341300.0   \n",
       "4      565.0     259.0           3.8462                 342200.0   \n",
       "\n",
       "  proximidade_ao_mar  \n",
       "0      PERTO DA BAÍA  \n",
       "1      PERTO DA BAÍA  \n",
       "2      PERTO DA BAÍA  \n",
       "3      PERTO DA BAÍA  \n",
       "4      PERTO DA BAÍA  "
      ]
     },
     "execution_count": 13,
     "metadata": {},
     "output_type": "execute_result"
    }
   ],
   "source": [
    "#preco_mediano_das_casas é a variável target\n",
    "df = pd.read_csv(\"preco_casas.csv\")\n",
    "print(df.shape)\n",
    "df.head()"
   ]
  },
  {
   "cell_type": "code",
   "execution_count": 14,
   "metadata": {},
   "outputs": [
    {
     "name": "stdout",
     "output_type": "stream",
     "text": [
      "<class 'pandas.core.frame.DataFrame'>\n",
      "RangeIndex: 20640 entries, 0 to 20639\n",
      "Data columns (total 10 columns):\n",
      " #   Column                   Non-Null Count  Dtype  \n",
      "---  ------                   --------------  -----  \n",
      " 0   longitude                20640 non-null  float64\n",
      " 1   latitude                 20640 non-null  float64\n",
      " 2   idade_mediana_das_casas  20640 non-null  float64\n",
      " 3   total_comodos            20640 non-null  float64\n",
      " 4   total_quartos            20433 non-null  float64\n",
      " 5   populacao                20640 non-null  float64\n",
      " 6   familias                 20640 non-null  float64\n",
      " 7   salario_mediano          20640 non-null  float64\n",
      " 8   preco_mediano_das_casas  20640 non-null  float64\n",
      " 9   proximidade_ao_mar       20640 non-null  object \n",
      "dtypes: float64(9), object(1)\n",
      "memory usage: 1.6+ MB\n"
     ]
    }
   ],
   "source": [
    "# analisando a composição do dataframe\n",
    "df.info()"
   ]
  },
  {
   "cell_type": "code",
   "execution_count": 15,
   "metadata": {},
   "outputs": [
    {
     "data": {
      "text/plain": [
       "longitude                    0\n",
       "latitude                     0\n",
       "idade_mediana_das_casas      0\n",
       "total_comodos                0\n",
       "total_quartos              207\n",
       "populacao                    0\n",
       "familias                     0\n",
       "salario_mediano              0\n",
       "preco_mediano_das_casas      0\n",
       "proximidade_ao_mar           0\n",
       "dtype: int64"
      ]
     },
     "execution_count": 15,
     "metadata": {},
     "output_type": "execute_result"
    }
   ],
   "source": [
    "#verificando os valores nulos\n",
    "df.isnull().sum()"
   ]
  },
  {
   "cell_type": "code",
   "execution_count": 16,
   "metadata": {},
   "outputs": [
    {
     "data": {
      "text/plain": [
       "longitude                  0.0\n",
       "latitude                   0.0\n",
       "idade_mediana_das_casas    0.0\n",
       "total_comodos              0.0\n",
       "total_quartos              1.0\n",
       "populacao                  0.0\n",
       "familias                   0.0\n",
       "salario_mediano            0.0\n",
       "preco_mediano_das_casas    0.0\n",
       "proximidade_ao_mar         0.0\n",
       "dtype: float64"
      ]
     },
     "execution_count": 16,
     "metadata": {},
     "output_type": "execute_result"
    }
   ],
   "source": [
    "# em percentual\n",
    "((df.isnull().sum() / df.shape[0]) * 100).round(2)"
   ]
  },
  {
   "cell_type": "code",
   "execution_count": 17,
   "metadata": {},
   "outputs": [],
   "source": [
    "# Calcular a média do total de quartos e preencher os dados faltantes com a média do total de quartos\n",
    "media_total_quartos = df.total_quartos.mean()\n",
    "df.total_quartos = df.total_quartos.fillna(media_total_quartos)"
   ]
  },
  {
   "cell_type": "code",
   "execution_count": 18,
   "metadata": {},
   "outputs": [
    {
     "data": {
      "text/plain": [
       "longitude                  0.0\n",
       "latitude                   0.0\n",
       "idade_mediana_das_casas    0.0\n",
       "total_comodos              0.0\n",
       "total_quartos              0.0\n",
       "populacao                  0.0\n",
       "familias                   0.0\n",
       "salario_mediano            0.0\n",
       "preco_mediano_das_casas    0.0\n",
       "proximidade_ao_mar         0.0\n",
       "dtype: float64"
      ]
     },
     "execution_count": 18,
     "metadata": {},
     "output_type": "execute_result"
    }
   ],
   "source": [
    "((df.isnull().sum() / df.shape[0]) * 100).round(2)"
   ]
  },
  {
   "cell_type": "code",
   "execution_count": 19,
   "metadata": {},
   "outputs": [
    {
     "name": "stdout",
     "output_type": "stream",
     "text": [
      "(20640, 10)\n",
      "(15480, 10)\n",
      "(5160, 10)\n"
     ]
    }
   ],
   "source": [
    "# separação de 25% dos dados para teste\n",
    "\n",
    "dftrain, dftest = train_test_split(df, test_size = 0.25, random_state = 0)\n",
    "print(df.shape)\n",
    "print(dftrain.shape)\n",
    "print(dftest.shape)"
   ]
  },
  {
   "cell_type": "code",
   "execution_count": 20,
   "metadata": {},
   "outputs": [],
   "source": [
    "#preprocessamento dos dados\n",
    "\n",
    "def preprocessamento_completo(df, dataset_de_treino = True, cat_encoder = None, std_scaler = None):\n",
    "\n",
    "    dff = df.copy()\n",
    "\n",
    "    \n",
    "    variaveis_para_normalizar = ['latitude',\n",
    "                                 'longitude',\n",
    "                                 'idade_mediana_das_casas',\n",
    "                                 'total_comodos',\n",
    "                                 'total_quartos',\n",
    "                                 'populacao',\n",
    "                                 'familias',\n",
    "                                 'salario_mediano']\n",
    "\n",
    "    if dataset_de_treino:  \n",
    "        \n",
    "        #OHE\n",
    "        encoder = OneHotEncoder()\n",
    "        df_prox_mar_OHE = encoder.fit_transform(dff[['proximidade_ao_mar']]).toarray()\n",
    "\n",
    "        #normalização\n",
    "        sc = StandardScaler()\n",
    "        variaveis_norm = sc.fit_transform(dff[variaveis_para_normalizar])\n",
    "        \n",
    "        X, y =  np.c_[df_prox_mar_OHE, variaveis_norm], dff.preco_mediano_das_casas.values\n",
    "        return X, y, encoder, sc\n",
    "    \n",
    "    else:\n",
    "        #OHE\n",
    "        df_prox_mar_OHE = cat_encoder.transform(dff[['proximidade_ao_mar']]).toarray()\n",
    "        \n",
    "        #normalização\n",
    "        variaveis_norm = std_scaler.transform(dff[variaveis_para_normalizar]) \n",
    "        \n",
    "        X, y =  np.c_[df_prox_mar_OHE, variaveis_norm], dff.preco_mediano_das_casas.values\n",
    "        return X, y"
   ]
  },
  {
   "cell_type": "code",
   "execution_count": 21,
   "metadata": {},
   "outputs": [],
   "source": [
    "Xtrain, ytrain, encoder_train, scaler_train  = preprocessamento_completo(df = dftrain,\n",
    "                                                                         dataset_de_treino = True, \n",
    "                                                                         cat_encoder = None, \n",
    "                                                                         std_scaler = None)"
   ]
  },
  {
   "cell_type": "code",
   "execution_count": 22,
   "metadata": {},
   "outputs": [
    {
     "data": {
      "text/plain": [
       "((15480, 13), (15480,), (15480, 10))"
      ]
     },
     "execution_count": 22,
     "metadata": {},
     "output_type": "execute_result"
    }
   ],
   "source": [
    "Xtrain.shape, ytrain.shape, dftrain.shape"
   ]
  },
  {
   "cell_type": "code",
   "execution_count": 23,
   "metadata": {},
   "outputs": [],
   "source": [
    "Xtest, ytest = preprocessamento_completo(df = dftest, \n",
    "                                         dataset_de_treino = False, \n",
    "                                         cat_encoder = encoder_train, \n",
    "                                         std_scaler = scaler_train)"
   ]
  },
  {
   "cell_type": "code",
   "execution_count": 24,
   "metadata": {},
   "outputs": [
    {
     "data": {
      "text/plain": [
       "((5160, 13), (5160,), (5160, 10))"
      ]
     },
     "execution_count": 24,
     "metadata": {},
     "output_type": "execute_result"
    }
   ],
   "source": [
    "Xtest.shape, ytest.shape, dftest.shape"
   ]
  },
  {
   "cell_type": "markdown",
   "metadata": {},
   "source": [
    " > estimador_base = RandomForestRegressor()\n",
    " \n",
    " > params_RF = {\"n_estimators\":[10,1000], \"max_depth\":[2,10]}"
   ]
  },
  {
   "cell_type": "code",
   "execution_count": 25,
   "metadata": {},
   "outputs": [
    {
     "data": {
      "text/plain": [
       "GridSearchCV(cv=3, estimator=RandomForestRegressor(),\n",
       "             param_grid={'max_depth': [2, 10], 'n_estimators': [10, 1000]},\n",
       "             scoring='r2')"
      ]
     },
     "execution_count": 25,
     "metadata": {},
     "output_type": "execute_result"
    }
   ],
   "source": [
    "#treinando os modelos no grid\n",
    "grid.fit(Xtrain, ytrain)"
   ]
  },
  {
   "cell_type": "code",
   "execution_count": 26,
   "metadata": {},
   "outputs": [
    {
     "data": {
      "text/plain": [
       "{'max_depth': 10, 'n_estimators': 1000}"
      ]
     },
     "execution_count": 26,
     "metadata": {},
     "output_type": "execute_result"
    }
   ],
   "source": [
    "# retorna os melhores parâmetros, de acordo com a métrica de performance avaliada na cross-validation\n",
    "grid.best_params_"
   ]
  },
  {
   "cell_type": "code",
   "execution_count": 27,
   "metadata": {},
   "outputs": [
    {
     "data": {
      "text/plain": [
       "0.7794110234821418"
      ]
     },
     "execution_count": 27,
     "metadata": {},
     "output_type": "execute_result"
    }
   ],
   "source": [
    "# retorna o melhor score - métrica de performance - nos dados de validação\n",
    "grid.best_score_"
   ]
  },
  {
   "cell_type": "code",
   "execution_count": 28,
   "metadata": {},
   "outputs": [
    {
     "data": {
      "text/plain": [
       "RandomForestRegressor(max_depth=10, n_estimators=1000)"
      ]
     },
     "execution_count": 28,
     "metadata": {},
     "output_type": "execute_result"
    }
   ],
   "source": [
    "# retorna o melhor modelo, já treinado\n",
    "grid.best_estimator_"
   ]
  },
  {
   "cell_type": "code",
   "execution_count": 29,
   "metadata": {},
   "outputs": [
    {
     "data": {
      "text/plain": [
       "{'mean_fit_time': array([ 0.0838356 ,  8.61683623,  0.34616089, 33.07699434]),\n",
       " 'std_fit_time': array([0.00598561, 0.03114257, 0.01384295, 0.53188267]),\n",
       " 'mean_score_time': array([0.00205604, 0.16598511, 0.00632095, 0.50775091]),\n",
       " 'std_score_time': array([9.46673553e-05, 2.36321849e-02, 4.76462734e-04, 1.12114110e-02]),\n",
       " 'param_max_depth': masked_array(data=[2, 2, 10, 10],\n",
       "              mask=[False, False, False, False],\n",
       "        fill_value='?',\n",
       "             dtype=object),\n",
       " 'param_n_estimators': masked_array(data=[10, 1000, 10, 1000],\n",
       "              mask=[False, False, False, False],\n",
       "        fill_value='?',\n",
       "             dtype=object),\n",
       " 'params': [{'max_depth': 2, 'n_estimators': 10},\n",
       "  {'max_depth': 2, 'n_estimators': 1000},\n",
       "  {'max_depth': 10, 'n_estimators': 10},\n",
       "  {'max_depth': 10, 'n_estimators': 1000}],\n",
       " 'split0_test_score': array([0.51549746, 0.52066203, 0.7651655 , 0.77856164]),\n",
       " 'split1_test_score': array([0.50402416, 0.50710643, 0.75488963, 0.76927419]),\n",
       " 'split2_test_score': array([0.5176094 , 0.51623852, 0.77995708, 0.79039724]),\n",
       " 'mean_test_score': array([0.51237701, 0.51466899, 0.76667074, 0.77941102]),\n",
       " 'std_test_score': array([0.00596895, 0.00564424, 0.01028894, 0.00864434]),\n",
       " 'rank_test_score': array([4, 3, 2, 1])}"
      ]
     },
     "execution_count": 29,
     "metadata": {},
     "output_type": "execute_result"
    }
   ],
   "source": [
    "# retorna uma visão geral dos resultados\n",
    "grid.cv_results_"
   ]
  },
  {
   "cell_type": "markdown",
   "metadata": {},
   "source": [
    " > KNN's"
   ]
  },
  {
   "cell_type": "code",
   "execution_count": 30,
   "metadata": {},
   "outputs": [],
   "source": [
    "#definindo o estimador base\n",
    "estimador_base = KNeighborsRegressor()\n",
    "\n",
    "#definindo o dicionario de parâmetros do modelo\n",
    "params_KN = {\"n_neighbors\":[3,5]}"
   ]
  },
  {
   "cell_type": "code",
   "execution_count": 31,
   "metadata": {},
   "outputs": [
    {
     "data": {
      "text/plain": [
       "GridSearchCV(cv=3, estimator=KNeighborsRegressor(),\n",
       "             param_grid={'n_neighbors': [3, 5]}, scoring='r2')"
      ]
     },
     "execution_count": 31,
     "metadata": {},
     "output_type": "execute_result"
    }
   ],
   "source": [
    "grid = GridSearchCV(estimator = estimador_base, \n",
    "                    param_grid = params_KN, \n",
    "                    scoring = 'r2', \n",
    "                    cv = 3)\n",
    "\n",
    "grid"
   ]
  },
  {
   "cell_type": "code",
   "execution_count": 32,
   "metadata": {},
   "outputs": [
    {
     "data": {
      "text/plain": [
       "GridSearchCV(cv=3, estimator=KNeighborsRegressor(),\n",
       "             param_grid={'n_neighbors': [3, 5]}, scoring='r2')"
      ]
     },
     "execution_count": 32,
     "metadata": {},
     "output_type": "execute_result"
    }
   ],
   "source": [
    "grid.fit(Xtrain, ytrain)"
   ]
  },
  {
   "cell_type": "code",
   "execution_count": 33,
   "metadata": {},
   "outputs": [
    {
     "data": {
      "text/plain": [
       "{'n_neighbors': 5}"
      ]
     },
     "execution_count": 33,
     "metadata": {},
     "output_type": "execute_result"
    }
   ],
   "source": [
    "grid.best_params_"
   ]
  },
  {
   "cell_type": "code",
   "execution_count": 34,
   "metadata": {},
   "outputs": [
    {
     "data": {
      "text/plain": [
       "0.7082688097580078"
      ]
     },
     "execution_count": 34,
     "metadata": {},
     "output_type": "execute_result"
    }
   ],
   "source": [
    "grid.best_score_"
   ]
  },
  {
   "cell_type": "code",
   "execution_count": 35,
   "metadata": {},
   "outputs": [
    {
     "data": {
      "text/plain": [
       "KNeighborsRegressor()"
      ]
     },
     "execution_count": 35,
     "metadata": {},
     "output_type": "execute_result"
    }
   ],
   "source": [
    "grid.best_estimator_"
   ]
  },
  {
   "cell_type": "code",
   "execution_count": 36,
   "metadata": {},
   "outputs": [
    {
     "data": {
      "text/plain": [
       "{'mean_fit_time': array([0.03698802, 0.03124563]),\n",
       " 'std_fit_time': array([0.00433046, 0.00053477]),\n",
       " 'mean_score_time': array([0.14699594, 0.1432093 ]),\n",
       " 'std_score_time': array([0.03423861, 0.0057848 ]),\n",
       " 'param_n_neighbors': masked_array(data=[3, 5],\n",
       "              mask=[False, False],\n",
       "        fill_value='?',\n",
       "             dtype=object),\n",
       " 'params': [{'n_neighbors': 3}, {'n_neighbors': 5}],\n",
       " 'split0_test_score': array([0.69798389, 0.71734822]),\n",
       " 'split1_test_score': array([0.6779018 , 0.69463067]),\n",
       " 'split2_test_score': array([0.69109671, 0.71282754]),\n",
       " 'mean_test_score': array([0.68899413, 0.70826881]),\n",
       " 'std_test_score': array([0.00833219, 0.00981863]),\n",
       " 'rank_test_score': array([2, 1])}"
      ]
     },
     "execution_count": 36,
     "metadata": {},
     "output_type": "execute_result"
    }
   ],
   "source": [
    "grid.cv_results_"
   ]
  },
  {
   "cell_type": "markdown",
   "metadata": {},
   "source": [
    " > GradientBoostings"
   ]
  },
  {
   "cell_type": "code",
   "execution_count": 37,
   "metadata": {},
   "outputs": [],
   "source": [
    "#definindo o estimador base\n",
    "estimador_base = GradientBoostingRegressor()\n",
    "\n",
    "#definindo o dicionario de parâmetros do modelo\n",
    "params_GB = {\"n_estimators\":[1,100], \"max_depth\":[1,10]}"
   ]
  },
  {
   "cell_type": "code",
   "execution_count": 38,
   "metadata": {},
   "outputs": [
    {
     "data": {
      "text/plain": [
       "GridSearchCV(cv=3, estimator=GradientBoostingRegressor(),\n",
       "             param_grid={'max_depth': [1, 10], 'n_estimators': [1, 100]},\n",
       "             scoring='r2')"
      ]
     },
     "execution_count": 38,
     "metadata": {},
     "output_type": "execute_result"
    }
   ],
   "source": [
    "grid = GridSearchCV(estimator = estimador_base, \n",
    "                    param_grid = params_GB, \n",
    "                    scoring = 'r2', \n",
    "                    cv = 3)\n",
    "\n",
    "grid"
   ]
  },
  {
   "cell_type": "code",
   "execution_count": 39,
   "metadata": {},
   "outputs": [
    {
     "data": {
      "text/plain": [
       "GridSearchCV(cv=3, estimator=GradientBoostingRegressor(),\n",
       "             param_grid={'max_depth': [1, 10], 'n_estimators': [1, 100]},\n",
       "             scoring='r2')"
      ]
     },
     "execution_count": 39,
     "metadata": {},
     "output_type": "execute_result"
    }
   ],
   "source": [
    "grid.fit(Xtrain, ytrain)"
   ]
  },
  {
   "cell_type": "code",
   "execution_count": 40,
   "metadata": {},
   "outputs": [
    {
     "data": {
      "text/plain": [
       "{'max_depth': 10, 'n_estimators': 100}"
      ]
     },
     "execution_count": 40,
     "metadata": {},
     "output_type": "execute_result"
    }
   ],
   "source": [
    "grid.best_params_"
   ]
  },
  {
   "cell_type": "code",
   "execution_count": 41,
   "metadata": {},
   "outputs": [
    {
     "data": {
      "text/plain": [
       "0.8152178459960693"
      ]
     },
     "execution_count": 41,
     "metadata": {},
     "output_type": "execute_result"
    }
   ],
   "source": [
    "grid.best_score_"
   ]
  },
  {
   "cell_type": "code",
   "execution_count": 42,
   "metadata": {},
   "outputs": [
    {
     "data": {
      "text/plain": [
       "GradientBoostingRegressor(max_depth=10)"
      ]
     },
     "execution_count": 42,
     "metadata": {},
     "output_type": "execute_result"
    }
   ],
   "source": [
    "grid.best_estimator_"
   ]
  },
  {
   "cell_type": "code",
   "execution_count": 43,
   "metadata": {},
   "outputs": [
    {
     "data": {
      "text/plain": [
       "{'mean_fit_time': array([0.00973312, 0.58169508, 0.05427837, 5.19459923]),\n",
       " 'std_fit_time': array([0.00247681, 0.01351303, 0.00286312, 0.06168727]),\n",
       " 'mean_score_time': array([0.00100215, 0.00300431, 0.00067234, 0.03140291]),\n",
       " 'std_score_time': array([4.05233662e-07, 1.83824693e-05, 4.75490138e-04, 5.75351056e-04]),\n",
       " 'param_max_depth': masked_array(data=[1, 1, 10, 10],\n",
       "              mask=[False, False, False, False],\n",
       "        fill_value='?',\n",
       "             dtype=object),\n",
       " 'param_n_estimators': masked_array(data=[1, 100, 1, 100],\n",
       "              mask=[False, False, False, False],\n",
       "        fill_value='?',\n",
       "             dtype=object),\n",
       " 'params': [{'max_depth': 1, 'n_estimators': 1},\n",
       "  {'max_depth': 1, 'n_estimators': 100},\n",
       "  {'max_depth': 10, 'n_estimators': 1},\n",
       "  {'max_depth': 10, 'n_estimators': 100}],\n",
       " 'split0_test_score': array([0.06022928, 0.63994132, 0.14325367, 0.81032833]),\n",
       " 'split1_test_score': array([0.0580644 , 0.6258332 , 0.14087658, 0.80944029]),\n",
       " 'split2_test_score': array([0.06060371, 0.63516483, 0.14547144, 0.82588492]),\n",
       " 'mean_test_score': array([0.05963246, 0.63364645, 0.14320056, 0.81521785]),\n",
       " 'std_test_score': array([0.00111928, 0.00585883, 0.00187622, 0.00755147]),\n",
       " 'rank_test_score': array([4, 2, 3, 1])}"
      ]
     },
     "execution_count": 43,
     "metadata": {},
     "output_type": "execute_result"
    }
   ],
   "source": [
    "grid.cv_results_"
   ]
  },
  {
   "cell_type": "markdown",
   "metadata": {},
   "source": [
    "----"
   ]
  },
  {
   "cell_type": "markdown",
   "metadata": {},
   "source": [
    "__Exercício 2:__ Crie uma classe para comparar o grid_search dentre vários modelos distintos.\n",
    "    \n",
    "    \n",
    "Essa classe, gridSearchAll(), já está pré-desenvolvida no código abaixo. O exercício consiste de __completar essa classe.__ Para isso, crie o métodos fit_all, que irá treinar, usando grid_search, todos os grids que tenham sido pré-construídos e inseridos na classe.\n",
    "Ainda, a quantidade de folds para a validação cruzada no grid_search deve ser implementada no método construtor da classe, bem como qual a métrica de performance a ser avaliada. \n",
    "Finalmente, salve o melhor modelo de cada grid e tenha um método best_all_grid_models que retorna o melhor modelo dentre todos os grids."
   ]
  },
  {
   "cell_type": "code",
   "execution_count": 143,
   "metadata": {},
   "outputs": [],
   "source": [
    "class gridSearchAll():\n",
    "    \n",
    "    def __init__(self):\n",
    "        self.grid_models = []\n",
    "        \n",
    "    \n",
    "    def insert_model(self, estimator_base, param_grid):\n",
    "        self.grid_models.append([estimator_base, param_grid])\n",
    "\n",
    "        \n",
    "    def fit_all(self, cv, scoring, X, y):\n",
    "        for est,param in gd.grid_models:\n",
    "            grid = GridSearchCV(cv=cv, estimator=est, param_grid=param,scoring=scoring)\n",
    "            grid.fit(X,y)\n",
    "        \n",
    "    \n",
    "    def best_all_grid_models(self):\n",
    "        return {'Best params': grid.best_params_, \n",
    "                'Best score':grid.best_score_, \n",
    "                'Best estimator': grid.best_estimator_, \n",
    "                'Results': grid.cv_results_}"
   ]
  },
  {
   "cell_type": "markdown",
   "metadata": {},
   "source": [
    "----"
   ]
  },
  {
   "cell_type": "markdown",
   "metadata": {},
   "source": [
    "__Exercício 3:__ Usando a classe criada, analise novamente os modelos criados no exercício 1."
   ]
  },
  {
   "cell_type": "code",
   "execution_count": 144,
   "metadata": {},
   "outputs": [],
   "source": [
    "gd = gridSearchAll()"
   ]
  },
  {
   "cell_type": "code",
   "execution_count": 145,
   "metadata": {},
   "outputs": [
    {
     "data": {
      "text/plain": [
       "[]"
      ]
     },
     "execution_count": 145,
     "metadata": {},
     "output_type": "execute_result"
    }
   ],
   "source": [
    "gd.grid_models"
   ]
  },
  {
   "cell_type": "code",
   "execution_count": 146,
   "metadata": {},
   "outputs": [],
   "source": [
    "params_RF = {\"n_estimators\":[10,1000], \"max_depth\":[2,10]}\n",
    "params_KN = {\"n_neighbors\":[3,5]}\n",
    "params_GB = {\"n_estimators\":[1,100], \"max_depth\":[1,10]}"
   ]
  },
  {
   "cell_type": "code",
   "execution_count": 147,
   "metadata": {},
   "outputs": [
    {
     "data": {
      "text/plain": [
       "[]"
      ]
     },
     "execution_count": 147,
     "metadata": {},
     "output_type": "execute_result"
    }
   ],
   "source": [
    "gd.grid_models"
   ]
  },
  {
   "cell_type": "code",
   "execution_count": 148,
   "metadata": {},
   "outputs": [],
   "source": [
    "gd.insert_model(estimator_base = RandomForestRegressor(), param_grid = params_RF)\n",
    "gd.insert_model(estimator_base = KNeighborsRegressor(), param_grid = params_KN)\n",
    "gd.insert_model(estimator_base = GradientBoostingRegressor(), param_grid = params_GB)"
   ]
  },
  {
   "cell_type": "code",
   "execution_count": 149,
   "metadata": {},
   "outputs": [
    {
     "data": {
      "text/plain": [
       "[[RandomForestRegressor(), {'n_estimators': [10, 1000], 'max_depth': [2, 10]}],\n",
       " [KNeighborsRegressor(), {'n_neighbors': [3, 5]}],\n",
       " [GradientBoostingRegressor(),\n",
       "  {'n_estimators': [1, 100], 'max_depth': [1, 10]}]]"
      ]
     },
     "execution_count": 149,
     "metadata": {},
     "output_type": "execute_result"
    }
   ],
   "source": [
    "gd.grid_models"
   ]
  },
  {
   "cell_type": "code",
   "execution_count": 150,
   "metadata": {},
   "outputs": [],
   "source": [
    "gd.fit_all(3, 'r2', Xtrain, ytrain)"
   ]
  },
  {
   "cell_type": "code",
   "execution_count": 151,
   "metadata": {},
   "outputs": [
    {
     "data": {
      "text/plain": [
       "{'Best params': {'max_depth': 10, 'n_estimators': 100},\n",
       " 'Best score': 0.8148095658030723,\n",
       " 'Best estimator': GradientBoostingRegressor(max_depth=10),\n",
       " 'Results': {'mean_fit_time': array([0.00908287, 0.56839991, 0.05028343, 5.14320151]),\n",
       "  'std_fit_time': array([0.00154293, 0.00556429, 0.00046534, 0.0537923 ]),\n",
       "  'mean_score_time': array([0.00124256, 0.00311526, 0.00102584, 0.03027662]),\n",
       "  'std_score_time': array([1.12600577e-03, 6.74333654e-05, 2.42471682e-05, 4.45790140e-04]),\n",
       "  'param_max_depth': masked_array(data=[1, 1, 10, 10],\n",
       "               mask=[False, False, False, False],\n",
       "         fill_value='?',\n",
       "              dtype=object),\n",
       "  'param_n_estimators': masked_array(data=[1, 100, 1, 100],\n",
       "               mask=[False, False, False, False],\n",
       "         fill_value='?',\n",
       "              dtype=object),\n",
       "  'params': [{'max_depth': 1, 'n_estimators': 1},\n",
       "   {'max_depth': 1, 'n_estimators': 100},\n",
       "   {'max_depth': 10, 'n_estimators': 1},\n",
       "   {'max_depth': 10, 'n_estimators': 100}],\n",
       "  'split0_test_score': array([0.06022928, 0.63994132, 0.14313538, 0.81097443]),\n",
       "  'split1_test_score': array([0.0580644 , 0.6258332 , 0.14202969, 0.80681046]),\n",
       "  'split2_test_score': array([0.06060371, 0.63516483, 0.14519948, 0.82664381]),\n",
       "  'mean_test_score': array([0.05963246, 0.63364645, 0.14345485, 0.81480957]),\n",
       "  'std_test_score': array([0.00111928, 0.00585883, 0.00131363, 0.00853899]),\n",
       "  'rank_test_score': array([4, 2, 3, 1])}}"
      ]
     },
     "execution_count": 151,
     "metadata": {},
     "output_type": "execute_result"
    }
   ],
   "source": [
    "gd.best_all_grid_models()"
   ]
  },
  {
   "cell_type": "markdown",
   "metadata": {},
   "source": [
    "----"
   ]
  },
  {
   "cell_type": "code",
   "execution_count": null,
   "metadata": {},
   "outputs": [],
   "source": []
  }
 ],
 "metadata": {
  "kernelspec": {
   "display_name": "Python 3 (ipykernel)",
   "language": "python",
   "name": "python3"
  },
  "language_info": {
   "codemirror_mode": {
    "name": "ipython",
    "version": 3
   },
   "file_extension": ".py",
   "mimetype": "text/x-python",
   "name": "python",
   "nbconvert_exporter": "python",
   "pygments_lexer": "ipython3",
   "version": "3.9.12"
  }
 },
 "nbformat": 4,
 "nbformat_minor": 2
}
