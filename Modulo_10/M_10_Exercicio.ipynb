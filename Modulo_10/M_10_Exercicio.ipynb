{
 "cells": [
  {
   "cell_type": "markdown",
   "metadata": {},
   "source": [
    "Neste exercício, vamos seguir usando o dataset MNIST, assim como nas aulas:"
   ]
  },
  {
   "cell_type": "code",
   "execution_count": 31,
   "metadata": {},
   "outputs": [],
   "source": [
    "import pandas as pd\n",
    "import numpy as np\n",
    "import matplotlib.pyplot as plt\n",
    "\n",
    "import warnings\n",
    "warnings.filterwarnings(\"ignore\")\n",
    "\n",
    "from sklearn.datasets import fetch_openml\n",
    "from sklearn.linear_model import LogisticRegression\n",
    "from sklearn.metrics import roc_curve, roc_auc_score, f1_score, precision_score, recall_score"
   ]
  },
  {
   "cell_type": "code",
   "execution_count": 2,
   "metadata": {},
   "outputs": [],
   "source": [
    "mnist = fetch_openml('mnist_784', version=1)\n",
    "X, y = mnist[\"data\"], mnist[\"target\"].astype(float)"
   ]
  },
  {
   "cell_type": "code",
   "execution_count": 3,
   "metadata": {},
   "outputs": [],
   "source": [
    "X = np.array(X)"
   ]
  },
  {
   "cell_type": "code",
   "execution_count": 4,
   "metadata": {},
   "outputs": [],
   "source": [
    "y = np.array(y)"
   ]
  },
  {
   "cell_type": "markdown",
   "metadata": {},
   "source": [
    "O __objetivo__ aqui será construir um algoritmo que faça a __predição se um dígito é par ou ímpar.__\n",
    "\n",
    "Para isso, faça um tratamento inicial na variável target.\n",
    "\n",
    "Use a __AUC__ como métrica de performance.\n",
    "\n",
    "Teste diferentes versões do KNN-Classifier, bem como a regressão logística. \n",
    "\n",
    "Use a __metodologia de validação cruzada__, implementando manualmente a AUC, conforme feito nas aulas.\n",
    "\n",
    "Plote as __curvas ROC__ dos algoritmos."
   ]
  },
  {
   "cell_type": "code",
   "execution_count": 5,
   "metadata": {},
   "outputs": [],
   "source": [
    "# Como os dados já estão aleatorizado, a separação foi feita com 55000 instâncias para treino e 15000 para teste\n",
    "\n",
    "Xtrain, Xtest, ytrain, ytest = X[:55000], X[55000:], y[:55000], y[55000:]"
   ]
  },
  {
   "cell_type": "code",
   "execution_count": 6,
   "metadata": {},
   "outputs": [
    {
     "data": {
      "text/plain": [
       "((55000, 784), (15000, 784), (55000,), (15000,))"
      ]
     },
     "execution_count": 6,
     "metadata": {},
     "output_type": "execute_result"
    }
   ],
   "source": [
    "Xtrain.shape, Xtest.shape, ytrain.shape, ytest.shape"
   ]
  },
  {
   "cell_type": "code",
   "execution_count": 7,
   "metadata": {},
   "outputs": [
    {
     "data": {
      "text/plain": [
       "array([5., 0., 4., ..., 0., 4., 0.])"
      ]
     },
     "execution_count": 7,
     "metadata": {},
     "output_type": "execute_result"
    }
   ],
   "source": [
    "ytrain"
   ]
  },
  {
   "cell_type": "code",
   "execution_count": 8,
   "metadata": {},
   "outputs": [],
   "source": [
    "# Abaixo, transformamos nossa variável target para assumir 2 valores apenas:\n",
    "# - irá valer 1 se o dígito for par;\n",
    "# - irá valer 0 se o dígito for ímpar.\n",
    "\n",
    "ytrain = np.where(ytrain%2 == 0, 1, 0)\n",
    "ytest = np.where(ytest%2 == 0, 1, 0)"
   ]
  },
  {
   "cell_type": "code",
   "execution_count": 9,
   "metadata": {},
   "outputs": [
    {
     "data": {
      "text/plain": [
       "array([0, 1, 1, ..., 1, 1, 1])"
      ]
     },
     "execution_count": 9,
     "metadata": {},
     "output_type": "execute_result"
    }
   ],
   "source": [
    "ytrain"
   ]
  },
  {
   "cell_type": "code",
   "execution_count": 10,
   "metadata": {},
   "outputs": [
    {
     "data": {
      "text/plain": [
       "array([0, 1, 1, ..., 1, 0, 1])"
      ]
     },
     "execution_count": 10,
     "metadata": {},
     "output_type": "execute_result"
    }
   ],
   "source": [
    "ytest"
   ]
  },
  {
   "cell_type": "code",
   "execution_count": 11,
   "metadata": {},
   "outputs": [
    {
     "name": "stdout",
     "output_type": "stream",
     "text": [
      "Percentual de classe positiva:  49.154545454545456 %\n",
      "Percentual de classe negativa:  50.84545454545455 %\n"
     ]
    }
   ],
   "source": [
    "# Vejamos o balanceamento da nossa variável target:\n",
    "\n",
    "print('Percentual de classe positiva: ',(ytrain.sum() / ytrain.size) * 100, '%')\n",
    "print('Percentual de classe negativa: ',((ytrain.size-ytrain.sum()) / ytrain.size) * 100, '%')"
   ]
  },
  {
   "cell_type": "markdown",
   "metadata": {},
   "source": [
    "O dataset ficou bem balanceado."
   ]
  },
  {
   "cell_type": "markdown",
   "metadata": {},
   "source": [
    "----"
   ]
  },
  {
   "cell_type": "code",
   "execution_count": 12,
   "metadata": {},
   "outputs": [
    {
     "data": {
      "text/plain": [
       "LogisticRegression()"
      ]
     },
     "execution_count": 12,
     "metadata": {},
     "output_type": "execute_result"
    }
   ],
   "source": [
    "# Instanciamos o modelo\n",
    "logreg = LogisticRegression()\n",
    "\n",
    "# Fitamos o objeto instanciado nos dados de treino\n",
    "logreg.fit(Xtrain, ytrain)"
   ]
  },
  {
   "cell_type": "markdown",
   "metadata": {},
   "source": [
    "Tendo treinado o algorimo, podemos fazer as predições.\n",
    "\n",
    "Primeiro, vamos acessar os valores de  𝜃 :"
   ]
  },
  {
   "cell_type": "code",
   "execution_count": 13,
   "metadata": {},
   "outputs": [
    {
     "name": "stdout",
     "output_type": "stream",
     "text": [
      "[-0.00096029]\n",
      "[[ 0.00000000e+00  0.00000000e+00  0.00000000e+00  0.00000000e+00\n",
      "   0.00000000e+00  0.00000000e+00  0.00000000e+00  0.00000000e+00\n",
      "   0.00000000e+00  0.00000000e+00  0.00000000e+00  0.00000000e+00\n",
      "   1.37045481e-05  3.27104331e-05  3.00702983e-06  1.25292910e-07\n",
      "   0.00000000e+00  0.00000000e+00  0.00000000e+00  0.00000000e+00\n",
      "   0.00000000e+00  0.00000000e+00  0.00000000e+00  0.00000000e+00\n",
      "   0.00000000e+00  0.00000000e+00  0.00000000e+00  0.00000000e+00\n",
      "   0.00000000e+00  0.00000000e+00  0.00000000e+00  0.00000000e+00\n",
      "   3.20834403e-07  9.93020389e-07  2.57962324e-05  4.77975239e-05\n",
      "   7.04035797e-05  4.93754290e-05  8.29766686e-05  1.20424855e-04\n",
      "   2.05525782e-04  2.88619395e-04  1.04435175e-06 -1.51574727e-04\n",
      "   2.26522415e-04  1.58010329e-04  6.54367833e-05  7.41712297e-05\n",
      "   7.15030516e-05  3.05181641e-05  5.61725723e-06  3.22644014e-06\n",
      "   0.00000000e+00  0.00000000e+00  0.00000000e+00  0.00000000e+00\n",
      "   0.00000000e+00  0.00000000e+00  5.20811686e-07  8.67180654e-08\n",
      "   6.37003035e-06  7.11057544e-06  6.14449175e-05  1.42274065e-04\n",
      "   6.03253443e-04  9.15322821e-04  1.36598773e-03  1.34292304e-03\n",
      "   1.69536612e-03  1.62460253e-03  2.27419832e-03  1.46337290e-03\n",
      "   1.41613668e-03  1.54873904e-03  2.03181457e-03  1.85364982e-03\n",
      "   2.13279892e-03  2.07646833e-03  1.26943780e-03  5.38914997e-04\n",
      "   2.85233199e-04  1.17430637e-05  0.00000000e+00  0.00000000e+00\n",
      "   0.00000000e+00  0.00000000e+00  1.18663562e-06  2.39573544e-06\n",
      "   9.67286310e-06 -3.12141457e-04  2.39254190e-04  3.71995428e-04\n",
      "   6.58374726e-04  1.73692341e-03  1.68120375e-03  1.44660627e-03\n",
      "  -1.08315252e-03  5.01003317e-04 -2.21091489e-04 -7.87824301e-04\n",
      "   7.25290451e-04  9.65989995e-04  3.51666883e-04  3.31037135e-04\n",
      "   1.49145456e-03  1.97799416e-03  1.94606796e-03  2.65889338e-03\n",
      "   2.10176952e-03  9.97897322e-05  7.54362900e-05  0.00000000e+00\n",
      "   0.00000000e+00 -7.10331128e-06 -2.60039449e-05 -9.45940308e-05\n",
      "  -1.68237792e-05  1.74722206e-04  4.29225742e-04  2.92823995e-04\n",
      "   1.12678598e-03  9.00330475e-04 -8.93781287e-04 -6.39244558e-04\n",
      "   1.14355820e-04  6.33494391e-04 -3.74323427e-04 -7.99743992e-04\n",
      "  -4.79642732e-04 -1.15814894e-03 -1.00803175e-03 -1.14595083e-03\n",
      "  -5.86906830e-04 -1.30450196e-03 -1.80273040e-03 -1.30311006e-03\n",
      "  -4.97477818e-04 -7.69441957e-04 -4.88112412e-04  7.08770626e-05\n",
      "   0.00000000e+00  0.00000000e+00 -2.71597540e-05 -8.58377735e-04\n",
      "  -2.34003450e-04 -6.37324048e-04 -1.26631992e-03 -6.77355619e-04\n",
      "  -8.19367651e-04  1.19046753e-04 -9.32381661e-04 -1.44032846e-03\n",
      "  -1.55486579e-04 -1.46264763e-03  1.82677775e-03 -1.18660386e-04\n",
      "   1.42272805e-03  1.36293753e-03  4.77439936e-04 -3.06432837e-04\n",
      "  -1.43968578e-03 -7.66445776e-04 -2.07538534e-03 -2.43465942e-03\n",
      "  -2.64490186e-03 -1.60417104e-03 -1.39847024e-03 -7.37824630e-05\n",
      "   0.00000000e+00 -1.78914571e-06 -1.38639522e-04 -1.33365939e-03\n",
      "  -8.27950128e-04 -1.54596147e-06 -1.17641889e-03  9.48138863e-04\n",
      "  -7.25373167e-04 -3.44249086e-04 -3.89766417e-04 -1.28572074e-03\n",
      "   3.65283601e-04 -5.34325738e-04 -2.26722065e-03  2.70594474e-04\n",
      "  -1.97962682e-03 -3.94242876e-04 -2.28153142e-03  1.95231524e-04\n",
      "  -9.49222152e-04 -1.29365090e-04 -6.11609905e-04  6.60548224e-04\n",
      "  -3.36325019e-03 -9.16058534e-04 -1.58523526e-03 -1.07960613e-04\n",
      "  -2.96166487e-07 -2.19489035e-04 -2.51441063e-04 -1.50926888e-03\n",
      "   7.40617241e-04  1.36574312e-03 -2.80948623e-04  1.51142515e-04\n",
      "  -1.94413658e-05  4.74814620e-04 -7.14197220e-04  4.53023230e-04\n",
      "  -1.95896234e-03 -3.72218809e-04 -1.57014947e-03 -2.90760526e-04\n",
      "  -1.12112382e-03 -5.00822967e-04  1.75891868e-04 -1.01818567e-03\n",
      "  -6.59216777e-04  2.42755551e-04 -7.97525312e-05 -4.85157009e-04\n",
      "  -2.69963620e-03 -3.54669852e-03 -1.65739666e-03 -5.73882212e-06\n",
      "  -1.20357019e-06 -2.58145979e-04 -1.00852311e-03 -1.55455210e-03\n",
      "   6.91611357e-04 -5.64910582e-04  2.34975605e-04  1.73492910e-03\n",
      "  -1.49654716e-03  1.59597678e-03  1.37816202e-04  2.34128741e-04\n",
      "  -3.34082756e-04 -4.19017268e-04 -9.55862082e-04 -1.13051530e-03\n",
      "  -3.06841718e-04 -1.00264671e-03 -1.43042028e-03  3.84726234e-04\n",
      "  -3.00488041e-04 -9.61694791e-04  9.05949163e-04 -6.95627105e-04\n",
      "  -3.01347909e-03 -3.46717006e-03 -3.30083446e-04  1.17504841e-04\n",
      "  -6.07443533e-07 -5.37448512e-04 -1.21592084e-03 -2.82771934e-03\n",
      "  -1.29811975e-03  3.07314275e-04 -1.18597525e-03  1.03772650e-05\n",
      "   4.55615957e-04 -3.51358082e-04  3.19741860e-04 -7.88253490e-04\n",
      "  -6.79742780e-04 -3.09105301e-04 -1.16506740e-03 -6.84763532e-04\n",
      "  -3.97871491e-04 -4.37045366e-04 -4.14145198e-04 -8.69904029e-04\n",
      "  -4.82126011e-05 -1.76066447e-04 -1.00123241e-03  1.81274764e-03\n",
      "  -4.37168739e-03 -4.62524447e-03 -7.26186434e-04 -3.31285626e-04\n",
      "  -1.00411721e-06 -3.85209938e-04 -1.56913379e-03 -3.63879622e-03\n",
      "   5.13365337e-04  7.41465588e-04  7.33964655e-04  1.08451543e-03\n",
      "   4.49422175e-05  1.08406209e-04  4.01084564e-04 -3.92338705e-04\n",
      "   1.33128391e-03 -1.07860180e-03 -1.60078056e-03 -1.66880808e-03\n",
      "  -1.64633623e-03  7.26349714e-04  4.26129360e-04  3.80934566e-04\n",
      "   7.95333488e-04  1.63853803e-03 -5.76562198e-05  6.03621310e-04\n",
      "  -4.48044599e-03 -9.69170491e-03 -3.75707378e-03 -9.49056901e-05\n",
      "  -1.20730199e-05 -1.79254288e-04 -1.31604210e-03 -1.61913815e-03\n",
      "  -2.60427921e-04  1.39519976e-04 -4.28213471e-04 -2.75249455e-04\n",
      "   1.25080034e-05 -1.49434430e-04  8.88507707e-04  1.01454171e-03\n",
      "   7.23126905e-04  4.99235937e-05 -2.15082252e-03 -2.24777094e-03\n",
      "   3.35391176e-04 -5.60860004e-04  4.04691342e-04  5.99072062e-04\n",
      "   1.89148575e-04  1.55211807e-03  1.32609312e-03  2.36393266e-03\n",
      "   1.03157111e-03 -6.39073581e-03 -1.79019085e-03 -8.21654015e-05\n",
      "  -1.10171582e-05  8.29860116e-06 -6.30553329e-04  5.22566267e-04\n",
      "  -2.86640828e-03 -5.12161252e-04 -5.11759419e-04 -1.33184077e-03\n",
      "   9.43492698e-05  6.56666987e-04 -8.99345161e-04 -2.49363261e-04\n",
      "   1.33188662e-03  2.86982979e-04 -3.13472297e-03 -5.76947937e-04\n",
      "  -1.26202810e-04 -6.26900972e-06 -4.72563791e-04  1.58344738e-03\n",
      "   6.35587774e-05  2.89700358e-03  1.21618692e-03  3.86360790e-03\n",
      "   8.78287272e-03 -7.54159830e-04 -1.28898929e-03 -1.63530989e-04\n",
      "  -1.36121739e-06  2.35751893e-04 -2.74746760e-04  6.63658336e-04\n",
      "  -3.30434600e-03 -3.17627785e-03 -8.80287840e-04  8.19904716e-05\n",
      "  -8.80136056e-04  2.16424463e-04  1.70778836e-04 -1.16294668e-04\n",
      "   6.34147434e-04  3.45636981e-04 -2.98090269e-03  1.47947464e-03\n",
      "  -1.83319328e-04 -5.33317673e-04 -5.71907179e-04 -1.60206765e-03\n",
      "  -7.85374704e-04 -3.38637166e-04  1.53021777e-03  2.63450378e-03\n",
      "   2.79497083e-03  2.23636064e-04 -2.55219778e-05  2.10324849e-04\n",
      "  -3.15329404e-05  5.06579231e-05  1.00394607e-05  2.35163990e-04\n",
      "  -5.42958385e-05 -2.19994242e-04  8.10284273e-04  9.00897417e-04\n",
      "   2.10919124e-04 -2.64081367e-04  1.10737064e-04  2.76319132e-03\n",
      "   7.18211376e-04 -7.97929396e-04 -4.15714983e-04 -1.30697307e-03\n",
      "   5.41666866e-04 -1.51670915e-06 -1.21569748e-03  1.43917249e-04\n",
      "   9.40508537e-04  5.65830307e-04  3.10307072e-04  9.68476553e-04\n",
      "  -4.22245236e-04  1.23869528e-03  7.59115133e-04  5.00030299e-05\n",
      "  -1.23569874e-05 -6.23328639e-05  1.44715981e-04  3.75877606e-04\n",
      "   1.00398787e-03  2.47393120e-03 -8.23718673e-04  1.34711492e-03\n",
      "   9.98430184e-04  1.28429865e-03  1.28612989e-04  1.07863402e-03\n",
      "   5.43807953e-04  7.82801521e-04 -4.94731492e-05  1.97460146e-04\n",
      "   4.74214390e-04 -5.24865352e-04 -9.23965218e-04 -5.09325540e-04\n",
      "  -1.00265697e-03  1.82159695e-04  6.95406895e-04  9.30263974e-06\n",
      "  -1.14563263e-03  3.80458517e-03  1.66536936e-03  1.86811624e-04\n",
      "  -1.16116705e-05 -4.17914940e-05 -3.41958344e-04 -1.62588451e-03\n",
      "  -1.24126952e-03 -6.65474588e-05  2.24380445e-03  7.84005356e-04\n",
      "  -3.49854378e-05  7.13323638e-04  7.62341019e-04  1.45451347e-03\n",
      "   1.29182999e-03 -3.07035143e-04 -7.13600314e-04  6.00103959e-04\n",
      "   1.23666720e-03 -8.79879259e-04 -8.07539054e-04  4.58439795e-04\n",
      "   1.42595449e-04  5.78625286e-04 -2.14922314e-03  8.13695836e-04\n",
      "   5.68995676e-04  8.31190165e-03  1.73144466e-03  1.05285433e-04\n",
      "   0.00000000e+00 -8.53828295e-05  1.17386804e-04 -2.67669046e-03\n",
      "   8.03157733e-04 -2.30287584e-04 -2.12161793e-04  6.14138619e-04\n",
      "   6.28059873e-04  1.69824529e-03 -3.26977159e-04  1.55487973e-03\n",
      "   1.57049895e-03 -4.30729861e-04  7.40237414e-04  1.62644507e-04\n",
      "  -1.90033018e-05 -1.67224003e-04  5.97610939e-04 -9.86250268e-04\n",
      "  -2.56030713e-04 -1.01467930e-03  5.18450779e-04 -1.93026402e-03\n",
      "   1.66923750e-04  7.21868835e-03  1.50777650e-03  1.74983610e-04\n",
      "  -6.38511656e-05 -2.70583886e-05 -3.17230524e-04 -3.16932675e-03\n",
      "   1.00589200e-03  2.23258620e-03 -1.29747889e-03  2.19786005e-03\n",
      "   1.36170195e-03  1.46352134e-03  2.19148206e-03  8.34076007e-04\n",
      "   1.75172522e-03  1.36835956e-05 -8.68962284e-05  5.17250719e-04\n",
      "  -1.71979443e-04 -4.22354991e-04 -5.48072336e-05  2.28758563e-04\n",
      "  -3.96078464e-04 -9.56712315e-04  2.43700245e-04 -2.59248002e-05\n",
      "   2.36903359e-03  4.57056763e-03  4.49529290e-04 -3.60782973e-05\n",
      "  -4.35672100e-06  4.50397371e-07 -2.14686952e-04 -2.66358301e-03\n",
      "  -2.79470048e-04 -8.01129947e-04 -5.95464373e-04  2.50028214e-04\n",
      "   6.20993657e-04  1.82226249e-03  1.74100652e-03  1.75582136e-03\n",
      "   9.21122877e-04  5.23317494e-06  7.52711498e-04  5.50435831e-04\n",
      "   4.38384739e-04  1.35122905e-03  3.42497996e-04  1.59469614e-04\n",
      "   3.35388463e-04  9.70620166e-05 -4.42939272e-05  8.49772732e-04\n",
      "   1.73653138e-03  2.57980704e-03  4.05727071e-04 -3.31429987e-05\n",
      "   0.00000000e+00  7.33807938e-05  3.83214307e-04 -2.81763588e-03\n",
      "   3.16295956e-04  2.85613179e-04  1.37162989e-04  1.32444852e-03\n",
      "   5.73736575e-04 -7.83524941e-04  7.00187446e-04 -9.93773807e-04\n",
      "   2.10325797e-03 -2.32296840e-04  1.54673457e-04  1.27246382e-03\n",
      "   1.07105791e-03 -4.72028682e-04  3.97281157e-04 -5.68148415e-04\n",
      "  -3.90584289e-05  2.19468162e-03 -2.96626034e-04 -7.54207797e-04\n",
      "   2.67040795e-03  8.49563793e-04  2.83364907e-04 -2.82122107e-05\n",
      "  -2.90960925e-06 -2.25852430e-05 -1.85311275e-04 -1.06661513e-04\n",
      "  -4.15659092e-04  3.19900276e-04 -8.45587757e-05  1.75522318e-04\n",
      "  -1.30474056e-03  1.28754534e-03 -4.59532875e-04  9.34243150e-04\n",
      "  -7.86009927e-05  7.29816957e-04 -2.55248702e-04  6.48360739e-04\n",
      "   3.03475996e-04  1.46712864e-03  1.11878154e-03  1.77095901e-03\n",
      "  -7.51332786e-04 -4.90573642e-04  4.44196486e-04  1.87489683e-03\n",
      "   2.46836977e-03  8.41261729e-04  4.00743879e-04  1.09345304e-06\n",
      "  -2.81868396e-06 -1.43913736e-06 -3.42741676e-04  4.14817739e-04\n",
      "   7.86286702e-04  9.01822033e-04  1.19145699e-03  1.15723449e-03\n",
      "   7.07695672e-04 -3.55914638e-04 -4.36330709e-05  2.47356718e-04\n",
      "   7.23012053e-04  9.38227782e-04 -3.79402369e-05 -8.81918237e-04\n",
      "  -7.61680183e-04 -7.78537865e-04 -5.43893131e-04  6.55383515e-04\n",
      "  -5.46076092e-04  1.82138476e-03  5.05081641e-04 -3.86363823e-04\n",
      "   5.54075381e-04 -6.01634377e-04 -3.19316489e-04  2.01868254e-06\n",
      "   0.00000000e+00  0.00000000e+00 -1.23428547e-04 -4.58421955e-04\n",
      "  -1.92838490e-03 -1.82079925e-03 -4.27440265e-04 -1.70291891e-04\n",
      "  -5.76762734e-04 -2.05878938e-04  2.58554407e-04  8.38086950e-05\n",
      "   1.23210683e-04  1.34141157e-03 -5.27462526e-04  1.96899814e-03\n",
      "  -2.05268499e-04  1.00267685e-03  7.72938752e-04 -8.32661258e-04\n",
      "   1.93933228e-03  3.37661536e-03  1.13992383e-03 -1.00604149e-03\n",
      "  -1.28761587e-03 -5.54120654e-04 -3.38447362e-04  0.00000000e+00\n",
      "   0.00000000e+00  0.00000000e+00 -5.72325862e-05 -9.53638704e-04\n",
      "  -3.26408194e-03 -4.95924370e-03 -1.65960073e-03 -6.26811543e-04\n",
      "   5.11239087e-04  2.51603003e-04  4.22184331e-05  2.01063107e-05\n",
      "   6.40369608e-04  1.86885253e-04  1.01877623e-03 -6.15642130e-04\n",
      "   2.29356549e-03 -1.45339503e-03  1.93786469e-03  1.99344343e-03\n",
      "  -4.77877118e-04 -1.67450306e-03 -2.96139319e-03 -3.44442398e-03\n",
      "  -5.62438055e-04  6.06583001e-04  1.23723516e-05  0.00000000e+00\n",
      "   0.00000000e+00  0.00000000e+00 -4.80139243e-05 -2.98464714e-04\n",
      "  -1.72352696e-03 -4.54612511e-03 -3.07134426e-03 -3.86956307e-03\n",
      "  -3.87538341e-03 -3.91751054e-03 -1.96381615e-03 -3.74453484e-03\n",
      "  -3.99318298e-03 -4.05500715e-03 -1.73334312e-03 -2.06597352e-03\n",
      "  -3.66744906e-03 -2.75535755e-03 -5.13859252e-03 -5.54796476e-03\n",
      "  -5.64456343e-03 -6.97862576e-03 -4.43760779e-03 -3.50197613e-03\n",
      "  -1.37592244e-03 -2.26259782e-04  1.52802614e-05  0.00000000e+00\n",
      "   0.00000000e+00  0.00000000e+00  0.00000000e+00 -1.35667609e-05\n",
      "  -6.89042068e-04 -1.53692196e-03 -2.53997039e-03 -4.26872589e-03\n",
      "  -6.04216624e-03 -7.16662375e-03 -6.83515098e-03 -7.45155519e-03\n",
      "  -6.96648011e-03 -7.68295625e-03 -8.94600398e-03 -9.41248192e-03\n",
      "  -8.96962914e-03 -6.17245207e-03 -5.45602559e-03 -4.66459791e-03\n",
      "  -4.24990474e-03 -3.11466027e-03 -1.50808271e-03 -3.23565697e-04\n",
      "  -2.18986240e-05 -3.67032964e-06  0.00000000e+00  0.00000000e+00\n",
      "   0.00000000e+00  0.00000000e+00  0.00000000e+00  0.00000000e+00\n",
      "  -1.88674612e-05 -8.17095213e-05 -1.61606291e-04 -3.16883783e-04\n",
      "  -4.31861426e-04 -4.72238420e-04 -9.10022111e-04 -7.40529480e-04\n",
      "  -9.15005275e-04 -7.28993897e-04 -1.14854317e-03 -8.03910764e-04\n",
      "  -5.76824038e-04 -4.56280066e-04 -3.37619940e-04 -1.86092917e-04\n",
      "  -2.06371886e-04 -4.18300581e-04 -7.98807322e-04 -1.44820493e-04\n",
      "   0.00000000e+00  0.00000000e+00  0.00000000e+00  0.00000000e+00]]\n"
     ]
    }
   ],
   "source": [
    "print(logreg.intercept_)\n",
    "print(logreg.coef_)"
   ]
  },
  {
   "cell_type": "code",
   "execution_count": 15,
   "metadata": {},
   "outputs": [
    {
     "data": {
      "text/plain": [
       "784"
      ]
     },
     "execution_count": 15,
     "metadata": {},
     "output_type": "execute_result"
    }
   ],
   "source": [
    "# O correto é ter 784 coeficientes porque a dimensão de colunas do nosso dataset de treinamento\n",
    "logreg.coef_.size"
   ]
  },
  {
   "cell_type": "code",
   "execution_count": 16,
   "metadata": {},
   "outputs": [
    {
     "data": {
      "text/plain": [
       "array([0, 1, 1, ..., 1, 1, 1])"
      ]
     },
     "execution_count": 16,
     "metadata": {},
     "output_type": "execute_result"
    }
   ],
   "source": [
    "# A função predict da Regressão Logística nos retorna os valores já binarizados (qual a classe que o algoritmo previu)\n",
    "logreg.predict(Xtrain)"
   ]
  },
  {
   "cell_type": "code",
   "execution_count": 17,
   "metadata": {},
   "outputs": [
    {
     "data": {
      "text/plain": [
       "array([[0.99822148, 0.00177852],\n",
       "       [0.07069117, 0.92930883],\n",
       "       [0.22019002, 0.77980998],\n",
       "       ...,\n",
       "       [0.00949747, 0.99050253],\n",
       "       [0.31642515, 0.68357485],\n",
       "       [0.01305646, 0.98694354]])"
      ]
     },
     "execution_count": 17,
     "metadata": {},
     "output_type": "execute_result"
    }
   ],
   "source": [
    "# Podemos acessar as probabilidades usando a função predict_proba, \n",
    "# que nos retornará um array com várias linhas e duas colunas\n",
    "# A primeira coluna representa a probabilidade da classe 0 (classe negativa)\n",
    "# A segunda coluna representa a probabilidade da classe 1 (classe positiva)\n",
    "\n",
    "logreg.predict_proba(Xtrain)"
   ]
  },
  {
   "cell_type": "code",
   "execution_count": 18,
   "metadata": {},
   "outputs": [
    {
     "data": {
      "text/plain": [
       "0"
      ]
     },
     "execution_count": 18,
     "metadata": {},
     "output_type": "execute_result"
    }
   ],
   "source": [
    "# De acordo com o algoritmo, a primeira instância tem 99% de probabilidade de ser da classe 0\n",
    "ytrain[0]"
   ]
  },
  {
   "cell_type": "markdown",
   "metadata": {},
   "source": [
    "Vemos que a classe real dessa instância é 0, de modo que o algoritmo parece ter aprendido muito bem a classificar.\n",
    "\n",
    "Podemos comparar as predições desse classificador no dataset de treino (abaixo, consideramos apenas as 20 primeiras instâncias):"
   ]
  },
  {
   "cell_type": "code",
   "execution_count": 20,
   "metadata": {},
   "outputs": [
    {
     "data": {
      "text/plain": [
       "array([0, 1, 1, 0, 0, 1, 0, 0, 0, 1, 0, 0, 0, 1, 0, 0, 1, 1, 1, 0])"
      ]
     },
     "execution_count": 20,
     "metadata": {},
     "output_type": "execute_result"
    }
   ],
   "source": [
    "logreg.predict(Xtrain)[:20]"
   ]
  },
  {
   "cell_type": "code",
   "execution_count": 21,
   "metadata": {},
   "outputs": [
    {
     "data": {
      "text/plain": [
       "array([0, 1, 1, 0, 0, 1, 0, 0, 0, 1, 0, 0, 0, 1, 0, 0, 1, 1, 1, 0])"
      ]
     },
     "execution_count": 21,
     "metadata": {},
     "output_type": "execute_result"
    }
   ],
   "source": [
    "# comparação com o target real\n",
    "\n",
    "ytrain[:20]"
   ]
  },
  {
   "cell_type": "markdown",
   "metadata": {},
   "source": [
    "O classificador conseguiu acertar todas."
   ]
  },
  {
   "cell_type": "markdown",
   "metadata": {},
   "source": [
    "----"
   ]
  },
  {
   "cell_type": "markdown",
   "metadata": {},
   "source": [
    "CURVA ROC"
   ]
  },
  {
   "cell_type": "code",
   "execution_count": 26,
   "metadata": {},
   "outputs": [],
   "source": [
    "#fpr = false positive rate = taxa de falso positivos\n",
    "#tpr = true positive rate = taxa de verdadeiro positivos\n",
    "#thresholds = limiares usados\n",
    "\n",
    "fpr, tpr, thresholds = roc_curve(y_true = ytest, y_score = logreg.predict_proba(Xtest)[:, 1]) "
   ]
  },
  {
   "cell_type": "code",
   "execution_count": 27,
   "metadata": {},
   "outputs": [
    {
     "data": {
      "image/png": "[encoded data removed]",
      "text/plain": [
       "<Figure size 576x432 with 1 Axes>"
      ]
     },
     "metadata": {
      "needs_background": "light"
     },
     "output_type": "display_data"
    }
   ],
   "source": [
    "plt.figure(figsize=[8,6])\n",
    "plt.plot(fpr, tpr, c = 'blue', lw = 2)\n",
    "plt.title(\"Curva ROC (dataset de teste)\", fontsize = 16, fontweight = 'bold')\n",
    "plt.xlabel(\"taxa de falso positivos\", fontsize = 14, fontweight = 'bold')\n",
    "plt.ylabel(\"taxa de verdadeiro positivos\", fontsize = 14, fontweight = 'bold')\n",
    "plt.plot([0, 1], [0, 1], 'k--') # Dashed diagonal\n",
    "plt.grid()\n",
    "plt.show()"
   ]
  },
  {
   "cell_type": "markdown",
   "metadata": {},
   "source": [
    "A curva está demonstrando que houve baixo número de falsos positivos e alto número de verdadeiros positivos, ou seja, obtemos uma curva ROC próximo ao ideal."
   ]
  },
  {
   "cell_type": "markdown",
   "metadata": {},
   "source": [
    "Para quantificarmos um valor associado a ela, usamos a métrica AUC-ROC: area under curve ROC.\n",
    "\n",
    "A AUC varia entre 0 e 1, sendo que 1 é o melhor valor possível.\n",
    "\n",
    "No gráfico, a linha pontilhada corresponde a um classificador aleatório, isto é, um modelo sem inteligência que vota 0 ou 1 de forma totalmente aleatória. Neste caso, a AUC do classificador aleatório é 0.5. Quanto maior for a área entre a linha pontilhada e a curva ROC do algoritmo, melhor sua performance."
   ]
  },
  {
   "cell_type": "code",
   "execution_count": 28,
   "metadata": {},
   "outputs": [
    {
     "data": {
      "text/plain": [
       "0.9623707892219318"
      ]
     },
     "execution_count": 28,
     "metadata": {},
     "output_type": "execute_result"
    }
   ],
   "source": [
    "roc_auc_score(y_true = ytest, y_score = logreg.predict_proba(Xtest)[:, 1])"
   ]
  },
  {
   "cell_type": "markdown",
   "metadata": {},
   "source": [
    "Score obtido foi alto = 0.96"
   ]
  },
  {
   "cell_type": "markdown",
   "metadata": {},
   "source": [
    "----"
   ]
  },
  {
   "cell_type": "markdown",
   "metadata": {},
   "source": [
    "Validação Cruzada"
   ]
  },
  {
   "cell_type": "code",
   "execution_count": 29,
   "metadata": {},
   "outputs": [],
   "source": [
    "def validacao_cruzada(classificador, \n",
    "                      X, \n",
    "                      y, \n",
    "                      metrica, \n",
    "                      num_folds, \n",
    "                      print_info = False, \n",
    "                      nome_metrica = None):\n",
    "    \n",
    "    lista_metrica_treino = []\n",
    "    lista_metrica_validacao = []\n",
    "    \n",
    "    kf = KFold(n_splits = num_folds)\n",
    "    for train_index, val_index in kf.split(X, y):\n",
    "        \n",
    "        Xtrain_folds = X[train_index]\n",
    "        ytrain_folds = y[train_index]\n",
    "        Xval_fold = X[val_index]\n",
    "        yval_fold = y[val_index]\n",
    "        \n",
    "        classificador.fit(Xtrain_folds, ytrain_folds)\n",
    "        \n",
    "        pred_treino = classificador.predict(Xtrain_folds)\n",
    "        pred_validacao = classificador.predict(Xval_fold)\n",
    "        \n",
    "        lista_metrica_treino.append(metrica(y_pred = pred_treino, y_true = ytrain_folds))\n",
    "        lista_metrica_validacao.append(metrica(y_pred = pred_validacao, y_true = yval_fold))\n",
    "        \n",
    "    if print_info:\n",
    "        print(\"Métrica: \" + nome_metrica)\n",
    "        print('média treino:', np.mean(lista_metrica_treino))\n",
    "        print('média validação:', np.mean(lista_metrica_validacao))\n",
    "        \n",
    "    return lista_metrica_treino, lista_metrica_validacao"
   ]
  },
  {
   "cell_type": "code",
   "execution_count": 32,
   "metadata": {},
   "outputs": [
    {
     "name": "stdout",
     "output_type": "stream",
     "text": [
      "Métrica: Precision\n",
      "média treino: 0.8951035697209175\n",
      "média validação: 0.8887853551511025\n",
      "\n",
      "Métrica: Recall\n",
      "média treino: 0.9014577489922697\n",
      "média validação: 0.8959130798906907\n",
      "\n",
      "Métrica: F1\n",
      "média treino: 0.8982689331908279\n",
      "média validação: 0.8923286761900814\n",
      "\n"
     ]
    }
   ],
   "source": [
    "for metrica, nome_metrica in zip([precision_score, recall_score, f1_score], ['Precision', 'Recall', 'F1']):\n",
    "    l1, l2 = validacao_cruzada(classificador = LogisticRegression(),\n",
    "                 X = Xtrain, \n",
    "                 y = ytrain, \n",
    "                 metrica = metrica, \n",
    "                 num_folds = 5,\n",
    "                 print_info = True,\n",
    "                 nome_metrica = nome_metrica)\n",
    "    print()"
   ]
  },
  {
   "cell_type": "markdown",
   "metadata": {},
   "source": [
    "----"
   ]
  }
 ],
 "metadata": {
  "kernelspec": {
   "display_name": "Python 3 (ipykernel)",
   "language": "python",
   "name": "python3"
  },
  "language_info": {
   "codemirror_mode": {
    "name": "ipython",
    "version": 3
   },
   "file_extension": ".py",
   "mimetype": "text/x-python",
   "name": "python",
   "nbconvert_exporter": "python",
   "pygments_lexer": "ipython3",
   "version": "3.9.12"
  }
 },
 "nbformat": 4,
 "nbformat_minor": 2
}
