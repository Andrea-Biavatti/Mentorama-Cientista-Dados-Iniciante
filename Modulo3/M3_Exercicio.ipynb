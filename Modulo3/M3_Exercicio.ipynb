{
  "cells": [
    {
      "cell_type": "markdown",
      "metadata": {
        "id": "5Q8QuffjENvU"
      },
      "source": [
        "## Exercício 1"
      ]
    },
    {
      "cell_type": "code",
      "source": [
        "from random import randint"
      ],
      "metadata": {
        "id": "-tnEenjCtdxf"
      },
      "execution_count": null,
      "outputs": []
    },
    {
      "cell_type": "code",
      "source": [
        "def sorteia(lista):\n",
        "  for contador in range(0, 5):\n",
        "    n = randint(1, 30)\n",
        "    lista.append(n)\n",
        "\n",
        "\n",
        "def identifica_pares(lista):\n",
        "  pares = []\n",
        "  for i in lista:\n",
        "    if i % 2 == 0:\n",
        "      pares.append(i)\n",
        "    else:\n",
        "      continue\n",
        "  return pares"
      ],
      "metadata": {
        "id": "xzeTmBuhqUz5"
      },
      "execution_count": null,
      "outputs": []
    },
    {
      "cell_type": "code",
      "source": [
        "lista_numeros = []\n",
        "sorteia(lista_numeros)\n",
        "lista_numeros.sort()\n",
        "lista_numeros"
      ],
      "metadata": {
        "colab": {
          "base_uri": "https://localhost:8080/"
        },
        "id": "brdIXMQpqfpQ",
        "outputId": "70409b60-191b-4296-e2a1-8320a36c47e7"
      },
      "execution_count": null,
      "outputs": [
        {
          "output_type": "execute_result",
          "data": {
            "text/plain": [
              "[1, 1, 6, 8, 26]"
            ]
          },
          "metadata": {},
          "execution_count": 3
        }
      ]
    },
    {
      "cell_type": "code",
      "source": [
        "numeros_pares = identifica_pares(lista_numeros)\n",
        "numeros_pares"
      ],
      "metadata": {
        "colab": {
          "base_uri": "https://localhost:8080/"
        },
        "id": "U2mvlLGIrzEv",
        "outputId": "0f0d48ad-b26b-4f03-de57-5e91889ce7c9"
      },
      "execution_count": null,
      "outputs": [
        {
          "output_type": "execute_result",
          "data": {
            "text/plain": [
              "[6, 8, 26]"
            ]
          },
          "metadata": {},
          "execution_count": 4
        }
      ]
    },
    {
      "cell_type": "markdown",
      "metadata": {
        "id": "ptUsgNnXozbb"
      },
      "source": [
        "## Exercício 2"
      ]
    },
    {
      "cell_type": "code",
      "source": [
        "from random import randint"
      ],
      "metadata": {
        "id": "zJwLULO1MIPX"
      },
      "execution_count": null,
      "outputs": []
    },
    {
      "cell_type": "code",
      "source": [
        "def sorteio(lista):\n",
        "  numeros = []\n",
        "  jogos = []\n",
        "  quant = int(input('Quantos jogos você quer que eu sorteie? '))\n",
        "  totjogos = 1\n",
        "  while totjogos <= quant:\n",
        "    cont = 0\n",
        "    while True:\n",
        "      num = randint(1, 60)\n",
        "      if num not in numeros:\n",
        "        numeros.append(num)\n",
        "        cont += 1\n",
        "      if cont >= 6:\n",
        "        break\n",
        "    numeros.sort()\n",
        "    jogos.append(numeros[:])\n",
        "    numeros.clear()\n",
        "    totjogos += 1\n",
        "  return jogos"
      ],
      "metadata": {
        "id": "XOcdsnssJmUj"
      },
      "execution_count": null,
      "outputs": []
    },
    {
      "cell_type": "code",
      "source": [
        "sorteados = []\n",
        "sorteados = sorteio(sorteados)"
      ],
      "metadata": {
        "colab": {
          "base_uri": "https://localhost:8080/"
        },
        "id": "VZ0GNy5KKqff",
        "outputId": "cf512fbd-cbb9-42d9-8c45-cc72620a7be6"
      },
      "execution_count": null,
      "outputs": [
        {
          "name": "stdout",
          "output_type": "stream",
          "text": [
            "Quantos jogos você quer que eu sorteie? 1\n"
          ]
        }
      ]
    },
    {
      "cell_type": "code",
      "source": [
        "for indice, list in enumerate(sorteados):\n",
        "    print(f'Jogo {indice+1}: {list}')"
      ],
      "metadata": {
        "colab": {
          "base_uri": "https://localhost:8080/"
        },
        "id": "XpJoZyN1Sxnz",
        "outputId": "e10b2478-9076-41df-f44d-00c685fb7f1f"
      },
      "execution_count": null,
      "outputs": [
        {
          "output_type": "stream",
          "name": "stdout",
          "text": [
            "Jogo 1: [30, 32, 40, 45, 53, 54]\n"
          ]
        }
      ]
    },
    {
      "cell_type": "markdown",
      "metadata": {
        "id": "GGFI-0zGTRaS"
      },
      "source": [
        "## Exercício 3"
      ]
    },
    {
      "cell_type": "code",
      "source": [
        "class Cliente:\n",
        "\n",
        "    def __init__(self, nome, saldo: float):\n",
        "        self.nome = nome\n",
        "        self.saldo = saldo\n",
        "\n",
        "\n",
        "    def depositar(self, deposito: float):\n",
        "        self.deposito = deposito\n",
        "        self.saldo += deposito\n",
        "        print(f'O saldo após o depósito é de R$ {self.saldo:.2f}')\n",
        "\n",
        "\n",
        "    def sacar(self, saque: float):\n",
        "        self.saque = saque\n",
        "        if self.saldo >= saque:\n",
        "          self.saldo -= saque\n",
        "          print(f'O saldo após o saque é de R$ {self.saldo:.2f}')\n",
        "        else:\n",
        "          print(f'Não há saldo suficiente na conta.')"
      ],
      "metadata": {
        "id": "dLgPDQB_TTWi"
      },
      "execution_count": null,
      "outputs": []
    },
    {
      "cell_type": "code",
      "source": [
        "cliente1 = Cliente('Andrea', 0)"
      ],
      "metadata": {
        "id": "8HQMC2nJosm1"
      },
      "execution_count": null,
      "outputs": []
    },
    {
      "cell_type": "code",
      "source": [
        "cliente1.depositar(100)"
      ],
      "metadata": {
        "colab": {
          "base_uri": "https://localhost:8080/"
        },
        "id": "Ru0Jol7po8Wn",
        "outputId": "2babddd7-fca6-48a7-9fd6-b7bffd61baca"
      },
      "execution_count": null,
      "outputs": [
        {
          "output_type": "stream",
          "name": "stdout",
          "text": [
            "O saldo após o depósito é de R$ 100.00\n"
          ]
        }
      ]
    },
    {
      "cell_type": "code",
      "source": [
        "cliente1.sacar(20)"
      ],
      "metadata": {
        "colab": {
          "base_uri": "https://localhost:8080/"
        },
        "id": "OrIN9QL0pDAS",
        "outputId": "203437bf-7a19-46fb-819a-3e8a8688e25c"
      },
      "execution_count": null,
      "outputs": [
        {
          "output_type": "stream",
          "name": "stdout",
          "text": [
            "O saldo após o saque é de R$ 80.00\n"
          ]
        }
      ]
    },
    {
      "cell_type": "code",
      "source": [
        "cliente1.sacar(150)"
      ],
      "metadata": {
        "colab": {
          "base_uri": "https://localhost:8080/"
        },
        "id": "G7ICrRcKpSSt",
        "outputId": "2d86066b-37e6-422d-ee55-d533c22c2c74"
      },
      "execution_count": null,
      "outputs": [
        {
          "output_type": "stream",
          "name": "stdout",
          "text": [
            "Não há saldo suficiente na conta.\n"
          ]
        }
      ]
    }
  ],
  "metadata": {
    "kernelspec": {
      "display_name": "Python 3",
      "language": "python",
      "name": "python3"
    },
    "language_info": {
      "codemirror_mode": {
        "name": "ipython",
        "version": 3
      },
      "file_extension": ".py",
      "mimetype": "text/x-python",
      "name": "python",
      "nbconvert_exporter": "python",
      "pygments_lexer": "ipython3",
      "version": "3.8.3"
    },
    "colab": {
      "provenance": [],
      "collapsed_sections": []
    }
  },
  "nbformat": 4,
  "nbformat_minor": 0
}