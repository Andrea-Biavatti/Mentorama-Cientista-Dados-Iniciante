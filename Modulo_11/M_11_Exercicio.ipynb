{
 "cells": [
  {
   "cell_type": "markdown",
   "metadata": {},
   "source": [
    "<br>\n",
    "\n",
    "### Exercício: Regressão Linear:\n",
    "__Parte 1:__\n",
    "\n",
    "1- Usando a função getData(), carregue os dados disponibilizados.\n",
    "\n",
    "2- Separe parte dos dados para o dataset de teste.\n",
    "\n",
    "3- Usando a metodologia de validação cruzada, teste diferentes parâmetros da regLinear - diferentes learning_rates e num_steps - para escolher a melhor combinação de parâmetros.\n",
    "\n",
    "4- Implemente a regressão linear do scikit-learn e compare os resultados obtidos.\n",
    "\n",
    "\n",
    "__Parte 2 (Introdução):__\n",
    "\n",
    "Para cada variável explicativa $X_1, .., X_5$, crie outras variáveis usando o __quadrado__ de cada um delas. Desta forma, o conjunto final será de 10 variáveis, em que:\n",
    "\n",
    "$X_6 = (X_1)^{2}$, $X_7 = (X_2)^{2}$, $X_8 = (X_3)^{2}$, $X_9 = (X_4)^{2}$, $X_{10} = (X_5)^{2}$.\n",
    "\n",
    "Ao treinarmos uma regressão linear com essas 10 variáveis, a predição é da forma:\n",
    "\n",
    "$y_{pred} = \\theta_0 + \\theta_1 \\cdot X_1 + .. + \\theta_5 \\cdot X_5 + \\theta_6 \\cdot (X_1)^{2} + .. + \\theta_{10} \\cdot (X_5)^{2}$\n",
    "\n",
    "Como estamos usando o quadrado das variáveis explicativas, dizemos que temos um __modelo de regressão polinomial de grau 2__. Podemos ter variações deste modelo:\n",
    "\n",
    "-Podemos aumentar o grau: basta mudar a potência que elevamos as variáveis. Por exemplo, podemos incluir o __cubo__ das variáveis e termos um modelo polinomial de ordem 3.\n",
    "\n",
    "-Podemos ter __interações__ entre as variáveis: multiplicações entre as variáveis.\n",
    "\n",
    "Exemplo:\n",
    "\n",
    "$y_{pred} = \\theta_0 + \\theta_1 \\cdot X_1 + .. + \\theta_5 \\cdot X_5 + \\theta_6 \\cdot (X_1)^{2} + .. + \\theta_{10} \\cdot (X_5)^{2} + \\theta_{11} \\cdot (X_1)^{3} + \\theta_{12} \\cdot V1 + \\theta_{13} \\cdot V2$,\n",
    "\n",
    "onde\n",
    "\n",
    "$V_1 = X_1 \\cdot X_2$ e $V_2 = (X_2)^{2} \\cdot X_4$\n",
    "\n",
    "__Parte 2 (Exercício):__\n",
    "\n",
    "1- Estude o link:\n",
    "https://scikit-learn.org/stable/modules/generated/sklearn.preprocessing.PolynomialFeatures.html\n",
    "\n",
    "em que é discutido como criar modelos polinomiais com o scikit-learn de forma detalhada.\n",
    "\n",
    "2- Repita os passos da primeira parte, mas agora considerando polinômios de graus 2 ou mais.\n",
    "\n",
    "3- Inclua regularização Ridge e Lasso nas análises e teste os resultados para diferentes parâmetros $\\alpha$.\n",
    "\n",
    "<br>\n",
    "\n",
    "### Exercício: Regressão Logística:\n",
    "\n",
    "__Parte 1:__\n",
    "\n",
    "Crie uma classe regLogistica para treinar o modelo de regressão logística. Essa classe deve ser usada para problemas de classificação binária, cuja variável target assume os valores: 0 (classe negativa) e 1 (classe positiva).\n",
    "\n",
    "O método construtor dessa classe deve possuir 3 parâmetros: learning_rate, num_steps e limiar.\n",
    "\n",
    "Os outros médotos devem ser:\n",
    "\n",
    "    - médoto fit: para treinar o modelo - usando gradient descent\n",
    "    \n",
    "    - médoto predict_proba: para retornar a probabilidade da classe 1\n",
    "    \n",
    "    - médoto predict: retornar a classe predita: 0 ou 1 - dependente do limiar\n",
    "    \n",
    "__Parte 2:__\n",
    "\n",
    "Usando a função getData2(), carregue o dataset disponibilizado.\n",
    "\n",
    "Use a regLogistica, classe criada na parte 1 do exercício, para treinar modelos nestes dados. Use validação cruzada para seleção dos parâmetros. Considere diferentes métricas de classificação e justifique as escolhas."
   ]
  },
  {
   "cell_type": "markdown",
   "metadata": {},
   "source": [
    "----"
   ]
  },
  {
   "cell_type": "markdown",
   "metadata": {},
   "source": [
    "#### Exercício 1: Regressão Linear"
   ]
  },
  {
   "cell_type": "code",
   "execution_count": 1,
   "metadata": {},
   "outputs": [],
   "source": [
    "import pandas as pd\n",
    "import numpy as np\n",
    "from sklearn.datasets import make_friedman1, make_classification\n",
    "import matplotlib.pyplot as plt\n",
    "from sklearn.metrics import mean_squared_error\n",
    "\n",
    "import warnings\n",
    "warnings.filterwarnings(\"ignore\")"
   ]
  },
  {
   "cell_type": "code",
   "execution_count": 2,
   "metadata": {},
   "outputs": [],
   "source": [
    "#função para acessar os dados do exercício 1\n",
    "\n",
    "def getData():\n",
    "    X, y = make_friedman1(n_samples = 10000, n_features = 5, noise = 5.0, random_state = 0)\n",
    "    return X, y"
   ]
  },
  {
   "cell_type": "markdown",
   "metadata": {},
   "source": [
    "1- Usando a função getData(), carregue os dados disponibilizados."
   ]
  },
  {
   "cell_type": "code",
   "execution_count": 3,
   "metadata": {},
   "outputs": [
    {
     "data": {
      "text/plain": [
       "((10000, 5), (10000,))"
      ]
     },
     "execution_count": 3,
     "metadata": {},
     "output_type": "execute_result"
    }
   ],
   "source": [
    "X, y = getData()\n",
    "X.shape, y.shape"
   ]
  },
  {
   "cell_type": "code",
   "execution_count": 4,
   "metadata": {},
   "outputs": [
    {
     "data": {
      "text/plain": [
       "array([[0.5488135 , 0.71518937, 0.60276338, 0.54488318, 0.4236548 ],\n",
       "       [0.64589411, 0.43758721, 0.891773  , 0.96366276, 0.38344152],\n",
       "       [0.79172504, 0.52889492, 0.56804456, 0.92559664, 0.07103606],\n",
       "       ...,\n",
       "       [0.2558884 , 0.19185257, 0.31889167, 0.97098671, 0.45826743],\n",
       "       [0.65071484, 0.87733698, 0.60242322, 0.42648218, 0.65573615],\n",
       "       [0.5463288 , 0.69331045, 0.23367488, 0.83092388, 0.55131786]])"
      ]
     },
     "execution_count": 4,
     "metadata": {},
     "output_type": "execute_result"
    }
   ],
   "source": [
    "X"
   ]
  },
  {
   "cell_type": "code",
   "execution_count": 5,
   "metadata": {},
   "outputs": [
    {
     "data": {
      "text/plain": [
       "array([15.28814034, 21.53563265, 15.33477388, ..., 13.55427826,\n",
       "       20.05388514, 18.67813117])"
      ]
     },
     "execution_count": 5,
     "metadata": {},
     "output_type": "execute_result"
    }
   ],
   "source": [
    "y"
   ]
  },
  {
   "cell_type": "code",
   "execution_count": 6,
   "metadata": {},
   "outputs": [],
   "source": [
    "X1=np.arange(0,len(X),1)"
   ]
  },
  {
   "cell_type": "code",
   "execution_count": 7,
   "metadata": {},
   "outputs": [
    {
     "data": {
      "text/plain": [
       "array([   0,    1,    2, ..., 9997, 9998, 9999])"
      ]
     },
     "execution_count": 7,
     "metadata": {},
     "output_type": "execute_result"
    }
   ],
   "source": [
    "X1"
   ]
  },
  {
   "cell_type": "code",
   "execution_count": 8,
   "metadata": {},
   "outputs": [
    {
     "data": {
      "text/plain": [
       "(10000,)"
      ]
     },
     "execution_count": 8,
     "metadata": {},
     "output_type": "execute_result"
    }
   ],
   "source": [
    "X1.shape"
   ]
  },
  {
   "cell_type": "code",
   "execution_count": 9,
   "metadata": {},
   "outputs": [
    {
     "data": {
      "image/png": "[encoded data removed]",
      "text/plain": [
       "<Figure size 576x432 with 1 Axes>"
      ]
     },
     "metadata": {
      "needs_background": "light"
     },
     "output_type": "display_data"
    }
   ],
   "source": [
    "plt.figure(figsize=[8,6])\n",
    "plt.scatter(X1, y, c = 'blue')\n",
    "plt.xlabel(\"X\", fontsize = 14, fontweight = 'bold')\n",
    "plt.ylabel(\"y\", fontsize = 14, fontweight = 'bold')\n",
    "plt.show()"
   ]
  },
  {
   "cell_type": "markdown",
   "metadata": {},
   "source": [
    "2- Separe parte dos dados para o dataset de teste."
   ]
  },
  {
   "cell_type": "code",
   "execution_count": 10,
   "metadata": {},
   "outputs": [],
   "source": [
    "# Como os dados já estão aleatorizado, a separação foi feita com 7500 instâncias para treino e 2500 para teste\n",
    "\n",
    "Xtrain, Xtest, ytrain, ytest = X[:7500], X[7500:], y[:7500], y[7500:]"
   ]
  },
  {
   "cell_type": "code",
   "execution_count": 11,
   "metadata": {},
   "outputs": [
    {
     "data": {
      "text/plain": [
       "((7500, 5), (2500, 5), (7500,), (2500,))"
      ]
     },
     "execution_count": 11,
     "metadata": {},
     "output_type": "execute_result"
    }
   ],
   "source": [
    "Xtrain.shape, Xtest.shape, ytrain.shape, ytest.shape"
   ]
  },
  {
   "cell_type": "code",
   "execution_count": 12,
   "metadata": {},
   "outputs": [],
   "source": [
    "Xtrain1=np.arange(0,len(Xtrain),1)"
   ]
  },
  {
   "cell_type": "markdown",
   "metadata": {},
   "source": [
    "3- Usando a metodologia de validação cruzada, teste diferentes parâmetros da regLinear - diferentes learning_rates e num_steps - para escolher a melhor combinação de parâmetros."
   ]
  },
  {
   "cell_type": "code",
   "execution_count": 13,
   "metadata": {},
   "outputs": [],
   "source": [
    "#classe regLinear para exercício\n",
    "\n",
    "class regLinear():\n",
    "    \n",
    "    def __init__(self, learning_rate, num_steps):\n",
    "        self.learning_rate = learning_rate\n",
    "        self.num_steps = num_steps\n",
    "        \n",
    "    def fit(self, X, y):\n",
    "        y = y.reshape(-1,1)\n",
    "        m = X.shape[0] \n",
    "        k = X.shape[1] \n",
    "        theta = np.random.randn(k+1,1) \n",
    "        X_b = np.c_[np.ones((m, 1)), X] \n",
    "        for step in range(self.num_steps):\n",
    "            gradients = 2/m * X_b.T.dot(X_b.dot(theta) - y)\n",
    "            theta = theta - self.learning_rate * gradients\n",
    "        self.theta_final = theta\n",
    "        print(\"modelo treinado.\")\n",
    "        \n",
    "    def predict(self, X):\n",
    "        m = X.shape[0]\n",
    "        X_b = np.c_[np.ones((m, 1)), X]\n",
    "        preds = X_b.dot(self.theta_final)\n",
    "        return preds.reshape(-1,)"
   ]
  },
  {
   "cell_type": "code",
   "execution_count": 14,
   "metadata": {},
   "outputs": [],
   "source": [
    "rg = regLinear(learning_rate = 0.075, num_steps = 200)"
   ]
  },
  {
   "cell_type": "code",
   "execution_count": 15,
   "metadata": {},
   "outputs": [
    {
     "name": "stdout",
     "output_type": "stream",
     "text": [
      "modelo treinado.\n"
     ]
    }
   ],
   "source": [
    "rg.fit(Xtrain, ytrain)"
   ]
  },
  {
   "cell_type": "code",
   "execution_count": 16,
   "metadata": {},
   "outputs": [
    {
     "data": {
      "text/plain": [
       "array([[ 2.33741873],\n",
       "       [ 5.3025595 ],\n",
       "       [ 6.14172195],\n",
       "       [-0.15608272],\n",
       "       [ 9.32288933],\n",
       "       [ 3.6626737 ]])"
      ]
     },
     "execution_count": 16,
     "metadata": {},
     "output_type": "execute_result"
    }
   ],
   "source": [
    "rg.theta_final"
   ]
  },
  {
   "cell_type": "code",
   "execution_count": 17,
   "metadata": {},
   "outputs": [
    {
     "data": {
      "text/plain": [
       "array([16.17754318, 18.69920175, 18.58466838, ..., 11.43276925,\n",
       "       12.30601453, 15.80539562])"
      ]
     },
     "execution_count": 17,
     "metadata": {},
     "output_type": "execute_result"
    }
   ],
   "source": [
    "rg.predict(Xtrain)"
   ]
  },
  {
   "cell_type": "markdown",
   "metadata": {},
   "source": [
    "4- Implemente a regressão linear do scikit-learn e compare os resultados obtidos."
   ]
  },
  {
   "cell_type": "code",
   "execution_count": 18,
   "metadata": {},
   "outputs": [],
   "source": [
    "from sklearn.linear_model import LinearRegression"
   ]
  },
  {
   "cell_type": "code",
   "execution_count": 19,
   "metadata": {},
   "outputs": [
    {
     "data": {
      "text/plain": [
       "LinearRegression()"
      ]
     },
     "execution_count": 19,
     "metadata": {},
     "output_type": "execute_result"
    }
   ],
   "source": [
    "lm = LinearRegression()\n",
    "lm.fit(Xtrain, ytrain)"
   ]
  },
  {
   "cell_type": "code",
   "execution_count": 21,
   "metadata": {},
   "outputs": [
    {
     "data": {
      "text/plain": [
       "(-0.17502201577241294,\n",
       " array([ 6.34642766,  7.32237956,  0.22274329, 10.58969836,  4.66476975]))"
      ]
     },
     "execution_count": 21,
     "metadata": {},
     "output_type": "execute_result"
    }
   ],
   "source": [
    "lm.intercept_, lm.coef_"
   ]
  },
  {
   "cell_type": "code",
   "execution_count": 23,
   "metadata": {},
   "outputs": [
    {
     "data": {
      "text/plain": [
       "array([16.42553332, 19.3204787 , 18.98205719, ..., 10.69464464,\n",
       "       11.82863968, 16.26278406])"
      ]
     },
     "execution_count": 23,
     "metadata": {},
     "output_type": "execute_result"
    }
   ],
   "source": [
    "lm.predict(Xtrain)"
   ]
  },
  {
   "cell_type": "markdown",
   "metadata": {},
   "source": [
    "Os resultados foram similares."
   ]
  },
  {
   "cell_type": "markdown",
   "metadata": {},
   "source": [
    "----"
   ]
  },
  {
   "cell_type": "markdown",
   "metadata": {},
   "source": [
    "Regressão Polinomial"
   ]
  },
  {
   "cell_type": "markdown",
   "metadata": {},
   "source": [
    "2- Repita os passos da primeira parte, mas agora considerando polinômios de graus 2 ou mais."
   ]
  },
  {
   "cell_type": "code",
   "execution_count": 48,
   "metadata": {},
   "outputs": [],
   "source": [
    "#importando a função\n",
    "from sklearn.preprocessing import PolynomialFeatures"
   ]
  },
  {
   "cell_type": "code",
   "execution_count": 49,
   "metadata": {},
   "outputs": [],
   "source": [
    "#criando uma função polinomial de ordem 2\n",
    "poly_features = PolynomialFeatures(degree = 2, include_bias = False)"
   ]
  },
  {
   "cell_type": "code",
   "execution_count": 50,
   "metadata": {},
   "outputs": [
    {
     "data": {
      "text/plain": [
       "(7500, 20)"
      ]
     },
     "execution_count": 50,
     "metadata": {},
     "output_type": "execute_result"
    }
   ],
   "source": [
    "Xtrain_poly = poly_features.fit_transform(Xtrain)\n",
    "Xtrain_poly.shape"
   ]
  },
  {
   "cell_type": "code",
   "execution_count": 51,
   "metadata": {},
   "outputs": [
    {
     "data": {
      "text/plain": [
       "array([[5.48813504e-01, 7.15189366e-01, 6.02763376e-01, 5.44883183e-01,\n",
       "        4.23654799e-01, 3.01196262e-01, 3.92505582e-01, 3.30804680e-01,\n",
       "        2.99039249e-01, 2.32507475e-01, 5.11495830e-01, 4.31089957e-01,\n",
       "        3.89694658e-01, 3.02993407e-01, 3.63323688e-01, 3.28435627e-01,\n",
       "        2.55363597e-01, 2.96897683e-01, 2.30842376e-01, 1.79483389e-01],\n",
       "       [6.45894113e-01, 4.37587211e-01, 8.91773001e-01, 9.63662761e-01,\n",
       "        3.83441519e-01, 4.17179205e-01, 2.82635004e-01, 5.75990931e-01,\n",
       "        6.22424104e-01, 2.47662620e-01, 1.91482567e-01, 3.90228460e-01,\n",
       "        4.21686500e-01, 1.67789105e-01, 7.95259085e-01, 8.59368432e-01,\n",
       "        3.41942794e-01, 9.28645916e-01, 3.69508313e-01, 1.47027398e-01],\n",
       "       [7.91725038e-01, 5.28894920e-01, 5.68044561e-01, 9.25596638e-01,\n",
       "        7.10360582e-02, 6.26828536e-01, 4.18739350e-01, 4.49735102e-01,\n",
       "        7.32818034e-01, 5.62410259e-02, 2.79729836e-01, 3.00435883e-01,\n",
       "        4.89543360e-01, 3.75706103e-02, 3.22674623e-01, 5.25780136e-01,\n",
       "        4.03516465e-02, 8.56729137e-01, 6.57507367e-02, 5.04612156e-03],\n",
       "       [8.71292997e-02, 2.02183974e-02, 8.32619846e-01, 7.78156751e-01,\n",
       "        8.70012148e-01, 7.59151487e-03, 1.76161481e-03, 7.25455841e-02,\n",
       "        6.78002528e-02, 7.58035492e-02, 4.08783595e-04, 1.68342390e-02,\n",
       "        1.57330825e-02, 1.75902514e-02, 6.93255807e-01, 6.47908754e-01,\n",
       "        7.24389380e-01, 6.05527929e-01, 6.77005827e-01, 7.56921138e-01],\n",
       "       [9.78618342e-01, 7.99158564e-01, 4.61479362e-01, 7.80529176e-01,\n",
       "        1.18274426e-01, 9.57693860e-01, 7.82071229e-01, 4.51612168e-01,\n",
       "        7.63840169e-01, 1.15745523e-01, 6.38654411e-01, 3.68795185e-01,\n",
       "        6.23766576e-01, 9.45200204e-02, 2.12963202e-01, 3.60198106e-01,\n",
       "        5.45812066e-02, 6.09225795e-01, 9.23166402e-02, 1.39888398e-02],\n",
       "       [6.39921021e-01, 1.43353287e-01, 9.44668917e-01, 5.21848322e-01,\n",
       "        4.14661940e-01, 4.09498914e-01, 9.17347821e-02, 6.04513498e-01,\n",
       "        3.33941711e-01, 2.65350892e-01, 2.05501650e-02, 1.35421395e-01,\n",
       "        7.48086725e-02, 5.94431523e-02, 8.92399363e-01, 4.92973889e-01,\n",
       "        3.91718246e-01, 2.72325671e-01, 2.16390637e-01, 1.71944524e-01],\n",
       "       [2.64555612e-01, 7.74233689e-01, 4.56150332e-01, 5.68433949e-01,\n",
       "        1.87898004e-02, 6.99896719e-02, 2.04827868e-01, 1.20677130e-01,\n",
       "        1.50382391e-01, 4.97094716e-03, 5.99437806e-01, 3.53166955e-01,\n",
       "        4.40100713e-01, 1.45476965e-02, 2.08073126e-01, 2.59291335e-01,\n",
       "        8.57097371e-03, 3.23117154e-01, 1.06807605e-02, 3.53056600e-04],\n",
       "       [6.17635497e-01, 6.12095723e-01, 6.16933997e-01, 9.43748079e-01,\n",
       "        6.81820299e-01, 3.81473607e-01, 3.78052046e-01, 3.81040336e-01,\n",
       "        5.82892314e-01, 4.21116419e-01, 3.74661174e-01, 3.77622661e-01,\n",
       "        5.77664162e-01, 4.17339289e-01, 3.80607556e-01, 5.82230274e-01,\n",
       "        4.20638122e-01, 8.90660436e-01, 6.43466597e-01, 4.64878920e-01],\n",
       "       [3.59507901e-01, 4.37031954e-01, 6.97631196e-01, 6.02254716e-02,\n",
       "        6.66766715e-01, 1.29245931e-01, 1.57116440e-01, 2.50803927e-01,\n",
       "        2.16515329e-02, 2.39707902e-01, 1.90996929e-01, 3.04887125e-01,\n",
       "        2.63204555e-02, 2.91398360e-01, 4.86689286e-01, 4.20151678e-02,\n",
       "        4.65157261e-01, 3.62710743e-03, 4.01563399e-02, 4.44577853e-01],\n",
       "       [6.70637870e-01, 2.10382561e-01, 1.28926298e-01, 3.15428351e-01,\n",
       "        3.63710771e-01, 4.49755152e-01, 1.41090513e-01, 8.64628576e-02,\n",
       "        2.11538197e-01, 2.43918217e-01, 4.42608220e-02, 2.71238447e-02,\n",
       "        6.63606243e-02, 7.65184035e-02, 1.66219902e-02, 4.06670095e-02,\n",
       "        4.68918831e-02, 9.94950446e-02, 1.14724689e-01, 1.32285525e-01]])"
      ]
     },
     "execution_count": 51,
     "metadata": {},
     "output_type": "execute_result"
    }
   ],
   "source": [
    "Xtrain_poly[:10]"
   ]
  },
  {
   "cell_type": "code",
   "execution_count": 52,
   "metadata": {},
   "outputs": [
    {
     "data": {
      "text/plain": [
       "(0.22128329903067723,\n",
       " array([ 1.83038276e+01,  1.90862348e+01, -2.15788698e+01,  7.91467118e+00,\n",
       "         5.11421052e+00, -1.25388135e+01, -2.59190937e-03,  1.62596449e-01,\n",
       "         1.30648628e+00, -1.95537201e-01, -1.21029752e+01,  4.10000805e-01,\n",
       "         6.41601799e-01, -5.36078784e-01,  2.06897119e+01,  1.57215660e+00,\n",
       "        -2.01658918e-01,  6.92060407e-01,  4.38505005e-01, -1.52141136e-01]))"
      ]
     },
     "execution_count": 52,
     "metadata": {},
     "output_type": "execute_result"
    }
   ],
   "source": [
    "poly_fit = LinearRegression() #também poderíamos ter usado nossa classe regLinear com gradient descent\n",
    "poly_fit.fit(Xtrain_poly, ytrain)\n",
    "\n",
    "poly_fit.intercept_, poly_fit.coef_"
   ]
  },
  {
   "cell_type": "markdown",
   "metadata": {},
   "source": [
    "----"
   ]
  },
  {
   "cell_type": "markdown",
   "metadata": {},
   "source": [
    "Exercício: Regressão Logística:"
   ]
  },
  {
   "cell_type": "markdown",
   "metadata": {},
   "source": [
    "Parte 1:\n",
    "\n",
    "Crie uma classe regLogistica para treinar o modelo de regressão logística. Essa classe deve ser usada para problemas de classificação binária, cuja variável target assume os valores: 0 (classe negativa) e 1 (classe positiva).\n",
    "\n",
    "O método construtor dessa classe deve possuir 3 parâmetros: learning_rate, num_steps e limiar.\n",
    "\n",
    "Os outros médotos devem ser:\n",
    "\n",
    "- médoto fit: para treinar o modelo - usando gradient descent\n",
    "\n",
    "- médoto predict_proba: para retornar a probabilidade da classe 1\n",
    "\n",
    "- médoto predict: retornar a classe predita: 0 ou 1 - dependente do limiar\n",
    "Parte 2:\n",
    "\n",
    "Usando a função getData2(), carregue o dataset disponibilizado.\n",
    "\n",
    "Use a regLogistica, classe criada na parte 1 do exercício, para treinar modelos nestes dados. Use validação cruzada para seleção dos parâmetros. Considere diferentes métricas de classificação e justifique as escolhas."
   ]
  },
  {
   "cell_type": "code",
   "execution_count": 57,
   "metadata": {},
   "outputs": [],
   "source": [
    "#função para acessar os dados do exercício 2\n",
    "\n",
    "def getData2():\n",
    "    X, y = make_classification(n_classes=2, n_features=5, n_samples=10000, random_state = 0)\n",
    "    return X, y"
   ]
  },
  {
   "cell_type": "code",
   "execution_count": 63,
   "metadata": {},
   "outputs": [
    {
     "data": {
      "text/plain": [
       "((10000, 5), (10000,))"
      ]
     },
     "execution_count": 63,
     "metadata": {},
     "output_type": "execute_result"
    }
   ],
   "source": [
    "X, y = getData2()\n",
    "X.shape, y.shape"
   ]
  },
  {
   "cell_type": "code",
   "execution_count": 64,
   "metadata": {},
   "outputs": [],
   "source": [
    "#implementando a função de perda logarítmica - Log Loss\n",
    "\n",
    "def logLossCost(ytrue, ypred_probs):\n",
    "    return (ytrue * np.log(ypred_probs) + (1 - ytrue) * np.log(1 - ypred_probs)).mean() * -1"
   ]
  },
  {
   "cell_type": "code",
   "execution_count": 65,
   "metadata": {},
   "outputs": [],
   "source": [
    "def sigmoid(t):\n",
    "    return 1 / (1 + np.exp(-t))"
   ]
  },
  {
   "cell_type": "code",
   "execution_count": 66,
   "metadata": {},
   "outputs": [
    {
     "name": "stdout",
     "output_type": "stream",
     "text": [
      "passo: 0\n",
      "theta: [-0.10975646 -1.59101152  0.09648674 -0.50366782  0.69843334  1.30565748]\n",
      "Log Loss: 1.1334217439048748\n",
      "\n",
      "-----------------------------------------------------------\n",
      "\n",
      "passo: 1\n",
      "theta: [-49.00564345  50.99435655  50.99435655 ... -17.08581395 -17.08581395\n",
      " -17.08581395]\n",
      "Log Loss: nan\n",
      "\n",
      "-----------------------------------------------------------\n",
      "\n",
      "passo: 2\n",
      "theta: [-64.73435749  66.3542508   66.3542508  ...  -9.78070005  -9.78070005\n",
      "  -9.78070005]\n",
      "Log Loss: nan\n",
      "\n",
      "-----------------------------------------------------------\n",
      "\n",
      "passo: 3\n",
      "theta: [-64.73435749  66.3542508   66.3542508  ...  -9.78070005  -9.78070005\n",
      "  -9.78070005]\n",
      "Log Loss: nan\n",
      "\n",
      "-----------------------------------------------------------\n",
      "\n",
      "passo: 4\n",
      "theta: [-64.73435749  66.3542508   66.3542508  ...  -9.78070005  -9.78070005\n",
      "  -9.78070005]\n",
      "Log Loss: nan\n",
      "\n",
      "-----------------------------------------------------------\n",
      "\n",
      "passo: 5\n",
      "theta: [-64.73435749  66.3542508   66.3542508  ...  -9.78070004  -9.78070004\n",
      "  -9.78070004]\n",
      "Log Loss: nan\n",
      "\n",
      "-----------------------------------------------------------\n",
      "\n",
      "passo: 6\n",
      "theta: [-64.73435749  66.3542508   66.3542508  ...  -9.78070004  -9.78070004\n",
      "  -9.78070004]\n",
      "Log Loss: nan\n",
      "\n",
      "-----------------------------------------------------------\n",
      "\n",
      "passo: 7\n",
      "theta: [-64.73435749  66.3542508   66.3542508  ...  -9.78070004  -9.78070004\n",
      "  -9.78070004]\n",
      "Log Loss: nan\n",
      "\n",
      "-----------------------------------------------------------\n",
      "\n",
      "passo: 8\n",
      "theta: [-64.73435749  66.3542508   66.3542508  ...  -9.78070003  -9.78070003\n",
      "  -9.78070003]\n",
      "Log Loss: nan\n",
      "\n",
      "-----------------------------------------------------------\n",
      "\n",
      "passo: 9\n",
      "theta: [-64.73435749  66.3542508   66.3542508  ...  -9.78070003  -9.78070003\n",
      "  -9.78070003]\n",
      "Log Loss: nan\n",
      "\n",
      "-----------------------------------------------------------\n",
      "\n",
      "passo: 10\n",
      "theta: [-64.7343575   66.3542508   66.3542508  ...  -9.78070002  -9.78070002\n",
      "  -9.78070002]\n",
      "Log Loss: nan\n",
      "\n",
      "-----------------------------------------------------------\n",
      "\n",
      "passo: 11\n",
      "theta: [-64.7343575   66.3542508   66.3542508  ...  -9.78070002  -9.78070002\n",
      "  -9.78070002]\n",
      "Log Loss: nan\n",
      "\n",
      "-----------------------------------------------------------\n",
      "\n",
      "passo: 12\n",
      "theta: [-64.7343575   66.3542508   66.3542508  ...  -9.78070002  -9.78070002\n",
      "  -9.78070002]\n",
      "Log Loss: nan\n",
      "\n",
      "-----------------------------------------------------------\n",
      "\n",
      "passo: 13\n",
      "theta: [-64.7343575   66.3542508   66.3542508  ...  -9.78070001  -9.78070001\n",
      "  -9.78070001]\n",
      "Log Loss: nan\n",
      "\n",
      "-----------------------------------------------------------\n",
      "\n",
      "passo: 14\n",
      "theta: [-64.7343575   66.3542508   66.3542508  ...  -9.78070001  -9.78070001\n",
      "  -9.78070001]\n",
      "Log Loss: nan\n",
      "\n",
      "-----------------------------------------------------------\n",
      "\n",
      "passo: 15\n",
      "theta: [-64.7343575  66.3542508  66.3542508 ...  -9.7807     -9.7807\n",
      "  -9.7807   ]\n",
      "Log Loss: nan\n",
      "\n",
      "-----------------------------------------------------------\n",
      "\n",
      "passo: 16\n",
      "theta: [-64.7343575  66.3542508  66.3542508 ...  -9.7807     -9.7807\n",
      "  -9.7807   ]\n",
      "Log Loss: nan\n",
      "\n",
      "-----------------------------------------------------------\n",
      "\n",
      "passo: 17\n",
      "theta: [-64.7343575  66.3542508  66.3542508 ...  -9.7807     -9.7807\n",
      "  -9.7807   ]\n",
      "Log Loss: nan\n",
      "\n",
      "-----------------------------------------------------------\n",
      "\n",
      "passo: 18\n",
      "theta: [-64.73435751  66.3542508   66.3542508  ...  -9.78069999  -9.78069999\n",
      "  -9.78069999]\n",
      "Log Loss: nan\n",
      "\n",
      "-----------------------------------------------------------\n",
      "\n",
      "passo: 19\n",
      "theta: [-64.73435751  66.3542508   66.3542508  ...  -9.78069999  -9.78069999\n",
      "  -9.78069999]\n",
      "Log Loss: nan\n",
      "\n",
      "-----------------------------------------------------------\n",
      "\n",
      "passo: 20\n",
      "theta: [-64.73435751  66.3542508   66.3542508  ...  -9.78069999  -9.78069999\n",
      "  -9.78069999]\n",
      "Log Loss: nan\n",
      "\n",
      "-----------------------------------------------------------\n",
      "\n",
      "passo: 21\n",
      "theta: [-64.73435751  66.3542508   66.3542508  ...  -9.78069998  -9.78069998\n",
      "  -9.78069998]\n",
      "Log Loss: nan\n",
      "\n",
      "-----------------------------------------------------------\n",
      "\n",
      "passo: 22\n",
      "theta: [-64.73435751  66.3542508   66.3542508  ...  -9.78069998  -9.78069998\n",
      "  -9.78069998]\n",
      "Log Loss: nan\n",
      "\n",
      "-----------------------------------------------------------\n",
      "\n",
      "passo: 23\n",
      "theta: [-64.73435751  66.3542508   66.3542508  ...  -9.78069997  -9.78069997\n",
      "  -9.78069997]\n",
      "Log Loss: nan\n",
      "\n",
      "-----------------------------------------------------------\n",
      "\n",
      "passo: 24\n",
      "theta: [-64.73435751  66.3542508   66.3542508  ...  -9.78069997  -9.78069997\n",
      "  -9.78069997]\n",
      "Log Loss: nan\n",
      "\n",
      "-----------------------------------------------------------\n",
      "\n",
      "passo: 25\n",
      "theta: [-64.73435751  66.3542508   66.3542508  ...  -9.78069997  -9.78069997\n",
      "  -9.78069997]\n",
      "Log Loss: nan\n",
      "\n",
      "-----------------------------------------------------------\n",
      "\n",
      "passo: 26\n",
      "theta: [-64.73435751  66.3542508   66.3542508  ...  -9.78069996  -9.78069996\n",
      "  -9.78069996]\n",
      "Log Loss: nan\n",
      "\n",
      "-----------------------------------------------------------\n",
      "\n",
      "passo: 27\n",
      "theta: [-64.73435752  66.3542508   66.3542508  ...  -9.78069996  -9.78069996\n",
      "  -9.78069996]\n",
      "Log Loss: nan\n",
      "\n",
      "-----------------------------------------------------------\n",
      "\n",
      "passo: 28\n",
      "theta: [-64.73435752  66.3542508   66.3542508  ...  -9.78069995  -9.78069995\n",
      "  -9.78069995]\n",
      "Log Loss: nan\n",
      "\n",
      "-----------------------------------------------------------\n",
      "\n",
      "passo: 29\n",
      "theta: [-64.73435752  66.3542508   66.3542508  ...  -9.78069995  -9.78069995\n",
      "  -9.78069995]\n",
      "Log Loss: nan\n",
      "\n",
      "-----------------------------------------------------------\n",
      "\n",
      "passo: 30\n",
      "theta: [-64.73435752  66.3542508   66.3542508  ...  -9.78069995  -9.78069995\n",
      "  -9.78069995]\n",
      "Log Loss: nan\n",
      "\n",
      "-----------------------------------------------------------\n",
      "\n",
      "passo: 31\n",
      "theta: [-64.73435752  66.3542508   66.3542508  ...  -9.78069994  -9.78069994\n",
      "  -9.78069994]\n",
      "Log Loss: nan\n",
      "\n",
      "-----------------------------------------------------------\n",
      "\n",
      "passo: 32\n",
      "theta: [-64.73435752  66.3542508   66.3542508  ...  -9.78069994  -9.78069994\n",
      "  -9.78069994]\n",
      "Log Loss: nan\n",
      "\n",
      "-----------------------------------------------------------\n",
      "\n",
      "passo: 33\n",
      "theta: [-64.73435752  66.3542508   66.3542508  ...  -9.78069994  -9.78069994\n",
      "  -9.78069994]\n",
      "Log Loss: nan\n",
      "\n",
      "-----------------------------------------------------------\n",
      "\n",
      "passo: 34\n",
      "theta: [-64.73435752  66.3542508   66.3542508  ...  -9.78069993  -9.78069993\n",
      "  -9.78069993]\n",
      "Log Loss: nan\n",
      "\n",
      "-----------------------------------------------------------\n",
      "\n",
      "passo: 35\n",
      "theta: [-64.73435753  66.3542508   66.3542508  ...  -9.78069993  -9.78069993\n",
      "  -9.78069993]\n",
      "Log Loss: nan\n",
      "\n",
      "-----------------------------------------------------------\n",
      "\n",
      "passo: 36\n",
      "theta: [-64.73435753  66.3542508   66.3542508  ...  -9.78069992  -9.78069992\n",
      "  -9.78069992]\n",
      "Log Loss: nan\n",
      "\n",
      "-----------------------------------------------------------\n",
      "\n",
      "passo: 37\n",
      "theta: [-64.73435753  66.3542508   66.3542508  ...  -9.78069992  -9.78069992\n",
      "  -9.78069992]\n",
      "Log Loss: nan\n",
      "\n",
      "-----------------------------------------------------------\n",
      "\n",
      "passo: 38\n",
      "theta: [-64.73435753  66.3542508   66.3542508  ...  -9.78069992  -9.78069992\n",
      "  -9.78069992]\n",
      "Log Loss: nan\n",
      "\n",
      "-----------------------------------------------------------\n",
      "\n",
      "passo: 39\n",
      "theta: [-64.73435753  66.3542508   66.3542508  ...  -9.78069991  -9.78069991\n",
      "  -9.78069991]\n",
      "Log Loss: nan\n",
      "\n",
      "-----------------------------------------------------------\n",
      "\n",
      "passo: 40\n",
      "theta: [-64.73435753  66.3542508   66.3542508  ...  -9.78069991  -9.78069991\n",
      "  -9.78069991]\n",
      "Log Loss: nan\n",
      "\n",
      "-----------------------------------------------------------\n",
      "\n",
      "passo: 41\n",
      "theta: [-64.73435753  66.3542508   66.3542508  ...  -9.7806999   -9.7806999\n",
      "  -9.7806999 ]\n",
      "Log Loss: nan\n",
      "\n",
      "-----------------------------------------------------------\n",
      "\n",
      "passo: 42\n",
      "theta: [-64.73435753  66.3542508   66.3542508  ...  -9.7806999   -9.7806999\n",
      "  -9.7806999 ]\n",
      "Log Loss: nan\n",
      "\n",
      "-----------------------------------------------------------\n",
      "\n",
      "passo: 43\n",
      "theta: [-64.73435754  66.3542508   66.3542508  ...  -9.7806999   -9.7806999\n",
      "  -9.7806999 ]\n",
      "Log Loss: nan\n",
      "\n",
      "-----------------------------------------------------------\n",
      "\n",
      "passo: 44\n",
      "theta: [-64.73435754  66.3542508   66.3542508  ...  -9.78069989  -9.78069989\n",
      "  -9.78069989]\n",
      "Log Loss: nan\n",
      "\n",
      "-----------------------------------------------------------\n",
      "\n",
      "passo: 45\n",
      "theta: [-64.73435754  66.3542508   66.3542508  ...  -9.78069989  -9.78069989\n",
      "  -9.78069989]\n",
      "Log Loss: nan\n",
      "\n",
      "-----------------------------------------------------------\n",
      "\n",
      "passo: 46\n",
      "theta: [-64.73435754  66.3542508   66.3542508  ...  -9.78069989  -9.78069989\n",
      "  -9.78069989]\n"
     ]
    },
    {
     "name": "stdout",
     "output_type": "stream",
     "text": [
      "Log Loss: nan\n",
      "\n",
      "-----------------------------------------------------------\n",
      "\n",
      "passo: 47\n",
      "theta: [-64.73435754  66.3542508   66.3542508  ...  -9.78069988  -9.78069988\n",
      "  -9.78069988]\n",
      "Log Loss: nan\n",
      "\n",
      "-----------------------------------------------------------\n",
      "\n",
      "passo: 48\n",
      "theta: [-64.73435754  66.3542508   66.3542508  ...  -9.78069988  -9.78069988\n",
      "  -9.78069988]\n",
      "Log Loss: nan\n",
      "\n",
      "-----------------------------------------------------------\n",
      "\n",
      "passo: 49\n",
      "theta: [-64.73435754  66.3542508   66.3542508  ...  -9.78069987  -9.78069987\n",
      "  -9.78069987]\n",
      "Log Loss: nan\n",
      "\n",
      "-----------------------------------------------------------\n",
      "\n",
      "passo: 50\n",
      "theta: [-64.73435754  66.3542508   66.3542508  ...  -9.78069987  -9.78069987\n",
      "  -9.78069987]\n",
      "Log Loss: nan\n",
      "\n",
      "-----------------------------------------------------------\n",
      "\n",
      "passo: 51\n",
      "theta: [-64.73435754  66.3542508   66.3542508  ...  -9.78069987  -9.78069987\n",
      "  -9.78069987]\n",
      "Log Loss: nan\n",
      "\n",
      "-----------------------------------------------------------\n",
      "\n",
      "passo: 52\n",
      "theta: [-64.73435755  66.3542508   66.3542508  ...  -9.78069986  -9.78069986\n",
      "  -9.78069986]\n",
      "Log Loss: nan\n",
      "\n",
      "-----------------------------------------------------------\n",
      "\n",
      "passo: 53\n",
      "theta: [-64.73435755  66.3542508   66.3542508  ...  -9.78069986  -9.78069986\n",
      "  -9.78069986]\n",
      "Log Loss: nan\n",
      "\n",
      "-----------------------------------------------------------\n",
      "\n",
      "passo: 54\n",
      "theta: [-64.73435755  66.3542508   66.3542508  ...  -9.78069985  -9.78069985\n",
      "  -9.78069985]\n",
      "Log Loss: nan\n",
      "\n",
      "-----------------------------------------------------------\n",
      "\n",
      "passo: 55\n",
      "theta: [-64.73435755  66.3542508   66.3542508  ...  -9.78069985  -9.78069985\n",
      "  -9.78069985]\n",
      "Log Loss: nan\n",
      "\n",
      "-----------------------------------------------------------\n",
      "\n",
      "passo: 56\n",
      "theta: [-64.73435755  66.3542508   66.3542508  ...  -9.78069985  -9.78069985\n",
      "  -9.78069985]\n",
      "Log Loss: nan\n",
      "\n",
      "-----------------------------------------------------------\n",
      "\n",
      "passo: 57\n",
      "theta: [-64.73435755  66.3542508   66.3542508  ...  -9.78069984  -9.78069984\n",
      "  -9.78069984]\n",
      "Log Loss: nan\n",
      "\n",
      "-----------------------------------------------------------\n",
      "\n",
      "passo: 58\n",
      "theta: [-64.73435755  66.3542508   66.3542508  ...  -9.78069984  -9.78069984\n",
      "  -9.78069984]\n",
      "Log Loss: nan\n",
      "\n",
      "-----------------------------------------------------------\n",
      "\n",
      "passo: 59\n",
      "theta: [-64.73435755  66.3542508   66.3542508  ...  -9.78069983  -9.78069983\n",
      "  -9.78069983]\n",
      "Log Loss: nan\n",
      "\n",
      "-----------------------------------------------------------\n",
      "\n",
      "passo: 60\n",
      "theta: [-64.73435756  66.3542508   66.3542508  ...  -9.78069983  -9.78069983\n",
      "  -9.78069983]\n",
      "Log Loss: nan\n",
      "\n",
      "-----------------------------------------------------------\n",
      "\n",
      "passo: 61\n",
      "theta: [-64.73435756  66.3542508   66.3542508  ...  -9.78069983  -9.78069983\n",
      "  -9.78069983]\n",
      "Log Loss: nan\n",
      "\n",
      "-----------------------------------------------------------\n",
      "\n",
      "passo: 62\n",
      "theta: [-64.73435756  66.3542508   66.3542508  ...  -9.78069982  -9.78069982\n",
      "  -9.78069982]\n",
      "Log Loss: nan\n",
      "\n",
      "-----------------------------------------------------------\n",
      "\n",
      "passo: 63\n",
      "theta: [-64.73435756  66.3542508   66.3542508  ...  -9.78069982  -9.78069982\n",
      "  -9.78069982]\n",
      "Log Loss: nan\n",
      "\n",
      "-----------------------------------------------------------\n",
      "\n",
      "passo: 64\n",
      "theta: [-64.73435756  66.3542508   66.3542508  ...  -9.78069982  -9.78069982\n",
      "  -9.78069982]\n",
      "Log Loss: nan\n",
      "\n",
      "-----------------------------------------------------------\n",
      "\n",
      "passo: 65\n",
      "theta: [-64.73435756  66.3542508   66.3542508  ...  -9.78069981  -9.78069981\n",
      "  -9.78069981]\n",
      "Log Loss: nan\n",
      "\n",
      "-----------------------------------------------------------\n",
      "\n",
      "passo: 66\n",
      "theta: [-64.73435756  66.3542508   66.3542508  ...  -9.78069981  -9.78069981\n",
      "  -9.78069981]\n",
      "Log Loss: nan\n",
      "\n",
      "-----------------------------------------------------------\n",
      "\n",
      "passo: 67\n",
      "theta: [-64.73435756  66.3542508   66.3542508  ...  -9.7806998   -9.7806998\n",
      "  -9.7806998 ]\n",
      "Log Loss: nan\n",
      "\n",
      "-----------------------------------------------------------\n",
      "\n",
      "passo: 68\n",
      "theta: [-64.73435756  66.3542508   66.3542508  ...  -9.7806998   -9.7806998\n",
      "  -9.7806998 ]\n",
      "Log Loss: nan\n",
      "\n",
      "-----------------------------------------------------------\n",
      "\n",
      "passo: 69\n",
      "theta: [-64.73435757  66.3542508   66.3542508  ...  -9.7806998   -9.7806998\n",
      "  -9.7806998 ]\n",
      "Log Loss: nan\n",
      "\n",
      "-----------------------------------------------------------\n",
      "\n",
      "passo: 70\n",
      "theta: [-64.73435757  66.3542508   66.3542508  ...  -9.78069979  -9.78069979\n",
      "  -9.78069979]\n",
      "Log Loss: nan\n",
      "\n",
      "-----------------------------------------------------------\n",
      "\n",
      "passo: 71\n",
      "theta: [-64.73435757  66.3542508   66.3542508  ...  -9.78069979  -9.78069979\n",
      "  -9.78069979]\n",
      "Log Loss: nan\n",
      "\n",
      "-----------------------------------------------------------\n",
      "\n",
      "passo: 72\n",
      "theta: [-64.73435757  66.3542508   66.3542508  ...  -9.78069978  -9.78069978\n",
      "  -9.78069978]\n",
      "Log Loss: nan\n",
      "\n",
      "-----------------------------------------------------------\n",
      "\n",
      "passo: 73\n",
      "theta: [-64.73435757  66.3542508   66.3542508  ...  -9.78069978  -9.78069978\n",
      "  -9.78069978]\n",
      "Log Loss: nan\n",
      "\n",
      "-----------------------------------------------------------\n",
      "\n",
      "passo: 74\n",
      "theta: [-64.73435757  66.3542508   66.3542508  ...  -9.78069978  -9.78069978\n",
      "  -9.78069978]\n",
      "Log Loss: nan\n",
      "\n",
      "-----------------------------------------------------------\n",
      "\n",
      "passo: 75\n",
      "theta: [-64.73435757  66.3542508   66.3542508  ...  -9.78069977  -9.78069977\n",
      "  -9.78069977]\n",
      "Log Loss: nan\n",
      "\n",
      "-----------------------------------------------------------\n",
      "\n",
      "passo: 76\n",
      "theta: [-64.73435757  66.3542508   66.3542508  ...  -9.78069977  -9.78069977\n",
      "  -9.78069977]\n",
      "Log Loss: nan\n",
      "\n",
      "-----------------------------------------------------------\n",
      "\n",
      "passo: 77\n",
      "theta: [-64.73435758  66.3542508   66.3542508  ...  -9.78069977  -9.78069977\n",
      "  -9.78069977]\n",
      "Log Loss: nan\n",
      "\n",
      "-----------------------------------------------------------\n",
      "\n",
      "passo: 78\n",
      "theta: [-64.73435758  66.3542508   66.3542508  ...  -9.78069976  -9.78069976\n",
      "  -9.78069976]\n",
      "Log Loss: nan\n",
      "\n",
      "-----------------------------------------------------------\n",
      "\n",
      "passo: 79\n",
      "theta: [-64.73435758  66.3542508   66.3542508  ...  -9.78069976  -9.78069976\n",
      "  -9.78069976]\n",
      "Log Loss: nan\n",
      "\n",
      "-----------------------------------------------------------\n",
      "\n",
      "passo: 80\n",
      "theta: [-64.73435758  66.3542508   66.3542508  ...  -9.78069975  -9.78069975\n",
      "  -9.78069975]\n",
      "Log Loss: nan\n",
      "\n",
      "-----------------------------------------------------------\n",
      "\n",
      "passo: 81\n",
      "theta: [-64.73435758  66.3542508   66.3542508  ...  -9.78069975  -9.78069975\n",
      "  -9.78069975]\n",
      "Log Loss: nan\n",
      "\n",
      "-----------------------------------------------------------\n",
      "\n",
      "passo: 82\n",
      "theta: [-64.73435758  66.3542508   66.3542508  ...  -9.78069975  -9.78069975\n",
      "  -9.78069975]\n",
      "Log Loss: nan\n",
      "\n",
      "-----------------------------------------------------------\n",
      "\n",
      "passo: 83\n",
      "theta: [-64.73435758  66.3542508   66.3542508  ...  -9.78069974  -9.78069974\n",
      "  -9.78069974]\n",
      "Log Loss: nan\n",
      "\n",
      "-----------------------------------------------------------\n",
      "\n",
      "passo: 84\n",
      "theta: [-64.73435758  66.3542508   66.3542508  ...  -9.78069974  -9.78069974\n",
      "  -9.78069974]\n",
      "Log Loss: nan\n",
      "\n",
      "-----------------------------------------------------------\n",
      "\n",
      "passo: 85\n",
      "theta: [-64.73435758  66.3542508   66.3542508  ...  -9.78069973  -9.78069973\n",
      "  -9.78069973]\n",
      "Log Loss: nan\n",
      "\n",
      "-----------------------------------------------------------\n",
      "\n",
      "passo: 86\n",
      "theta: [-64.73435759  66.3542508   66.3542508  ...  -9.78069973  -9.78069973\n",
      "  -9.78069973]\n",
      "Log Loss: nan\n",
      "\n",
      "-----------------------------------------------------------\n",
      "\n",
      "passo: 87\n",
      "theta: [-64.73435759  66.3542508   66.3542508  ...  -9.78069973  -9.78069973\n",
      "  -9.78069973]\n",
      "Log Loss: nan\n",
      "\n",
      "-----------------------------------------------------------\n",
      "\n",
      "passo: 88\n",
      "theta: [-64.73435759  66.3542508   66.3542508  ...  -9.78069972  -9.78069972\n",
      "  -9.78069972]\n",
      "Log Loss: nan\n",
      "\n",
      "-----------------------------------------------------------\n",
      "\n",
      "passo: 89\n",
      "theta: [-64.73435759  66.3542508   66.3542508  ...  -9.78069972  -9.78069972\n",
      "  -9.78069972]\n",
      "Log Loss: nan\n",
      "\n",
      "-----------------------------------------------------------\n",
      "\n",
      "passo: 90\n",
      "theta: [-64.73435759  66.3542508   66.3542508  ...  -9.78069972  -9.78069972\n",
      "  -9.78069972]\n",
      "Log Loss: nan\n",
      "\n",
      "-----------------------------------------------------------\n",
      "\n",
      "passo: 91\n",
      "theta: [-64.73435759  66.3542508   66.3542508  ...  -9.78069971  -9.78069971\n",
      "  -9.78069971]\n",
      "Log Loss: nan\n",
      "\n",
      "-----------------------------------------------------------\n",
      "\n",
      "passo: 92\n",
      "theta: [-64.73435759  66.3542508   66.3542508  ...  -9.78069971  -9.78069971\n",
      "  -9.78069971]\n",
      "Log Loss: nan\n",
      "\n",
      "-----------------------------------------------------------\n",
      "\n",
      "passo: 93\n",
      "theta: [-64.73435759  66.3542508   66.3542508  ...  -9.7806997   -9.7806997\n",
      "  -9.7806997 ]\n"
     ]
    },
    {
     "name": "stdout",
     "output_type": "stream",
     "text": [
      "Log Loss: nan\n",
      "\n",
      "-----------------------------------------------------------\n",
      "\n",
      "passo: 94\n",
      "theta: [-64.7343576  66.3542508  66.3542508 ...  -9.7806997  -9.7806997\n",
      "  -9.7806997]\n",
      "Log Loss: nan\n",
      "\n",
      "-----------------------------------------------------------\n",
      "\n",
      "passo: 95\n",
      "theta: [-64.7343576  66.3542508  66.3542508 ...  -9.7806997  -9.7806997\n",
      "  -9.7806997]\n",
      "Log Loss: nan\n",
      "\n",
      "-----------------------------------------------------------\n",
      "\n",
      "passo: 96\n",
      "theta: [-64.7343576   66.3542508   66.3542508  ...  -9.78069969  -9.78069969\n",
      "  -9.78069969]\n",
      "Log Loss: nan\n",
      "\n",
      "-----------------------------------------------------------\n",
      "\n",
      "passo: 97\n",
      "theta: [-64.7343576   66.3542508   66.3542508  ...  -9.78069969  -9.78069969\n",
      "  -9.78069969]\n",
      "Log Loss: nan\n",
      "\n",
      "-----------------------------------------------------------\n",
      "\n",
      "passo: 98\n",
      "theta: [-64.7343576   66.3542508   66.3542508  ...  -9.78069968  -9.78069968\n",
      "  -9.78069968]\n",
      "Log Loss: nan\n",
      "\n",
      "-----------------------------------------------------------\n",
      "\n",
      "passo: 99\n",
      "theta: [-64.7343576   66.3542508   66.3542508  ...  -9.78069968  -9.78069968\n",
      "  -9.78069968]\n",
      "Log Loss: nan\n",
      "\n",
      "-----------------------------------------------------------\n",
      "\n"
     ]
    }
   ],
   "source": [
    "#implementação do gradient descent para treinamento da regressão logística\n",
    "\n",
    "\n",
    "learning_rate = 0.01\n",
    "num_steps = 100\n",
    "\n",
    "#criando uma coluna de 1's no dataset X \n",
    "X_b = np.c_[np.ones(X.shape[0]), X]\n",
    "\n",
    "#instanciando um vetor de parâmetros theta aleatório\n",
    "theta = np.random.randn(X_b.shape[1],1)\n",
    "\n",
    "\n",
    "for step in range(num_steps):\n",
    "    \n",
    "    print('passo:', step)\n",
    "    print('theta:', theta.reshape(-1,))\n",
    "    \n",
    "    #calculando a probabilidade \n",
    "    yscores = sigmoid(X_b.dot(theta))\n",
    "    \n",
    "    #calculando o gradiente da Log Loss\n",
    "    gradient = X_b.T.dot(yscores - y)\n",
    "    \n",
    "    #atualizando os pesos\n",
    "    theta = theta - learning_rate * gradient\n",
    "    \n",
    "    #calculando a Log Loss dentro do passo\n",
    "    logloss_step = logLossCost(ytrue = y, ypred_probs = yscores)\n",
    "    print(\"Log Loss:\", logloss_step)\n",
    "    print('\\n-----------------------------------------------------------\\n')\n",
    "    \n",
    "theta_final = theta"
   ]
  },
  {
   "cell_type": "code",
   "execution_count": 67,
   "metadata": {},
   "outputs": [
    {
     "data": {
      "text/plain": [
       "array([[6.63932020e-36, 1.00000000e+00, 1.00000000e+00, ...,\n",
       "        6.63932020e-36, 6.63932020e-36, 6.63932020e-36],\n",
       "       [1.12247861e-21, 1.00000000e+00, 1.00000000e+00, ...,\n",
       "        1.12247861e-21, 1.12247861e-21, 1.12247861e-21],\n",
       "       [1.04490069e-26, 1.00000000e+00, 1.00000000e+00, ...,\n",
       "        1.04490069e-26, 1.04490069e-26, 1.04490069e-26],\n",
       "       ...,\n",
       "       [2.13262283e-20, 1.00000000e+00, 1.00000000e+00, ...,\n",
       "        2.13262283e-20, 2.13262283e-20, 2.13262283e-20],\n",
       "       [1.05521762e-22, 1.00000000e+00, 1.00000000e+00, ...,\n",
       "        1.05521762e-22, 1.05521762e-22, 1.05521762e-22],\n",
       "       [6.55159768e-19, 1.00000000e+00, 1.00000000e+00, ...,\n",
       "        6.55159768e-19, 6.55159768e-19, 6.55159768e-19]])"
      ]
     },
     "execution_count": 67,
     "metadata": {},
     "output_type": "execute_result"
    }
   ],
   "source": [
    "#fazendo as predições com o theta final\n",
    "\n",
    "probs = sigmoid(X_b.dot(theta_final))\n",
    "probs"
   ]
  },
  {
   "cell_type": "code",
   "execution_count": 68,
   "metadata": {},
   "outputs": [
    {
     "data": {
      "text/plain": [
       "array([[0, 1, 1, ..., 0, 0, 0],\n",
       "       [0, 1, 1, ..., 0, 0, 0],\n",
       "       [0, 1, 1, ..., 0, 0, 0],\n",
       "       ...,\n",
       "       [0, 1, 1, ..., 0, 0, 0],\n",
       "       [0, 1, 1, ..., 0, 0, 0],\n",
       "       [0, 1, 1, ..., 0, 0, 0]])"
      ]
     },
     "execution_count": 68,
     "metadata": {},
     "output_type": "execute_result"
    }
   ],
   "source": [
    "limiar = 0.5\n",
    "ypred = np.where(probs > limiar, 1, 0)\n",
    "ypred"
   ]
  },
  {
   "cell_type": "code",
   "execution_count": null,
   "metadata": {},
   "outputs": [],
   "source": []
  }
 ],
 "metadata": {
  "kernelspec": {
   "display_name": "Python 3 (ipykernel)",
   "language": "python",
   "name": "python3"
  },
  "language_info": {
   "codemirror_mode": {
    "name": "ipython",
    "version": 3
   },
   "file_extension": ".py",
   "mimetype": "text/x-python",
   "name": "python",
   "nbconvert_exporter": "python",
   "pygments_lexer": "ipython3",
   "version": "3.9.12"
  }
 },
 "nbformat": 4,
 "nbformat_minor": 2
}
