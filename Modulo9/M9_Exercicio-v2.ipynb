{
 "cells": [
  {
   "cell_type": "code",
   "execution_count": 47,
   "metadata": {},
   "outputs": [],
   "source": [
    "import pandas as pd\n",
    "import numpy as np\n",
    "import matplotlib.pyplot as plt\n",
    "from sklearn.preprocessing import OneHotEncoder\n",
    "from sklearn.model_selection import train_test_split\n",
    "from sklearn.model_selection import cross_val_score\n",
    "from sklearn.preprocessing import StandardScaler\n",
    "\n",
    "#algoritmos\n",
    "from sklearn.linear_model import LinearRegression\n",
    "from sklearn.neighbors import KNeighborsRegressor\n",
    "from sklearn.tree import DecisionTreeRegressor\n",
    "\n",
    "#metricas de performance\n",
    "from sklearn.metrics import mean_squared_error, r2_score"
   ]
  },
  {
   "cell_type": "code",
   "execution_count": 48,
   "metadata": {},
   "outputs": [
    {
     "data": {
      "text/html": [
       "<div>\n",
       "<style scoped>\n",
       "    .dataframe tbody tr th:only-of-type {\n",
       "        vertical-align: middle;\n",
       "    }\n",
       "\n",
       "    .dataframe tbody tr th {\n",
       "        vertical-align: top;\n",
       "    }\n",
       "\n",
       "    .dataframe thead th {\n",
       "        text-align: right;\n",
       "    }\n",
       "</style>\n",
       "<table border=\"1\" class=\"dataframe\">\n",
       "  <thead>\n",
       "    <tr style=\"text-align: right;\">\n",
       "      <th></th>\n",
       "      <th>sex</th>\n",
       "      <th>age</th>\n",
       "      <th>famsize</th>\n",
       "      <th>Pstatus</th>\n",
       "      <th>traveltime</th>\n",
       "      <th>studytime</th>\n",
       "      <th>schoolsup</th>\n",
       "      <th>famsup</th>\n",
       "      <th>paid</th>\n",
       "      <th>activities</th>\n",
       "      <th>internet</th>\n",
       "      <th>romantic</th>\n",
       "      <th>famrel</th>\n",
       "      <th>freetime</th>\n",
       "      <th>goout</th>\n",
       "      <th>absences</th>\n",
       "      <th>G3</th>\n",
       "    </tr>\n",
       "  </thead>\n",
       "  <tbody>\n",
       "    <tr>\n",
       "      <th>0</th>\n",
       "      <td>F</td>\n",
       "      <td>18</td>\n",
       "      <td>GT3</td>\n",
       "      <td>A</td>\n",
       "      <td>2</td>\n",
       "      <td>2</td>\n",
       "      <td>yes</td>\n",
       "      <td>no</td>\n",
       "      <td>no</td>\n",
       "      <td>no</td>\n",
       "      <td>no</td>\n",
       "      <td>no</td>\n",
       "      <td>4</td>\n",
       "      <td>3</td>\n",
       "      <td>4</td>\n",
       "      <td>6</td>\n",
       "      <td>6</td>\n",
       "    </tr>\n",
       "    <tr>\n",
       "      <th>1</th>\n",
       "      <td>F</td>\n",
       "      <td>17</td>\n",
       "      <td>GT3</td>\n",
       "      <td>T</td>\n",
       "      <td>1</td>\n",
       "      <td>2</td>\n",
       "      <td>no</td>\n",
       "      <td>yes</td>\n",
       "      <td>no</td>\n",
       "      <td>no</td>\n",
       "      <td>yes</td>\n",
       "      <td>no</td>\n",
       "      <td>5</td>\n",
       "      <td>3</td>\n",
       "      <td>3</td>\n",
       "      <td>4</td>\n",
       "      <td>6</td>\n",
       "    </tr>\n",
       "    <tr>\n",
       "      <th>2</th>\n",
       "      <td>F</td>\n",
       "      <td>15</td>\n",
       "      <td>LE3</td>\n",
       "      <td>T</td>\n",
       "      <td>1</td>\n",
       "      <td>2</td>\n",
       "      <td>yes</td>\n",
       "      <td>no</td>\n",
       "      <td>yes</td>\n",
       "      <td>no</td>\n",
       "      <td>yes</td>\n",
       "      <td>no</td>\n",
       "      <td>4</td>\n",
       "      <td>3</td>\n",
       "      <td>2</td>\n",
       "      <td>10</td>\n",
       "      <td>10</td>\n",
       "    </tr>\n",
       "    <tr>\n",
       "      <th>3</th>\n",
       "      <td>F</td>\n",
       "      <td>15</td>\n",
       "      <td>GT3</td>\n",
       "      <td>T</td>\n",
       "      <td>1</td>\n",
       "      <td>3</td>\n",
       "      <td>no</td>\n",
       "      <td>yes</td>\n",
       "      <td>yes</td>\n",
       "      <td>yes</td>\n",
       "      <td>yes</td>\n",
       "      <td>yes</td>\n",
       "      <td>3</td>\n",
       "      <td>2</td>\n",
       "      <td>2</td>\n",
       "      <td>2</td>\n",
       "      <td>15</td>\n",
       "    </tr>\n",
       "    <tr>\n",
       "      <th>4</th>\n",
       "      <td>F</td>\n",
       "      <td>16</td>\n",
       "      <td>GT3</td>\n",
       "      <td>T</td>\n",
       "      <td>1</td>\n",
       "      <td>2</td>\n",
       "      <td>no</td>\n",
       "      <td>yes</td>\n",
       "      <td>yes</td>\n",
       "      <td>no</td>\n",
       "      <td>no</td>\n",
       "      <td>no</td>\n",
       "      <td>4</td>\n",
       "      <td>3</td>\n",
       "      <td>2</td>\n",
       "      <td>4</td>\n",
       "      <td>10</td>\n",
       "    </tr>\n",
       "    <tr>\n",
       "      <th>...</th>\n",
       "      <td>...</td>\n",
       "      <td>...</td>\n",
       "      <td>...</td>\n",
       "      <td>...</td>\n",
       "      <td>...</td>\n",
       "      <td>...</td>\n",
       "      <td>...</td>\n",
       "      <td>...</td>\n",
       "      <td>...</td>\n",
       "      <td>...</td>\n",
       "      <td>...</td>\n",
       "      <td>...</td>\n",
       "      <td>...</td>\n",
       "      <td>...</td>\n",
       "      <td>...</td>\n",
       "      <td>...</td>\n",
       "      <td>...</td>\n",
       "    </tr>\n",
       "    <tr>\n",
       "      <th>1039</th>\n",
       "      <td>F</td>\n",
       "      <td>19</td>\n",
       "      <td>GT3</td>\n",
       "      <td>T</td>\n",
       "      <td>1</td>\n",
       "      <td>3</td>\n",
       "      <td>no</td>\n",
       "      <td>no</td>\n",
       "      <td>no</td>\n",
       "      <td>yes</td>\n",
       "      <td>yes</td>\n",
       "      <td>no</td>\n",
       "      <td>5</td>\n",
       "      <td>4</td>\n",
       "      <td>2</td>\n",
       "      <td>4</td>\n",
       "      <td>10</td>\n",
       "    </tr>\n",
       "    <tr>\n",
       "      <th>1040</th>\n",
       "      <td>F</td>\n",
       "      <td>18</td>\n",
       "      <td>LE3</td>\n",
       "      <td>T</td>\n",
       "      <td>1</td>\n",
       "      <td>2</td>\n",
       "      <td>no</td>\n",
       "      <td>yes</td>\n",
       "      <td>no</td>\n",
       "      <td>no</td>\n",
       "      <td>yes</td>\n",
       "      <td>no</td>\n",
       "      <td>4</td>\n",
       "      <td>3</td>\n",
       "      <td>4</td>\n",
       "      <td>4</td>\n",
       "      <td>16</td>\n",
       "    </tr>\n",
       "    <tr>\n",
       "      <th>1041</th>\n",
       "      <td>F</td>\n",
       "      <td>18</td>\n",
       "      <td>GT3</td>\n",
       "      <td>T</td>\n",
       "      <td>2</td>\n",
       "      <td>2</td>\n",
       "      <td>no</td>\n",
       "      <td>no</td>\n",
       "      <td>no</td>\n",
       "      <td>yes</td>\n",
       "      <td>no</td>\n",
       "      <td>no</td>\n",
       "      <td>1</td>\n",
       "      <td>1</td>\n",
       "      <td>1</td>\n",
       "      <td>6</td>\n",
       "      <td>9</td>\n",
       "    </tr>\n",
       "    <tr>\n",
       "      <th>1042</th>\n",
       "      <td>M</td>\n",
       "      <td>17</td>\n",
       "      <td>LE3</td>\n",
       "      <td>T</td>\n",
       "      <td>2</td>\n",
       "      <td>1</td>\n",
       "      <td>no</td>\n",
       "      <td>no</td>\n",
       "      <td>no</td>\n",
       "      <td>no</td>\n",
       "      <td>yes</td>\n",
       "      <td>no</td>\n",
       "      <td>2</td>\n",
       "      <td>4</td>\n",
       "      <td>5</td>\n",
       "      <td>6</td>\n",
       "      <td>10</td>\n",
       "    </tr>\n",
       "    <tr>\n",
       "      <th>1043</th>\n",
       "      <td>M</td>\n",
       "      <td>18</td>\n",
       "      <td>LE3</td>\n",
       "      <td>T</td>\n",
       "      <td>3</td>\n",
       "      <td>1</td>\n",
       "      <td>no</td>\n",
       "      <td>no</td>\n",
       "      <td>no</td>\n",
       "      <td>no</td>\n",
       "      <td>yes</td>\n",
       "      <td>no</td>\n",
       "      <td>4</td>\n",
       "      <td>4</td>\n",
       "      <td>1</td>\n",
       "      <td>4</td>\n",
       "      <td>11</td>\n",
       "    </tr>\n",
       "  </tbody>\n",
       "</table>\n",
       "<p>1044 rows × 17 columns</p>\n",
       "</div>"
      ],
      "text/plain": [
       "     sex  age famsize Pstatus  traveltime  studytime schoolsup famsup paid  \\\n",
       "0      F   18     GT3       A           2          2       yes     no   no   \n",
       "1      F   17     GT3       T           1          2        no    yes   no   \n",
       "2      F   15     LE3       T           1          2       yes     no  yes   \n",
       "3      F   15     GT3       T           1          3        no    yes  yes   \n",
       "4      F   16     GT3       T           1          2        no    yes  yes   \n",
       "...   ..  ...     ...     ...         ...        ...       ...    ...  ...   \n",
       "1039   F   19     GT3       T           1          3        no     no   no   \n",
       "1040   F   18     LE3       T           1          2        no    yes   no   \n",
       "1041   F   18     GT3       T           2          2        no     no   no   \n",
       "1042   M   17     LE3       T           2          1        no     no   no   \n",
       "1043   M   18     LE3       T           3          1        no     no   no   \n",
       "\n",
       "     activities internet romantic  famrel  freetime  goout  absences  G3  \n",
       "0            no       no       no       4         3      4         6   6  \n",
       "1            no      yes       no       5         3      3         4   6  \n",
       "2            no      yes       no       4         3      2        10  10  \n",
       "3           yes      yes      yes       3         2      2         2  15  \n",
       "4            no       no       no       4         3      2         4  10  \n",
       "...         ...      ...      ...     ...       ...    ...       ...  ..  \n",
       "1039        yes      yes       no       5         4      2         4  10  \n",
       "1040         no      yes       no       4         3      4         4  16  \n",
       "1041        yes       no       no       1         1      1         6   9  \n",
       "1042         no      yes       no       2         4      5         6  10  \n",
       "1043         no      yes       no       4         4      1         4  11  \n",
       "\n",
       "[1044 rows x 17 columns]"
      ]
     },
     "execution_count": 48,
     "metadata": {},
     "output_type": "execute_result"
    }
   ],
   "source": [
    "df = pd.read_csv(\"dataframe_exercicio_modulo_9.csv\")\n",
    "df"
   ]
  },
  {
   "cell_type": "markdown",
   "metadata": {},
   "source": [
    "Atributos do dataset:\n",
    "    \n",
    "    1- 'sex': sexo\n",
    "    \n",
    "    2- 'age': idade\n",
    "    \n",
    "    3- 'famsize': tamanho da família; LE3 - famílias com no máximo 3 pessoas, GT3 caso contrário\n",
    "    \n",
    "    4- 'Pstatus': status de habitação com os pais; T - mora junto com os pais, A - mora separado;\n",
    "    \n",
    "    5- 'traveltime': tempo de viagem entre escola e casa; \n",
    "        1 - <15 min., 2 - 15 a 30 min., 3 - 30 min. a 1 hora, or 4 - >1 hora\n",
    "        \n",
    "    6- 'studytime': tempo de estudo semanal; 1 - <2 horas, 2 - 2 a 5 horas, 3 - 5 a 10 horas, ou 4 - >10 horas\n",
    "    \n",
    "    7- 'schoolsup': suporte educacional extra escola\n",
    "    \n",
    "    8- 'famsup': suporte educacional da família\n",
    "    \n",
    "    9- 'paid': pagou aulas particulares por fora \n",
    "    \n",
    "    10- 'activities': atividades extra-curriculares\n",
    "    \n",
    "    11- 'internet': acesso a internet em casa\n",
    "    \n",
    "    12- 'romantic': se está num relacionamento\n",
    "    \n",
    "    13- 'famrel': qualidade das relações familiares; 1 - muito ruim a 5 - muito boa\n",
    "    \n",
    "    14- 'freetime': tempo livre após escola; 1 - muito pouco até 5 - muito\n",
    "    \n",
    "    15- 'goout': relaciona-se com amigos; 1 - muito pouco até 5 - muito\n",
    "    \n",
    "    16- 'absences': quantidade de faltas na escola\n",
    "    \n",
    "    17- 'G3': nota média final no ensino médio\n",
    "    \n",
    "<br>\n",
    "\n",
    "No dataset acima, faça uma __análise exploratória__ geral, bem como __pré-processamentos__ nas variáveis.\n",
    "\n",
    "Considere a variável __'G3'__ como a __variável target__ do problema - contexto de __regressão.__\n",
    "\n",
    "Teste __diferentes modelos de regressão__ a fim de explicar a variável target. Use a metodologia da __validação cruzada__ e o __coeficiente de determinação ($R^{2}$)__ como métrica de performance.\n",
    "\n",
    "Plote __gráficos__ personalizados com os resultados."
   ]
  },
  {
   "cell_type": "code",
   "execution_count": 49,
   "metadata": {},
   "outputs": [
    {
     "name": "stdout",
     "output_type": "stream",
     "text": [
      "<class 'pandas.core.frame.DataFrame'>\n",
      "RangeIndex: 1044 entries, 0 to 1043\n",
      "Data columns (total 17 columns):\n",
      " #   Column      Non-Null Count  Dtype \n",
      "---  ------      --------------  ----- \n",
      " 0   sex         1044 non-null   object\n",
      " 1   age         1044 non-null   int64 \n",
      " 2   famsize     1044 non-null   object\n",
      " 3   Pstatus     1044 non-null   object\n",
      " 4   traveltime  1044 non-null   int64 \n",
      " 5   studytime   1044 non-null   int64 \n",
      " 6   schoolsup   1044 non-null   object\n",
      " 7   famsup      1044 non-null   object\n",
      " 8   paid        1044 non-null   object\n",
      " 9   activities  1044 non-null   object\n",
      " 10  internet    1044 non-null   object\n",
      " 11  romantic    1044 non-null   object\n",
      " 12  famrel      1044 non-null   int64 \n",
      " 13  freetime    1044 non-null   int64 \n",
      " 14  goout       1044 non-null   int64 \n",
      " 15  absences    1044 non-null   int64 \n",
      " 16  G3          1044 non-null   int64 \n",
      "dtypes: int64(8), object(9)\n",
      "memory usage: 138.8+ KB\n"
     ]
    }
   ],
   "source": [
    "# analisando a composição do dataframe\n",
    "df.info()"
   ]
  },
  {
   "cell_type": "code",
   "execution_count": 50,
   "metadata": {},
   "outputs": [
    {
     "data": {
      "text/plain": [
       "sex           0\n",
       "age           0\n",
       "famsize       0\n",
       "Pstatus       0\n",
       "traveltime    0\n",
       "studytime     0\n",
       "schoolsup     0\n",
       "famsup        0\n",
       "paid          0\n",
       "activities    0\n",
       "internet      0\n",
       "romantic      0\n",
       "famrel        0\n",
       "freetime      0\n",
       "goout         0\n",
       "absences      0\n",
       "G3            0\n",
       "dtype: int64"
      ]
     },
     "execution_count": 50,
     "metadata": {},
     "output_type": "execute_result"
    }
   ],
   "source": [
    "df.isnull().sum()"
   ]
  },
  {
   "cell_type": "markdown",
   "metadata": {},
   "source": [
    "### Tratamento:\n",
    "\n",
    " - 'schoolsup': suporte educacional extra escola\n",
    " - 'famsup': suporte educacional da família\n",
    " - 'paid': pagou aulas particulares por fora \n",
    " - 'activities': atividades extra-curriculares\n",
    " - 'internet': acesso a internet em casa\n",
    " - 'romantic': se está num relacionamento"
   ]
  },
  {
   "cell_type": "code",
   "execution_count": 51,
   "metadata": {},
   "outputs": [
    {
     "name": "stdout",
     "output_type": "stream",
     "text": [
      "schoolsup: ['no', 'yes']\n",
      "famsup: ['no', 'yes']\n",
      "paid: ['no', 'yes']\n",
      "activities: ['no', 'yes']\n",
      "internet: ['no', 'yes']\n",
      "romantic: ['no', 'yes']\n"
     ]
    }
   ],
   "source": [
    "print(f'schoolsup: {sorted(df.schoolsup.unique())}')\n",
    "print(f'famsup: {sorted(df.famsup.unique())}')\n",
    "print(f'paid: {sorted(df.paid.unique())}')\n",
    "print(f'activities: {sorted(df.activities.unique())}')\n",
    "print(f'internet: {sorted(df.internet.unique())}')\n",
    "print(f'romantic: {sorted(df.romantic.unique())}')"
   ]
  },
  {
   "cell_type": "code",
   "execution_count": 52,
   "metadata": {},
   "outputs": [],
   "source": [
    "df['schoolsup'] = df['schoolsup'].apply(lambda item: 0 if item == 'no' else 1)\n",
    "df['famsup'] = df['famsup'].apply(lambda item: 0 if item == 'no' else 1)\n",
    "df['paid'] = df['paid'].apply(lambda item: 0 if item == 'no' else 1)\n",
    "df['activities'] = df['activities'].apply(lambda item: 0 if item == 'no' else 1)\n",
    "df['internet'] = df['internet'].apply(lambda item: 0 if item == 'no' else 1)\n",
    "df['romantic'] = df['romantic'].apply(lambda item: 0 if item == 'no' else 1)"
   ]
  },
  {
   "cell_type": "code",
   "execution_count": 53,
   "metadata": {},
   "outputs": [
    {
     "data": {
      "text/html": [
       "<div>\n",
       "<style scoped>\n",
       "    .dataframe tbody tr th:only-of-type {\n",
       "        vertical-align: middle;\n",
       "    }\n",
       "\n",
       "    .dataframe tbody tr th {\n",
       "        vertical-align: top;\n",
       "    }\n",
       "\n",
       "    .dataframe thead th {\n",
       "        text-align: right;\n",
       "    }\n",
       "</style>\n",
       "<table border=\"1\" class=\"dataframe\">\n",
       "  <thead>\n",
       "    <tr style=\"text-align: right;\">\n",
       "      <th></th>\n",
       "      <th>sex</th>\n",
       "      <th>age</th>\n",
       "      <th>famsize</th>\n",
       "      <th>Pstatus</th>\n",
       "      <th>traveltime</th>\n",
       "      <th>studytime</th>\n",
       "      <th>schoolsup</th>\n",
       "      <th>famsup</th>\n",
       "      <th>paid</th>\n",
       "      <th>activities</th>\n",
       "      <th>internet</th>\n",
       "      <th>romantic</th>\n",
       "      <th>famrel</th>\n",
       "      <th>freetime</th>\n",
       "      <th>goout</th>\n",
       "      <th>absences</th>\n",
       "      <th>G3</th>\n",
       "    </tr>\n",
       "  </thead>\n",
       "  <tbody>\n",
       "    <tr>\n",
       "      <th>0</th>\n",
       "      <td>F</td>\n",
       "      <td>18</td>\n",
       "      <td>GT3</td>\n",
       "      <td>A</td>\n",
       "      <td>2</td>\n",
       "      <td>2</td>\n",
       "      <td>1</td>\n",
       "      <td>0</td>\n",
       "      <td>0</td>\n",
       "      <td>0</td>\n",
       "      <td>0</td>\n",
       "      <td>0</td>\n",
       "      <td>4</td>\n",
       "      <td>3</td>\n",
       "      <td>4</td>\n",
       "      <td>6</td>\n",
       "      <td>6</td>\n",
       "    </tr>\n",
       "    <tr>\n",
       "      <th>1</th>\n",
       "      <td>F</td>\n",
       "      <td>17</td>\n",
       "      <td>GT3</td>\n",
       "      <td>T</td>\n",
       "      <td>1</td>\n",
       "      <td>2</td>\n",
       "      <td>0</td>\n",
       "      <td>1</td>\n",
       "      <td>0</td>\n",
       "      <td>0</td>\n",
       "      <td>1</td>\n",
       "      <td>0</td>\n",
       "      <td>5</td>\n",
       "      <td>3</td>\n",
       "      <td>3</td>\n",
       "      <td>4</td>\n",
       "      <td>6</td>\n",
       "    </tr>\n",
       "    <tr>\n",
       "      <th>2</th>\n",
       "      <td>F</td>\n",
       "      <td>15</td>\n",
       "      <td>LE3</td>\n",
       "      <td>T</td>\n",
       "      <td>1</td>\n",
       "      <td>2</td>\n",
       "      <td>1</td>\n",
       "      <td>0</td>\n",
       "      <td>1</td>\n",
       "      <td>0</td>\n",
       "      <td>1</td>\n",
       "      <td>0</td>\n",
       "      <td>4</td>\n",
       "      <td>3</td>\n",
       "      <td>2</td>\n",
       "      <td>10</td>\n",
       "      <td>10</td>\n",
       "    </tr>\n",
       "    <tr>\n",
       "      <th>3</th>\n",
       "      <td>F</td>\n",
       "      <td>15</td>\n",
       "      <td>GT3</td>\n",
       "      <td>T</td>\n",
       "      <td>1</td>\n",
       "      <td>3</td>\n",
       "      <td>0</td>\n",
       "      <td>1</td>\n",
       "      <td>1</td>\n",
       "      <td>1</td>\n",
       "      <td>1</td>\n",
       "      <td>1</td>\n",
       "      <td>3</td>\n",
       "      <td>2</td>\n",
       "      <td>2</td>\n",
       "      <td>2</td>\n",
       "      <td>15</td>\n",
       "    </tr>\n",
       "    <tr>\n",
       "      <th>4</th>\n",
       "      <td>F</td>\n",
       "      <td>16</td>\n",
       "      <td>GT3</td>\n",
       "      <td>T</td>\n",
       "      <td>1</td>\n",
       "      <td>2</td>\n",
       "      <td>0</td>\n",
       "      <td>1</td>\n",
       "      <td>1</td>\n",
       "      <td>0</td>\n",
       "      <td>0</td>\n",
       "      <td>0</td>\n",
       "      <td>4</td>\n",
       "      <td>3</td>\n",
       "      <td>2</td>\n",
       "      <td>4</td>\n",
       "      <td>10</td>\n",
       "    </tr>\n",
       "  </tbody>\n",
       "</table>\n",
       "</div>"
      ],
      "text/plain": [
       "  sex  age famsize Pstatus  traveltime  studytime  schoolsup  famsup  paid  \\\n",
       "0   F   18     GT3       A           2          2          1       0     0   \n",
       "1   F   17     GT3       T           1          2          0       1     0   \n",
       "2   F   15     LE3       T           1          2          1       0     1   \n",
       "3   F   15     GT3       T           1          3          0       1     1   \n",
       "4   F   16     GT3       T           1          2          0       1     1   \n",
       "\n",
       "   activities  internet  romantic  famrel  freetime  goout  absences  G3  \n",
       "0           0         0         0       4         3      4         6   6  \n",
       "1           0         1         0       5         3      3         4   6  \n",
       "2           0         1         0       4         3      2        10  10  \n",
       "3           1         1         1       3         2      2         2  15  \n",
       "4           0         0         0       4         3      2         4  10  "
      ]
     },
     "execution_count": 53,
     "metadata": {},
     "output_type": "execute_result"
    }
   ],
   "source": [
    "df.head()"
   ]
  },
  {
   "cell_type": "markdown",
   "metadata": {},
   "source": [
    "### Tratamento:\n",
    "\n",
    " - 'Pstatus': status de habitação com os pais; T - mora junto com os pais, A - mora separado."
   ]
  },
  {
   "cell_type": "code",
   "execution_count": 54,
   "metadata": {},
   "outputs": [
    {
     "data": {
      "text/plain": [
       "['A', 'T']"
      ]
     },
     "execution_count": 54,
     "metadata": {},
     "output_type": "execute_result"
    }
   ],
   "source": [
    "sorted(df.Pstatus.unique())"
   ]
  },
  {
   "cell_type": "code",
   "execution_count": 55,
   "metadata": {},
   "outputs": [],
   "source": [
    "df['Pstatus'] = df['Pstatus'].apply(lambda item: 0 if item == 'A' else 1)"
   ]
  },
  {
   "cell_type": "code",
   "execution_count": 56,
   "metadata": {},
   "outputs": [
    {
     "data": {
      "text/html": [
       "<div>\n",
       "<style scoped>\n",
       "    .dataframe tbody tr th:only-of-type {\n",
       "        vertical-align: middle;\n",
       "    }\n",
       "\n",
       "    .dataframe tbody tr th {\n",
       "        vertical-align: top;\n",
       "    }\n",
       "\n",
       "    .dataframe thead th {\n",
       "        text-align: right;\n",
       "    }\n",
       "</style>\n",
       "<table border=\"1\" class=\"dataframe\">\n",
       "  <thead>\n",
       "    <tr style=\"text-align: right;\">\n",
       "      <th></th>\n",
       "      <th>sex</th>\n",
       "      <th>age</th>\n",
       "      <th>famsize</th>\n",
       "      <th>Pstatus</th>\n",
       "      <th>traveltime</th>\n",
       "      <th>studytime</th>\n",
       "      <th>schoolsup</th>\n",
       "      <th>famsup</th>\n",
       "      <th>paid</th>\n",
       "      <th>activities</th>\n",
       "      <th>internet</th>\n",
       "      <th>romantic</th>\n",
       "      <th>famrel</th>\n",
       "      <th>freetime</th>\n",
       "      <th>goout</th>\n",
       "      <th>absences</th>\n",
       "      <th>G3</th>\n",
       "    </tr>\n",
       "  </thead>\n",
       "  <tbody>\n",
       "    <tr>\n",
       "      <th>0</th>\n",
       "      <td>F</td>\n",
       "      <td>18</td>\n",
       "      <td>GT3</td>\n",
       "      <td>0</td>\n",
       "      <td>2</td>\n",
       "      <td>2</td>\n",
       "      <td>1</td>\n",
       "      <td>0</td>\n",
       "      <td>0</td>\n",
       "      <td>0</td>\n",
       "      <td>0</td>\n",
       "      <td>0</td>\n",
       "      <td>4</td>\n",
       "      <td>3</td>\n",
       "      <td>4</td>\n",
       "      <td>6</td>\n",
       "      <td>6</td>\n",
       "    </tr>\n",
       "    <tr>\n",
       "      <th>1</th>\n",
       "      <td>F</td>\n",
       "      <td>17</td>\n",
       "      <td>GT3</td>\n",
       "      <td>1</td>\n",
       "      <td>1</td>\n",
       "      <td>2</td>\n",
       "      <td>0</td>\n",
       "      <td>1</td>\n",
       "      <td>0</td>\n",
       "      <td>0</td>\n",
       "      <td>1</td>\n",
       "      <td>0</td>\n",
       "      <td>5</td>\n",
       "      <td>3</td>\n",
       "      <td>3</td>\n",
       "      <td>4</td>\n",
       "      <td>6</td>\n",
       "    </tr>\n",
       "    <tr>\n",
       "      <th>2</th>\n",
       "      <td>F</td>\n",
       "      <td>15</td>\n",
       "      <td>LE3</td>\n",
       "      <td>1</td>\n",
       "      <td>1</td>\n",
       "      <td>2</td>\n",
       "      <td>1</td>\n",
       "      <td>0</td>\n",
       "      <td>1</td>\n",
       "      <td>0</td>\n",
       "      <td>1</td>\n",
       "      <td>0</td>\n",
       "      <td>4</td>\n",
       "      <td>3</td>\n",
       "      <td>2</td>\n",
       "      <td>10</td>\n",
       "      <td>10</td>\n",
       "    </tr>\n",
       "    <tr>\n",
       "      <th>3</th>\n",
       "      <td>F</td>\n",
       "      <td>15</td>\n",
       "      <td>GT3</td>\n",
       "      <td>1</td>\n",
       "      <td>1</td>\n",
       "      <td>3</td>\n",
       "      <td>0</td>\n",
       "      <td>1</td>\n",
       "      <td>1</td>\n",
       "      <td>1</td>\n",
       "      <td>1</td>\n",
       "      <td>1</td>\n",
       "      <td>3</td>\n",
       "      <td>2</td>\n",
       "      <td>2</td>\n",
       "      <td>2</td>\n",
       "      <td>15</td>\n",
       "    </tr>\n",
       "    <tr>\n",
       "      <th>4</th>\n",
       "      <td>F</td>\n",
       "      <td>16</td>\n",
       "      <td>GT3</td>\n",
       "      <td>1</td>\n",
       "      <td>1</td>\n",
       "      <td>2</td>\n",
       "      <td>0</td>\n",
       "      <td>1</td>\n",
       "      <td>1</td>\n",
       "      <td>0</td>\n",
       "      <td>0</td>\n",
       "      <td>0</td>\n",
       "      <td>4</td>\n",
       "      <td>3</td>\n",
       "      <td>2</td>\n",
       "      <td>4</td>\n",
       "      <td>10</td>\n",
       "    </tr>\n",
       "  </tbody>\n",
       "</table>\n",
       "</div>"
      ],
      "text/plain": [
       "  sex  age famsize  Pstatus  traveltime  studytime  schoolsup  famsup  paid  \\\n",
       "0   F   18     GT3        0           2          2          1       0     0   \n",
       "1   F   17     GT3        1           1          2          0       1     0   \n",
       "2   F   15     LE3        1           1          2          1       0     1   \n",
       "3   F   15     GT3        1           1          3          0       1     1   \n",
       "4   F   16     GT3        1           1          2          0       1     1   \n",
       "\n",
       "   activities  internet  romantic  famrel  freetime  goout  absences  G3  \n",
       "0           0         0         0       4         3      4         6   6  \n",
       "1           0         1         0       5         3      3         4   6  \n",
       "2           0         1         0       4         3      2        10  10  \n",
       "3           1         1         1       3         2      2         2  15  \n",
       "4           0         0         0       4         3      2         4  10  "
      ]
     },
     "execution_count": 56,
     "metadata": {},
     "output_type": "execute_result"
    }
   ],
   "source": [
    "df.head()"
   ]
  },
  {
   "cell_type": "markdown",
   "metadata": {},
   "source": [
    "### Tratamento:\n",
    "\n",
    " - 'sex': Sexo; M - masculino, F - feminino."
   ]
  },
  {
   "cell_type": "code",
   "execution_count": 57,
   "metadata": {},
   "outputs": [],
   "source": [
    "df['sex'] = df['sex'].apply(lambda item: 0 if item == 'F' else 1)"
   ]
  },
  {
   "cell_type": "code",
   "execution_count": 58,
   "metadata": {},
   "outputs": [
    {
     "data": {
      "text/html": [
       "<div>\n",
       "<style scoped>\n",
       "    .dataframe tbody tr th:only-of-type {\n",
       "        vertical-align: middle;\n",
       "    }\n",
       "\n",
       "    .dataframe tbody tr th {\n",
       "        vertical-align: top;\n",
       "    }\n",
       "\n",
       "    .dataframe thead th {\n",
       "        text-align: right;\n",
       "    }\n",
       "</style>\n",
       "<table border=\"1\" class=\"dataframe\">\n",
       "  <thead>\n",
       "    <tr style=\"text-align: right;\">\n",
       "      <th></th>\n",
       "      <th>sex</th>\n",
       "      <th>age</th>\n",
       "      <th>famsize</th>\n",
       "      <th>Pstatus</th>\n",
       "      <th>traveltime</th>\n",
       "      <th>studytime</th>\n",
       "      <th>schoolsup</th>\n",
       "      <th>famsup</th>\n",
       "      <th>paid</th>\n",
       "      <th>activities</th>\n",
       "      <th>internet</th>\n",
       "      <th>romantic</th>\n",
       "      <th>famrel</th>\n",
       "      <th>freetime</th>\n",
       "      <th>goout</th>\n",
       "      <th>absences</th>\n",
       "      <th>G3</th>\n",
       "    </tr>\n",
       "  </thead>\n",
       "  <tbody>\n",
       "    <tr>\n",
       "      <th>0</th>\n",
       "      <td>0</td>\n",
       "      <td>18</td>\n",
       "      <td>GT3</td>\n",
       "      <td>0</td>\n",
       "      <td>2</td>\n",
       "      <td>2</td>\n",
       "      <td>1</td>\n",
       "      <td>0</td>\n",
       "      <td>0</td>\n",
       "      <td>0</td>\n",
       "      <td>0</td>\n",
       "      <td>0</td>\n",
       "      <td>4</td>\n",
       "      <td>3</td>\n",
       "      <td>4</td>\n",
       "      <td>6</td>\n",
       "      <td>6</td>\n",
       "    </tr>\n",
       "    <tr>\n",
       "      <th>1</th>\n",
       "      <td>0</td>\n",
       "      <td>17</td>\n",
       "      <td>GT3</td>\n",
       "      <td>1</td>\n",
       "      <td>1</td>\n",
       "      <td>2</td>\n",
       "      <td>0</td>\n",
       "      <td>1</td>\n",
       "      <td>0</td>\n",
       "      <td>0</td>\n",
       "      <td>1</td>\n",
       "      <td>0</td>\n",
       "      <td>5</td>\n",
       "      <td>3</td>\n",
       "      <td>3</td>\n",
       "      <td>4</td>\n",
       "      <td>6</td>\n",
       "    </tr>\n",
       "    <tr>\n",
       "      <th>2</th>\n",
       "      <td>0</td>\n",
       "      <td>15</td>\n",
       "      <td>LE3</td>\n",
       "      <td>1</td>\n",
       "      <td>1</td>\n",
       "      <td>2</td>\n",
       "      <td>1</td>\n",
       "      <td>0</td>\n",
       "      <td>1</td>\n",
       "      <td>0</td>\n",
       "      <td>1</td>\n",
       "      <td>0</td>\n",
       "      <td>4</td>\n",
       "      <td>3</td>\n",
       "      <td>2</td>\n",
       "      <td>10</td>\n",
       "      <td>10</td>\n",
       "    </tr>\n",
       "    <tr>\n",
       "      <th>3</th>\n",
       "      <td>0</td>\n",
       "      <td>15</td>\n",
       "      <td>GT3</td>\n",
       "      <td>1</td>\n",
       "      <td>1</td>\n",
       "      <td>3</td>\n",
       "      <td>0</td>\n",
       "      <td>1</td>\n",
       "      <td>1</td>\n",
       "      <td>1</td>\n",
       "      <td>1</td>\n",
       "      <td>1</td>\n",
       "      <td>3</td>\n",
       "      <td>2</td>\n",
       "      <td>2</td>\n",
       "      <td>2</td>\n",
       "      <td>15</td>\n",
       "    </tr>\n",
       "    <tr>\n",
       "      <th>4</th>\n",
       "      <td>0</td>\n",
       "      <td>16</td>\n",
       "      <td>GT3</td>\n",
       "      <td>1</td>\n",
       "      <td>1</td>\n",
       "      <td>2</td>\n",
       "      <td>0</td>\n",
       "      <td>1</td>\n",
       "      <td>1</td>\n",
       "      <td>0</td>\n",
       "      <td>0</td>\n",
       "      <td>0</td>\n",
       "      <td>4</td>\n",
       "      <td>3</td>\n",
       "      <td>2</td>\n",
       "      <td>4</td>\n",
       "      <td>10</td>\n",
       "    </tr>\n",
       "  </tbody>\n",
       "</table>\n",
       "</div>"
      ],
      "text/plain": [
       "   sex  age famsize  Pstatus  traveltime  studytime  schoolsup  famsup  paid  \\\n",
       "0    0   18     GT3        0           2          2          1       0     0   \n",
       "1    0   17     GT3        1           1          2          0       1     0   \n",
       "2    0   15     LE3        1           1          2          1       0     1   \n",
       "3    0   15     GT3        1           1          3          0       1     1   \n",
       "4    0   16     GT3        1           1          2          0       1     1   \n",
       "\n",
       "   activities  internet  romantic  famrel  freetime  goout  absences  G3  \n",
       "0           0         0         0       4         3      4         6   6  \n",
       "1           0         1         0       5         3      3         4   6  \n",
       "2           0         1         0       4         3      2        10  10  \n",
       "3           1         1         1       3         2      2         2  15  \n",
       "4           0         0         0       4         3      2         4  10  "
      ]
     },
     "execution_count": 58,
     "metadata": {},
     "output_type": "execute_result"
    }
   ],
   "source": [
    "df.head()"
   ]
  },
  {
   "cell_type": "code",
   "execution_count": 59,
   "metadata": {},
   "outputs": [
    {
     "name": "stdout",
     "output_type": "stream",
     "text": [
      "<class 'pandas.core.frame.DataFrame'>\n",
      "RangeIndex: 1044 entries, 0 to 1043\n",
      "Data columns (total 17 columns):\n",
      " #   Column      Non-Null Count  Dtype \n",
      "---  ------      --------------  ----- \n",
      " 0   sex         1044 non-null   int64 \n",
      " 1   age         1044 non-null   int64 \n",
      " 2   famsize     1044 non-null   object\n",
      " 3   Pstatus     1044 non-null   int64 \n",
      " 4   traveltime  1044 non-null   int64 \n",
      " 5   studytime   1044 non-null   int64 \n",
      " 6   schoolsup   1044 non-null   int64 \n",
      " 7   famsup      1044 non-null   int64 \n",
      " 8   paid        1044 non-null   int64 \n",
      " 9   activities  1044 non-null   int64 \n",
      " 10  internet    1044 non-null   int64 \n",
      " 11  romantic    1044 non-null   int64 \n",
      " 12  famrel      1044 non-null   int64 \n",
      " 13  freetime    1044 non-null   int64 \n",
      " 14  goout       1044 non-null   int64 \n",
      " 15  absences    1044 non-null   int64 \n",
      " 16  G3          1044 non-null   int64 \n",
      "dtypes: int64(16), object(1)\n",
      "memory usage: 138.8+ KB\n"
     ]
    }
   ],
   "source": [
    "#verificando o tratamento dos dados\n",
    "df.info()"
   ]
  },
  {
   "cell_type": "code",
   "execution_count": 60,
   "metadata": {},
   "outputs": [
    {
     "data": {
      "text/plain": [
       "sex          -0.031472\n",
       "age          -0.125282\n",
       "Pstatus      -0.030693\n",
       "traveltime   -0.102627\n",
       "studytime     0.161629\n",
       "schoolsup    -0.079346\n",
       "famsup        0.013313\n",
       "paid         -0.049388\n",
       "activities    0.033998\n",
       "internet      0.107064\n",
       "romantic     -0.098363\n",
       "famrel        0.054461\n",
       "freetime     -0.064890\n",
       "goout        -0.097877\n",
       "absences     -0.045671\n",
       "G3            1.000000\n",
       "Name: G3, dtype: float64"
      ]
     },
     "execution_count": 60,
     "metadata": {},
     "output_type": "execute_result"
    }
   ],
   "source": [
    "#verificando a correlação com a variável target\n",
    "df.corr()['G3']"
   ]
  },
  {
   "cell_type": "code",
   "execution_count": 61,
   "metadata": {},
   "outputs": [
    {
     "name": "stdout",
     "output_type": "stream",
     "text": [
      "(1044, 17)\n",
      "(783, 17)\n",
      "(261, 17)\n"
     ]
    }
   ],
   "source": [
    "# separação de 25% dos dados para teste\n",
    "\n",
    "dftrain, dftest = train_test_split(df, test_size = 0.25, random_state = 0)\n",
    "print(df.shape)\n",
    "print(dftrain.shape)\n",
    "print(dftest.shape)"
   ]
  },
  {
   "cell_type": "code",
   "execution_count": 62,
   "metadata": {},
   "outputs": [],
   "source": [
    "# encapsular etapas numa função única de processamento dos dados, a fim de automatizar o processo:\n",
    "\n",
    "def preprocessamento_completo(df, dataset_de_treino = True, cat_encoder = None, std_scaler = None):\n",
    "\n",
    "    dff = df.copy()\n",
    "    \n",
    "    variaveis_para_normalizar = ['sex',\n",
    "                                 'age',\n",
    "                                 'Pstatus',\n",
    "                                 'traveltime',\n",
    "                                 'studytime',\n",
    "                                 'schoolsup',\n",
    "                                 'famsup',\n",
    "                                 'paid',\n",
    "                                 'activities',\n",
    "                                 'internet',\n",
    "                                 'romantic',\n",
    "                                 'famrel',\n",
    "                                 'freetime',\n",
    "                                 'goout',\n",
    "                                 'absences']\n",
    "\n",
    "    if dataset_de_treino:  \n",
    "        \n",
    "        #OHE\n",
    "        encoder = OneHotEncoder()\n",
    "        df_famsize_OHE = encoder.fit_transform(dff[['famsize']]).toarray()\n",
    "        \n",
    "\n",
    "        #normalização\n",
    "        sc = StandardScaler()\n",
    "        variaveis_norm = sc.fit_transform(dff[variaveis_para_normalizar])\n",
    "        \n",
    "        X, y =  dff['studytime'].values.reshape(-1,1), dff.G3.values\n",
    "        return X, y, encoder, sc\n",
    "    \n",
    "    else:\n",
    "        #OHE\n",
    "        df_famsize_OHE = cat_encoder.transform(dff[['famsize']]).toarray()\n",
    "        \n",
    "        #normalização\n",
    "        variaveis_norm = std_scaler.transform(dff[variaveis_para_normalizar]) \n",
    "        \n",
    "        X, y =  dff['studytime'].values.reshape(-1,1), dff.G3.values\n",
    "        return X, y"
   ]
  },
  {
   "cell_type": "code",
   "execution_count": 63,
   "metadata": {},
   "outputs": [],
   "source": [
    "Xtrain, ytrain, encoder_train, scaler_train  = preprocessamento_completo(df = dftrain, \n",
    "                                                                         dataset_de_treino = True, \n",
    "                                                                         cat_encoder = None, \n",
    "                                                                         std_scaler = None)"
   ]
  },
  {
   "cell_type": "markdown",
   "metadata": {},
   "source": [
    "A função acima, além de retornar os arrays Xtrain, ytrain já devidamente preprocessados e prontos para serem consumidos pelos modelos de aprendizado de máquina, retornam os objetos encoder_train e scaler_train, que foram fitados com as informações advindas do dataset de treino - dftrain"
   ]
  },
  {
   "cell_type": "code",
   "execution_count": 64,
   "metadata": {},
   "outputs": [
    {
     "data": {
      "text/plain": [
       "((783, 1), (783,), (783, 17))"
      ]
     },
     "execution_count": 64,
     "metadata": {},
     "output_type": "execute_result"
    }
   ],
   "source": [
    "Xtrain.shape, ytrain.shape, dftrain.shape"
   ]
  },
  {
   "cell_type": "code",
   "execution_count": 65,
   "metadata": {},
   "outputs": [],
   "source": [
    "# Abaixo, iremos aplicar as transformações no dataset de teste - dataset que iremos usar apenas no final do notebook, \n",
    "# após a escolha do modelo de aprendizado de máquina final.\n",
    "Xtest, ytest = preprocessamento_completo(df = dftest, \n",
    "                                         dataset_de_treino = False, \n",
    "                                         cat_encoder = encoder_train, \n",
    "                                         std_scaler = scaler_train)"
   ]
  },
  {
   "cell_type": "code",
   "execution_count": 66,
   "metadata": {},
   "outputs": [
    {
     "data": {
      "text/plain": [
       "((261, 1), (261,), (261, 17))"
      ]
     },
     "execution_count": 66,
     "metadata": {},
     "output_type": "execute_result"
    }
   ],
   "source": [
    "Xtest.shape, ytest.shape, dftest.shape"
   ]
  },
  {
   "cell_type": "code",
   "execution_count": 67,
   "metadata": {},
   "outputs": [],
   "source": [
    "# construir as métricas de performance que iremos acompanhar.\n",
    "def RMSE(ytrue, ypred):\n",
    "    return np.sqrt(mean_squared_error(y_true = ytrue, y_pred = ypred))"
   ]
  },
  {
   "cell_type": "code",
   "execution_count": 68,
   "metadata": {},
   "outputs": [
    {
     "data": {
      "text/plain": [
       "LinearRegression()"
      ]
     },
     "execution_count": 68,
     "metadata": {},
     "output_type": "execute_result"
    }
   ],
   "source": [
    "# Vamos começar por treinar o modelo de regressão linear nos dados e avaliar o RMSE e o R2 nos dados de treino:\n",
    "lin_reg = LinearRegression()\n",
    "lin_reg.fit(Xtrain, ytrain)"
   ]
  },
  {
   "cell_type": "code",
   "execution_count": 69,
   "metadata": {},
   "outputs": [
    {
     "data": {
      "text/plain": [
       "3.9999792282178364"
      ]
     },
     "execution_count": 69,
     "metadata": {},
     "output_type": "execute_result"
    }
   ],
   "source": [
    "RMSE(ytrue = ytrain, ypred = lin_reg.predict(Xtrain))"
   ]
  },
  {
   "cell_type": "code",
   "execution_count": 70,
   "metadata": {},
   "outputs": [
    {
     "data": {
      "text/plain": [
       "0.02098665409244993"
      ]
     },
     "execution_count": 70,
     "metadata": {},
     "output_type": "execute_result"
    }
   ],
   "source": [
    "r2_score(y_true=ytrain, y_pred=lin_reg.predict(Xtrain))"
   ]
  },
  {
   "cell_type": "code",
   "execution_count": 71,
   "metadata": {},
   "outputs": [
    {
     "name": "stdout",
     "output_type": "stream",
     "text": [
      "K = 1 | RMSE:4.79 / R2: -0.4\n",
      "K = 2 | RMSE:4.45 / R2: -0.21\n",
      "K = 5 | RMSE:4.11 / R2: -0.03\n",
      "K = 10 | RMSE:4.06 / R2: -0.01\n",
      "K = 20 | RMSE:4.02 / R2: 0.01\n",
      "K = 50 | RMSE:4.02 / R2: 0.01\n"
     ]
    }
   ],
   "source": [
    "# Agora, vamos testar algumas versões do KNN, considerando diferentes números de vizinhos.\n",
    "# Iremos também testar algumas versões das árvores de decisão - para fins de comparação.\n",
    "\n",
    "num_vizinhos = [1, 2, 5, 10, 20, 50]\n",
    "\n",
    "for n in num_vizinhos:\n",
    "    knn = KNeighborsRegressor(n_neighbors = n)\n",
    "    knn.fit(Xtrain, ytrain)\n",
    "    \n",
    "    preds = knn.predict(Xtrain)\n",
    "    \n",
    "    rmse_train = RMSE(ytrue = ytrain, ypred = preds)\n",
    "    r2_train = r2_score(y_true = ytrain, y_pred = preds)\n",
    "    \n",
    "    print(\"K = \" + str(n) + \" | RMSE:\" + str(np.round(rmse_train,2)) + \" / R2: \"+ str(np.round(r2_train, 2)))"
   ]
  },
  {
   "cell_type": "code",
   "execution_count": 72,
   "metadata": {},
   "outputs": [
    {
     "name": "stdout",
     "output_type": "stream",
     "text": [
      "Profundidade da árvore = 1 | RMSE:4.0 / R2: 0.02\n",
      "Profundidade da árvore = 5 | RMSE:3.99 / R2: 0.02\n",
      "Profundidade da árvore = 10 | RMSE:3.99 / R2: 0.02\n",
      "Profundidade da árvore = 100 | RMSE:3.99 / R2: 0.02\n"
     ]
    }
   ],
   "source": [
    "# hiperparâmetro max_depth, que seria a \"profundidade da árvore\"\n",
    "\n",
    "max_profundidades = [1, 5, 10, 100]\n",
    "\n",
    "for m in max_profundidades:\n",
    "    dt = DecisionTreeRegressor(max_depth = m)\n",
    "    dt.fit(Xtrain, ytrain)\n",
    "    \n",
    "    preds = dt.predict(Xtrain)\n",
    "    \n",
    "    rmse_train = RMSE(ytrue = ytrain, ypred = preds)\n",
    "    r2_train = r2_score(y_true = ytrain, y_pred = preds)\n",
    "    \n",
    "    print(\"Profundidade da árvore = \" + str(m) + \" | RMSE:\" + str(np.round(rmse_train,2)) + \" / R2: \"+ str(np.round(r2_train, 2)))"
   ]
  },
  {
   "cell_type": "code",
   "execution_count": 73,
   "metadata": {},
   "outputs": [
    {
     "name": "stdout",
     "output_type": "stream",
     "text": [
      "[ 0.01148281  0.02337383  0.03210858 -0.03789039  0.0343892 ]\n",
      "media:  0.012692803673659148\n",
      "desvio padrão:  0.02654021180540597\n"
     ]
    }
   ],
   "source": [
    "# aplicação da validação cruzada para a regressão linear em nosso problema, \n",
    "# considerando 5 folds e o R2 como a métrica de performance a ser medida\n",
    "\n",
    "cv_lin_reg = cross_val_score(estimator = LinearRegression(), \n",
    "                             X = Xtrain, \n",
    "                             y = ytrain, \n",
    "                             cv = 5, \n",
    "                             scoring = 'r2')\n",
    "print(cv_lin_reg)\n",
    "print('media: ', cv_lin_reg.mean())\n",
    "print('desvio padrão: ', cv_lin_reg.std())"
   ]
  },
  {
   "cell_type": "code",
   "execution_count": 74,
   "metadata": {},
   "outputs": [],
   "source": [
    "# criar uma função para facilitar nossas análises dos modelos:\n",
    "\n",
    "def cross_validation_R2_results(modelo, nome_modelo, X, y, num_folds):\n",
    "    cv_results = cross_val_score(estimator = modelo, \n",
    "                                 X = Xtrain, \n",
    "                                 y = ytrain, \n",
    "                                 cv = num_folds, \n",
    "                                 scoring = 'r2') \n",
    "    modelo.fit(Xtrain, ytrain)\n",
    "    r2_train = r2_score(y_true=ytrain, y_pred=modelo.predict(Xtrain))\n",
    "    plt.figure(figsize=[8,6])\n",
    "    plt.scatter(range(1, 1+num_folds), cv_results, c = 'blue', s = 100)\n",
    "    plt.plot(range(1, 1+num_folds), cv_results, c = 'blue', lw = 2, label = 'R2 Fold')\n",
    "    plt.xticks(range(1, 1+num_folds))\n",
    "    plt.yticks(np.arange(0, 1.1, 0.1))\n",
    "    plt.plot(range(1, 1+num_folds), [cv_results.mean()] * num_folds, c = 'red', lw = 2, label = 'R2 Cross-val Médio')\n",
    "    \n",
    "    \n",
    "    plt.plot(range(1, 1+num_folds), [cv_results.mean() + cv_results.std()] * num_folds, '--',\n",
    "             c = 'gray', lw = 2, label = '+1 desv. padrão margem')\n",
    "    plt.plot(range(1, 1+num_folds), [cv_results.mean() - cv_results.std()] * num_folds, '--',\n",
    "             c = 'gray', lw = 2, label = '-1 desv. padrão margem')\n",
    "    \n",
    "    plt.plot(range(1, 1+num_folds), [r2_train] * num_folds, '--' ,c = 'black', lw = 3, label = 'R2 Treino')\n",
    "    plt.legend(fontsize = 10, bbox_to_anchor = [1.4,1.])\n",
    "    plt.ylim([0,1.05])\n",
    "    plt.grid()\n",
    "    plt.ylabel(\"R2 Score\", fontsize = 14, fontweight = 'bold')\n",
    "    plt.xlabel(\"Folds\", fontsize = 14, fontweight = 'bold')\n",
    "    plt.title(nome_modelo + \" | R2 TREINO/VAL: \"+ str(np.round(r2_train,2)) +\" / \"+ str(np.round(cv_results.mean(),2)),\n",
    "              fontsize = 14, fontweight = 'bold')\n",
    "    plt.show()"
   ]
  },
  {
   "cell_type": "code",
   "execution_count": 75,
   "metadata": {},
   "outputs": [
    {
     "data": {
      "image/png": "[encoded data removed]",
      "text/plain": [
       "<Figure size 576x432 with 1 Axes>"
      ]
     },
     "metadata": {
      "needs_background": "light"
     },
     "output_type": "display_data"
    }
   ],
   "source": [
    "# Aplicando a função acima nos modelos que estamos considerando:\n",
    "\n",
    "cross_validation_R2_results(modelo = LinearRegression(),\n",
    "                           nome_modelo = 'Regressão Linear',\n",
    "                           X = Xtrain, \n",
    "                           y = ytrain, \n",
    "                           num_folds = 5)"
   ]
  },
  {
   "cell_type": "code",
   "execution_count": 76,
   "metadata": {},
   "outputs": [
    {
     "data": {
      "image/png": "[encoded data removed]",
      "text/plain": [
       "<Figure size 576x432 with 1 Axes>"
      ]
     },
     "metadata": {
      "needs_background": "light"
     },
     "output_type": "display_data"
    }
   ],
   "source": [
    "cross_validation_R2_results(modelo = KNeighborsRegressor(n_neighbors = 1),\n",
    "                           nome_modelo = 'KNN(K = 1)',\n",
    "                           X = Xtrain, \n",
    "                           y = ytrain, \n",
    "                           num_folds = 5)"
   ]
  },
  {
   "cell_type": "code",
   "execution_count": 77,
   "metadata": {},
   "outputs": [
    {
     "data": {
      "image/png": "[encoded data removed]",
      "text/plain": [
       "<Figure size 576x432 with 1 Axes>"
      ]
     },
     "metadata": {
      "needs_background": "light"
     },
     "output_type": "display_data"
    }
   ],
   "source": [
    "cross_validation_R2_results(modelo = KNeighborsRegressor(n_neighbors = 10),\n",
    "                           nome_modelo = 'KNN(K = 10)',\n",
    "                           X = Xtrain, \n",
    "                           y = ytrain, \n",
    "                           num_folds = 5)"
   ]
  },
  {
   "cell_type": "code",
   "execution_count": 78,
   "metadata": {},
   "outputs": [
    {
     "data": {
      "image/png": "[encoded data removed]",
      "text/plain": [
       "<Figure size 576x432 with 1 Axes>"
      ]
     },
     "metadata": {
      "needs_background": "light"
     },
     "output_type": "display_data"
    }
   ],
   "source": [
    "cross_validation_R2_results(modelo = DecisionTreeRegressor(max_depth = 1),\n",
    "                           nome_modelo = 'DecTree(max_depth = 1)',\n",
    "                           X = Xtrain, \n",
    "                           y = ytrain, \n",
    "                           num_folds = 5)"
   ]
  },
  {
   "cell_type": "code",
   "execution_count": 79,
   "metadata": {},
   "outputs": [
    {
     "data": {
      "image/png": "[encoded data removed]",
      "text/plain": [
       "<Figure size 576x432 with 1 Axes>"
      ]
     },
     "metadata": {
      "needs_background": "light"
     },
     "output_type": "display_data"
    }
   ],
   "source": [
    "cross_validation_R2_results(modelo = DecisionTreeRegressor(max_depth = 5),\n",
    "                           nome_modelo = 'DecTree(max_depth = 5)',\n",
    "                           X = Xtrain, \n",
    "                           y = ytrain, \n",
    "                           num_folds = 5)"
   ]
  },
  {
   "cell_type": "code",
   "execution_count": 80,
   "metadata": {},
   "outputs": [
    {
     "data": {
      "image/png": "[encoded data removed]",
      "text/plain": [
       "<Figure size 576x432 with 1 Axes>"
      ]
     },
     "metadata": {
      "needs_background": "light"
     },
     "output_type": "display_data"
    }
   ],
   "source": [
    "cross_validation_R2_results(modelo = DecisionTreeRegressor(max_depth = 10),\n",
    "                           nome_modelo = 'DecTree(max_depth = 10)',\n",
    "                           X = Xtrain, \n",
    "                           y = ytrain, \n",
    "                           num_folds = 5)"
   ]
  },
  {
   "cell_type": "code",
   "execution_count": 81,
   "metadata": {},
   "outputs": [
    {
     "data": {
      "image/png": "[encoded data removed]",
      "text/plain": [
       "<Figure size 576x432 with 1 Axes>"
      ]
     },
     "metadata": {
      "needs_background": "light"
     },
     "output_type": "display_data"
    }
   ],
   "source": [
    "cross_validation_R2_results(modelo = DecisionTreeRegressor(max_depth = 100),\n",
    "                           nome_modelo = 'DecTree(max_depth = 100)',\n",
    "                           X = Xtrain, \n",
    "                           y = ytrain, \n",
    "                           num_folds = 5)"
   ]
  },
  {
   "cell_type": "markdown",
   "metadata": {},
   "source": [
    "Diante dos resultados acima, vemos que as instâncias do KNN estão realmente underfitando os dados de treino.\n",
    "\n",
    "Além disso, vemos que a regressão linear obteve uma performance ok, mas sendo superada pelo DecisionTreeRegressor(max_depth = 10), o qual vamos considerar que nosso modelo final.\n",
    "\n",
    "Nesta etapa final, vamos treiná-la novamente, usando todo o conjunto de treinamento e finalmente iremos avaliar as métricas (R2) no conjunto de teste:"
   ]
  },
  {
   "cell_type": "code",
   "execution_count": 82,
   "metadata": {},
   "outputs": [
    {
     "data": {
      "text/plain": [
       "DecisionTreeRegressor(max_depth=10)"
      ]
     },
     "execution_count": 82,
     "metadata": {},
     "output_type": "execute_result"
    }
   ],
   "source": [
    "modelo_final = DecisionTreeRegressor(max_depth = 10)\n",
    "modelo_final.fit(Xtrain, ytrain)"
   ]
  },
  {
   "cell_type": "code",
   "execution_count": 83,
   "metadata": {},
   "outputs": [],
   "source": [
    "preds_modelo_final = modelo_final.predict(Xtest)"
   ]
  },
  {
   "cell_type": "code",
   "execution_count": 84,
   "metadata": {},
   "outputs": [
    {
     "data": {
      "text/plain": [
       "0.03864522797822678"
      ]
     },
     "execution_count": 84,
     "metadata": {},
     "output_type": "execute_result"
    }
   ],
   "source": [
    "#R2 em teste\n",
    "\n",
    "r2_score(y_true = ytest, y_pred = preds_modelo_final)"
   ]
  },
  {
   "cell_type": "code",
   "execution_count": 85,
   "metadata": {},
   "outputs": [
    {
     "data": {
      "text/plain": [
       "3.1874726831282687"
      ]
     },
     "execution_count": 85,
     "metadata": {},
     "output_type": "execute_result"
    }
   ],
   "source": [
    "rmse_teste_final = RMSE(ytrue = ytest, ypred = preds_modelo_final)\n",
    "rmse_teste_final"
   ]
  },
  {
   "cell_type": "markdown",
   "metadata": {},
   "source": [
    "Para finalizar as análises, vamos olhar a dispersão dos preços reais no dataset de teste comparado com os preços preditos pelo modelo; vamos também calcular o RMSE para quantificar, em média, qual o tamanho do erro desses preços:"
   ]
  },
  {
   "cell_type": "code",
   "execution_count": 86,
   "metadata": {},
   "outputs": [
    {
     "data": {
      "image/png": "[encoded data removed]",
      "text/plain": [
       "<Figure size 576x576 with 1 Axes>"
      ]
     },
     "metadata": {
      "needs_background": "light"
     },
     "output_type": "display_data"
    }
   ],
   "source": [
    "plt.figure(figsize=[8,8])\n",
    "plt.title(\"Modelo Final ~ RMSE: \" + str(np.round(rmse_teste_final,2)), fontweight = 'bold', fontsize = 14)\n",
    "plt.scatter(ytest, preds_modelo_final)\n",
    "plt.xlabel(\"Target Real - Dados de Teste\", fontweight = 'bold', fontsize = 14)\n",
    "plt.ylabel(\"Predições - Dados de Teste\", fontweight = 'bold', fontsize = 14)\n",
    "plt.grid()\n",
    "range_line = int(np.maximum(max(ytest), max(preds_modelo_final)))\n",
    "plt.plot(range(1, range_line), range(1, range_line), '--' ,c = 'black', lw = 3)\n",
    "plt.show()"
   ]
  },
  {
   "cell_type": "markdown",
   "metadata": {},
   "source": [
    "Conclusão: o modelo de predição não funcionou, provavelmente porque a relação entre as variáveis é baixa."
   ]
  },
  {
   "cell_type": "markdown",
   "metadata": {},
   "source": [
    "----"
   ]
  }
 ],
 "metadata": {
  "kernelspec": {
   "display_name": "Python 3 (ipykernel)",
   "language": "python",
   "name": "python3"
  },
  "language_info": {
   "codemirror_mode": {
    "name": "ipython",
    "version": 3
   },
   "file_extension": ".py",
   "mimetype": "text/x-python",
   "name": "python",
   "nbconvert_exporter": "python",
   "pygments_lexer": "ipython3",
   "version": "3.9.12"
  }
 },
 "nbformat": 4,
 "nbformat_minor": 2
}
