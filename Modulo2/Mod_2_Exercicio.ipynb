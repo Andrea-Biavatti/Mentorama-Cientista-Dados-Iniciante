{
  "cells": [
    {
      "cell_type": "markdown",
      "metadata": {
        "id": "iD7_jDNb7g20"
      },
      "source": [
        "## Exercício 1\n"
      ]
    },
    {
      "cell_type": "code",
      "source": [
        "a = 'nome'\n",
        "b = 'Nome'\n",
        "a == 'Nome' and b == 'Nome'"
      ],
      "metadata": {
        "colab": {
          "base_uri": "https://localhost:8080/"
        },
        "id": "CKrC2aoZ78Pl",
        "outputId": "dd42cc98-c621-4987-9aaf-fccc7464b2be"
      },
      "execution_count": 3,
      "outputs": [
        {
          "output_type": "execute_result",
          "data": {
            "text/plain": [
              "False"
            ]
          },
          "metadata": {},
          "execution_count": 3
        }
      ]
    },
    {
      "cell_type": "code",
      "source": [
        "c = 2\n",
        "d = 5\n",
        "print(d%c)"
      ],
      "metadata": {
        "colab": {
          "base_uri": "https://localhost:8080/"
        },
        "id": "8kL1_U7W81qF",
        "outputId": "4ba13f8d-2e92-4914-d733-c11cefe8eaf2"
      },
      "execution_count": 5,
      "outputs": [
        {
          "output_type": "stream",
          "name": "stdout",
          "text": [
            "1\n"
          ]
        }
      ]
    },
    {
      "cell_type": "markdown",
      "metadata": {
        "id": "o2OyvjQi9QaS"
      },
      "source": [
        "## Exercício 2\n"
      ]
    },
    {
      "cell_type": "code",
      "execution_count": 7,
      "metadata": {
        "colab": {
          "base_uri": "https://localhost:8080/"
        },
        "id": "rEvB9BxP7g29",
        "outputId": "fedc0112-0ada-4fa3-d0da-b85d7a5a82f8"
      },
      "outputs": [
        {
          "output_type": "execute_result",
          "data": {
            "text/plain": [
              "4"
            ]
          },
          "metadata": {},
          "execution_count": 7
        }
      ],
      "source": [
        "lista_nomes = ['João','Maria','José','Maria']\n",
        "len(lista_nomes)"
      ]
    },
    {
      "cell_type": "code",
      "source": [
        "conj_lista_nomes = set(lista_nomes)\n",
        "print(conj_lista_nomes)\n",
        "len(conj_lista_nomes)"
      ],
      "metadata": {
        "colab": {
          "base_uri": "https://localhost:8080/"
        },
        "id": "Mql3Pmn-98AT",
        "outputId": "4f3b3c5c-36a6-4f0b-c0f6-06d48199827d"
      },
      "execution_count": 8,
      "outputs": [
        {
          "output_type": "stream",
          "name": "stdout",
          "text": [
            "{'João', 'Maria', 'José'}\n"
          ]
        },
        {
          "output_type": "execute_result",
          "data": {
            "text/plain": [
              "3"
            ]
          },
          "metadata": {},
          "execution_count": 8
        }
      ]
    },
    {
      "cell_type": "markdown",
      "metadata": {
        "id": "5GY3zafV-ZO-"
      },
      "source": [
        "## Exercício 3\n"
      ]
    },
    {
      "cell_type": "code",
      "source": [
        "loja = {'Maria': ['perfume', 'flores', 'chocolate'], 'João': ['cerveja','refrigerante'], 'Pedro': ['sabão','detergente']}\n",
        "print(loja)"
      ],
      "metadata": {
        "colab": {
          "base_uri": "https://localhost:8080/"
        },
        "id": "idjUQ9ip_8nT",
        "outputId": "58055636-82a3-4340-bdfd-5435183f6cad"
      },
      "execution_count": 14,
      "outputs": [
        {
          "output_type": "stream",
          "name": "stdout",
          "text": [
            "{'Maria': ['perfume', 'flores', 'chocolate'], 'João': ['cerveja', 'refrigerante'], 'Pedro': ['sabão', 'detergente']}\n"
          ]
        }
      ]
    }
  ],
  "metadata": {
    "kernelspec": {
      "display_name": "Python 3",
      "language": "python",
      "name": "python3"
    },
    "language_info": {
      "codemirror_mode": {
        "name": "ipython",
        "version": 3
      },
      "file_extension": ".py",
      "mimetype": "text/x-python",
      "name": "python",
      "nbconvert_exporter": "python",
      "pygments_lexer": "ipython3",
      "version": "3.8.3"
    },
    "colab": {
      "name": "Mod_2_Exercicio.ipynb",
      "provenance": [],
      "collapsed_sections": []
    }
  },
  "nbformat": 4,
  "nbformat_minor": 0
}